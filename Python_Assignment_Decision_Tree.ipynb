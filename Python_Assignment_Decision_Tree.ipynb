{
  "nbformat": 4,
  "nbformat_minor": 0,
  "metadata": {
    "colab": {
      "name": "Python Assignment_Decision Tree.ipynb",
      "provenance": [],
      "collapsed_sections": [],
      "authorship_tag": "ABX9TyO7SZo0L1M4FaUF6IUT2jgP",
      "include_colab_link": true
    },
    "kernelspec": {
      "name": "python3",
      "display_name": "Python 3"
    }
  },
  "cells": [
    {
      "cell_type": "markdown",
      "metadata": {
        "id": "view-in-github",
        "colab_type": "text"
      },
      "source": [
        "<a href=\"https://colab.research.google.com/github/SrinivasanNikhil/DataLiteracy/blob/master/Python_Assignment_Decision_Tree.ipynb\" target=\"_parent\"><img src=\"https://colab.research.google.com/assets/colab-badge.svg\" alt=\"Open In Colab\"/></a>"
      ]
    },
    {
      "cell_type": "markdown",
      "metadata": {
        "id": "WMns8Bv-Gs3E",
        "colab_type": "text"
      },
      "source": [
        "#  Assignment (Decision Tree implementation)\n",
        "\n",
        "In this assignment you have to implment the decision logic for the following decision tree (borrowed from a site)\n",
        "\n",
        "![Decision tree](https://d1jnx9ba8s6j9r.cloudfront.net/blog/wp-content/uploads/2015/01/Decision-Tree-Example-7-Decision-tree-Edureka.png)\n",
        "\n",
        "The goal of the decision tree is help identify whether a student purchases a computer or not. To that end there are some questions that need to be asked prior to the identification of the decision on computer purchase.\n",
        "\n",
        "In your python script you will do the following.\n",
        "\n",
        "1. Require a set of 4 inputs from the user\n",
        "        a. Income\n",
        "        b. Age\n",
        "        c. Credit Rating\n",
        "        d. Student or not\n",
        "\n",
        "2. Based on the set of inputs build a decision tree (if-elif-else) that identifies whether the individual is likely to purchase a computer or not.\n",
        "\n",
        "3. The boundaries for the inputs and the decision tree are as follows\n",
        "        a. Income - numerical data - Low income ( 0 - 25000), Medium income ( 25001 - 50000), High income ( 50001 +)\n",
        "        b. Age - numerical data based on the data in the decision tree\n",
        "        c. Credit Rating - Numerical data - Poor (<= 550), Fair (551 - 700), Excellent (701 +)\n",
        "\n",
        "\n",
        "Complete the script and provide code as a python ipynb file uploaded on a google drive folder available at \n",
        "[Submission on Google drive](https://drive.google.com/open?id=1aXkL2utGPhwof1BOhK-mrSVTBbSGz8Ip)\n",
        "as well as to the ELC dropbox folder. \n",
        "\n",
        "This assignment is due 04/20/2020."
      ]
    },
    {
      "cell_type": "code",
      "metadata": {
        "id": "kmmOLn2RGsQR",
        "colab_type": "code",
        "colab": {}
      },
      "source": [
        "######### CODE HERE\n",
        "\n",
        "\n",
        "\n",
        "###########"
      ],
      "execution_count": 0,
      "outputs": []
    }
  ]
}