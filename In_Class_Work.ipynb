{
  "nbformat": 4,
  "nbformat_minor": 0,
  "metadata": {
    "colab": {
      "name": "In-Class Work.ipynb",
      "provenance": [],
      "collapsed_sections": [],
      "toc_visible": true,
      "authorship_tag": "ABX9TyM45MvLGbNTjJqPwNMouvFP",
      "include_colab_link": true
    },
    "kernelspec": {
      "name": "python3",
      "display_name": "Python 3"
    },
    "language_info": {
      "name": "python"
    }
  },
  "cells": [
    {
      "cell_type": "markdown",
      "metadata": {
        "id": "view-in-github",
        "colab_type": "text"
      },
      "source": [
        "<a href=\"https://colab.research.google.com/github/SrinivasanNikhil/DataLiteracy/blob/master/In_Class_Work.ipynb\" target=\"_parent\"><img src=\"https://colab.research.google.com/assets/colab-badge.svg\" alt=\"Open In Colab\"/></a>"
      ]
    },
    {
      "cell_type": "markdown",
      "metadata": {
        "id": "RIr76dRMTOrB"
      },
      "source": [
        "## Intro to Python Module\n",
        "\n",
        "#### In-class Work\n",
        "\n",
        "Write a python script to first declare 2 variables height and weight and initialize it with resonable values. Height should be in inches and weight should be in pounds. \n",
        "\n",
        "You will be using these 2 values to calculate a third variable BMI. \n",
        "BMI is calcualtes as (weight / (height)^2)*703\n",
        "\n",
        "**BMI\t            Weight Status**\n",
        "\n",
        "Below 18.5  \t  Underweight\n",
        "\n",
        "18.5 – 24.9\t    Normal or Healthy Weight\n",
        "\n",
        "25.0 – 29.9 \t  Overweight\n",
        "\n",
        "30.0 and Above\tObese\n",
        "\n",
        "Print out the value of the BMI and the above table. "
      ]
    },
    {
      "cell_type": "code",
      "metadata": {
        "colab": {
          "base_uri": "https://localhost:8080/"
        },
        "id": "We0S_5xD2BMc",
        "outputId": "e656834e-e1b0-4eed-e59a-8da84a2ee091"
      },
      "source": [
        "height = 75\n",
        "weight = 183\n",
        "\n",
        "bmi = (weight/(height ** 2)) * 703\n",
        "\n",
        "formattedResponse = \"\"\"\n",
        "BMI Weight Status\n",
        "\n",
        "Below 18.5 Underweight\n",
        "\n",
        "18.5 – 24.9 Normal or Healthy Weight\n",
        "\n",
        "25.0 – 29.9 Overweight\n",
        "\n",
        "30.0 and Above Obese\n",
        "\"\"\"\n",
        "\n",
        "response = \"BMI Weight Status \\n Below 18.5 Underweight \\n 18.5 – 24.9  Normal or Healthy Weight \\n 25.0 – 29.9 Overweight \\n 30.0 and Above Obese\"\n",
        "\n",
        "print()\n",
        "print(\"The value of BMI is : \", bmi)\n",
        "print()\n",
        "print(response)\n"
      ],
      "execution_count": null,
      "outputs": [
        {
          "output_type": "stream",
          "text": [
            "\n",
            "The value of BMI is :  22.87093333333333\n",
            "\n",
            "BMI Weight Status \n",
            " Below 18.5 Underweight \n",
            " 18.5 – 24.9  Normal or Healthy Weight \n",
            " 25.0 – 29.9 Overweight \n",
            " 30.0 and Above Obese\n"
          ],
          "name": "stdout"
        }
      ]
    },
    {
      "cell_type": "markdown",
      "metadata": {
        "id": "QB6FPf3b2Bno"
      },
      "source": [
        "#### Please write a set of print statetments that will print out the following ticket\n",
        "\n",
        "![Python Ticket Example](https://elasticbeanstalk-us-east-1-712866102994.s3.amazonaws.com/PythonTicketEx.png)"
      ]
    },
    {
      "cell_type": "code",
      "metadata": {
        "colab": {
          "base_uri": "https://localhost:8080/"
        },
        "id": "o6Bbv_gm2EnC",
        "outputId": "4d8252ab-5e5f-4f64-ad3c-e7de93dac823"
      },
      "source": [
        "print(\"Your Organization\")\n",
        "print(\"WINTER LOTTERY RAFFLE\")\n",
        "print(\"Based on the December 2021 Ohio Evening Pick 3\")\n",
        "print(\"31 chances to win\")\n",
        "print(\"Tickets: $2.00 each\")\n",
        "print(\"Each time your number matches\")\n",
        "print(\"the December 2021 Ohio Evening Pick 3\")\n",
        "print(\"You win $100\")"
      ],
      "execution_count": null,
      "outputs": [
        {
          "output_type": "stream",
          "text": [
            "Your Organization\n",
            "WINTER LOTTERY RAFFLE\n",
            "Based on the December 2021 Ohio Evening Pick 3\n",
            "31 chances to win\n",
            "Tickets: $2.00 each\n",
            "Each time your number matches\n",
            "the December 2021 Ohio Evening Pick 3\n",
            "You win $100\n"
          ],
          "name": "stdout"
        }
      ]
    },
    {
      "cell_type": "markdown",
      "metadata": {
        "id": "FyBBz_Ie2FD4"
      },
      "source": [
        "#### Please write a set of print statetments that will print out the following ticket.\n",
        "\n",
        "In this case however use the input statement to take in the name of the organization, the price of the ticket and the value of winnings. Use the inputs to modify the ticket printed below.\n",
        "\n",
        "![Python Ticket Example](https://elasticbeanstalk-us-east-1-712866102994.s3.amazonaws.com/PythonTicketEx.png)\n"
      ]
    },
    {
      "cell_type": "code",
      "metadata": {
        "colab": {
          "base_uri": "https://localhost:8080/"
        },
        "id": "zY8vR8Ae2Hd5",
        "outputId": "d2373df5-01b2-4cb9-95d7-cb60d4a10740"
      },
      "source": [
        "organizationName = input(\"Please enter the name of the organization: \")\n",
        "ticketPrice = input(\"Please enter the price of the ticket: \")\n",
        "winnings = input(\"please enter the value of winnings: \")\n",
        "\n",
        "print()a\n",
        "print(organizationName)\n",
        "print(\"WINTER LOTTERY RAFFLE\")\n",
        "print(\"Based on the December 2021 Ohio Evening Pick 3\")\n",
        "print(\"31 chances to win\")\n",
        "print(\"Tickets: $\", ticketPrice, \" each\")\n",
        "print(\"Each time your number matches\")\n",
        "print(\"the December 2021 Ohio Evening Pick 3\")\n",
        "print(\"You win $\",winnings)"
      ],
      "execution_count": null,
      "outputs": [
        {
          "output_type": "stream",
          "text": [
            "Please enter the name of the organization: aaaa\n",
            "Please enter the price of the ticket: aaa\n",
            "please enter the value of winnings: a\n",
            "\n",
            "aaaa\n",
            "WINTER LOTTERY RAFFLE\n",
            "Based on the December 2021 Ohio Evening Pick 3\n",
            "31 chances to win\n",
            "Tickets: $ aaa  each\n",
            "Each time your number matches\n",
            "the December 2021 Ohio Evening Pick 3\n",
            "You win $ a\n"
          ],
          "name": "stdout"
        }
      ]
    },
    {
      "cell_type": "markdown",
      "metadata": {
        "id": "AG63zkzMSAM1"
      },
      "source": [
        "### Please write a set of print statetments that will print out the following ticket.\n",
        "\n",
        "In this case however use the input statement to take in the name of the organization, the price of the ticket and the value of winnings. Use the inputs to modify the ticket printed below.\n",
        "\n",
        "Also create and use functions to print out parts of the ticket. \n",
        "1. Treat the first 4 lines of the ticket as 1 function\n",
        "2. Treat the 5th line as 1 function\n",
        "3. Treat the 6-8th lines as 1 function.\n",
        "\n",
        "![Python Ticket Example](https://elasticbeanstalk-us-east-1-712866102994.s3.amazonaws.com/PythonTicketEx.png)\n"
      ]
    },
    {
      "cell_type": "code",
      "metadata": {
        "id": "f4Hg4vemSFoP",
        "colab": {
          "base_uri": "https://localhost:8080/"
        },
        "outputId": "5b928d9f-2029-48fe-d136-0225ce6058de"
      },
      "source": [
        "orgName = input(\"Please enter the name of the organization\")\n",
        "ticketPrice = input(\"Please enter the price of the ticket\")\n",
        "winnings = input(\"Please enter the value of winnings\")\n",
        "\n",
        "def ticketHeader():\n",
        "  print(\"*****  \",orgName,\"  *****\")\n",
        "  print(\"WINTER LOTTERY RAFFLE\")\n",
        "  print(\"Based on the December 2021 Ohio Evening Pick 3\")\n",
        "  print(\"31 chances to win\")\n",
        "\n",
        "def ticketBody():\n",
        "  print(\"Tickets: $\",ticketPrice,\" each\")  \n",
        "\n",
        "def ticketFooter():\n",
        "  print(\"Each time your number matches\")\n",
        "  print(\"the December 2021 Ohio Evening Pick 3\")\n",
        "  print(\"You win $\",winnings)\n",
        "\n",
        "\n",
        "ticketHeader()\n",
        "ticketBody()\n",
        "ticketFooter()"
      ],
      "execution_count": null,
      "outputs": [
        {
          "output_type": "stream",
          "text": [
            "Please enter the name of the organizationABI International\n",
            "Please enter the price of the ticket20\n",
            "Please enter the value of winnings1000\n",
            "*****   ABI International   *****\n",
            "WINTER LOTTERY RAFFLE\n",
            "Based on the December 2021 Ohio Evening Pick 3\n",
            "31 chances to win\n",
            "Tickets: $ 20  each\n",
            "Each time your number matches\n",
            "the December 2021 Ohio Evening Pick 3\n",
            "You win $ 1000\n"
          ],
          "name": "stdout"
        }
      ]
    },
    {
      "cell_type": "code",
      "metadata": {
        "id": "1lFrBmxC9i1M",
        "colab": {
          "base_uri": "https://localhost:8080/"
        },
        "outputId": "ffd8a87a-9115-4bd5-9332-6dbda2b042b5"
      },
      "source": [
        "#Moved the input taking to after the delaration of the functions\n",
        "def ticketHeader(organization):\n",
        "  print(\"*****  \",organization,\"  *****\")\n",
        "  print(\"WINTER LOTTERY RAFFLE\")\n",
        "  print(\"Based on the December 2021 Ohio Evening Pick 3\")\n",
        "  print(\"31 chances to win\")\n",
        "\n",
        "def ticketBody(price):\n",
        "  print(\"Tickets: $\",price,\" each\")  \n",
        "\n",
        "def ticketFooter(winning):\n",
        "  print(\"Each time your number matches\")\n",
        "  print(\"the December 2021 Ohio Evening Pick 3\")\n",
        "  print(\"You win $\",winning)\n",
        "\n",
        "orgName = input(\"Please enter the name of the organization\")\n",
        "ticketPrice = input(\"Please enter the price of the ticket\")\n",
        "winnings = input(\"Please enter the value of winnings\")\n",
        "\n",
        "ticketHeader(orgName)\n",
        "ticketBody(ticketPrice)\n",
        "ticketFooter(winnings)"
      ],
      "execution_count": null,
      "outputs": [
        {
          "output_type": "stream",
          "text": [
            "Please enter the name of the organizationABH\n",
            "Please enter the price of the ticket20\n",
            "Please enter the value of winnings000\n",
            "*****   ABH   *****\n",
            "WINTER LOTTERY RAFFLE\n",
            "Based on the December 2021 Ohio Evening Pick 3\n",
            "31 chances to win\n",
            "Tickets: $ 20  each\n",
            "Each time your number matches\n",
            "the December 2021 Ohio Evening Pick 3\n",
            "You win $ 000\n"
          ],
          "name": "stdout"
        }
      ]
    },
    {
      "cell_type": "code",
      "metadata": {
        "id": "PpRoH1jf-atJ",
        "colab": {
          "base_uri": "https://localhost:8080/"
        },
        "outputId": "2199f230-9693-4837-eadf-af25fae3e9c9"
      },
      "source": [
        "#Moved the input taking to after the delaration of the functions\n",
        "def ticketHeader(organization):\n",
        "  print(\"*****  \",organization,\"  *****\")\n",
        "  print(\"WINTER LOTTERY RAFFLE\")\n",
        "  print(\"Based on the December 2021 Ohio Evening Pick 3\")\n",
        "  print(\"31 chances to win\")\n",
        "\n",
        "def ticketBody(price):\n",
        "  print(\"Tickets: $\",price,\" each\")  \n",
        "\n",
        "def ticketFooter(winning):\n",
        "  print(\"Each time your number matches\")\n",
        "  print(\"the December 2021 Ohio Evening Pick 3\")\n",
        "  print(\"You win $\",winning)\n",
        "\n",
        "def takeInputs():\n",
        "  global orgName #global keyword delares that the variable scope is not limited to the function\n",
        "  global ticketPrice\n",
        "  global winnings\n",
        "  orgName = input(\"Please enter the name of the organization : \")\n",
        "  ticketPrice = input(\"Please enter the price of the ticket : \")\n",
        "  winnings = input(\"Please enter the value of winnings : \")\n",
        "\n",
        "takeInputs()\n",
        "ticketHeader(orgName)\n",
        "ticketBody(ticketPrice)\n",
        "ticketFooter(winnings)"
      ],
      "execution_count": null,
      "outputs": [
        {
          "output_type": "stream",
          "text": [
            "Please enter the name of the organization : Nikhil International\n",
            "Please enter the price of the ticket : 50\n",
            "Please enter the value of winnings : 5000\n",
            "*****   Nikhil International   *****\n",
            "WINTER LOTTERY RAFFLE\n",
            "Based on the December 2021 Ohio Evening Pick 3\n",
            "31 chances to win\n",
            "Tickets: $ 50  each\n",
            "Each time your number matches\n",
            "the December 2021 Ohio Evening Pick 3\n",
            "You win $ 5000\n"
          ],
          "name": "stdout"
        }
      ]
    },
    {
      "cell_type": "markdown",
      "metadata": {
        "id": "5Pg8Jvoq5vPs"
      },
      "source": [
        "### Practice work (ticket machine)\n",
        "\n",
        "In this example, you will be simulating the logical operation of a ticket machine.\n",
        "\n",
        "A ticket machine issues tickets for a given price after an individual has input a certain amount of money into the ticket machine. \n",
        "\n",
        "If the money that the individual has put into the ticket machine is less than the price of the ticket, the machine informs the individual that not enough money has been put in. \n",
        "\n",
        "If sufficient money has been put in then the ticket machine issues a ticket and deducts the price of the ticket from the money put in and returns the change if any. \n",
        "\n",
        "Your job is to code this ticket machine based on the above description and the following instructions. \n",
        "\n",
        "Code the following:\n",
        "\n",
        "1. Create the appropriate prompts and take and store 2 inputs from the user\n",
        "        a. Price of the ticket\n",
        "        b. Money to be put into the ticket machine\n",
        "2. Evaluate if the money put into the ticket machine is greater than the price of the ticket\n",
        "3. If the money put in is greater than the price of the ticket then print out the ticket i.e. Just a simple message saying ticket is printed \n",
        "        - Once a ticket is printed, the system shoudl also deduct the price of the ticket \n",
        "        from the money put in and return it. Print out a message indicating how much \n",
        "        money is being returned.\n",
        "4. If the money put in is less than the price of the ticket, then print out a message indicating so and indicate how much more needs to be put in. "
      ]
    },
    {
      "cell_type": "code",
      "metadata": {
        "id": "dPNpf-26Aq6i",
        "colab": {
          "base_uri": "https://localhost:8080/"
        },
        "outputId": "2ff4fe67-8a60-47a6-b722-0c4c00a2e127"
      },
      "source": [
        "print(\"***** Welcome to the Scantron Ticket Printing System *****\")\n",
        "print(\"***** Please follow the prompts below to get tickets *****\")\n",
        "print()\n",
        "ticketPrice = int(input(\"***** Please enter the price you wish to set for tickets issued by this machine : \"))\n",
        "print()\n",
        "userMoney = int(input(\"***** Please enter the amount of money you put into the machine : \"))\n",
        "\n",
        "if ( userMoney >= ticketPrice):\n",
        "  print()\n",
        "  print(\"***** Ticket *****\")\n",
        "  print(\"***** Ticket for movie *****\")\n",
        "  print(\"***** Price : $\",ticketPrice,\" *****\")\n",
        "  print()\n",
        "  userMoney = userMoney - ticketPrice\n",
        "else:\n",
        "  print(\"User has not provided enough money to purchase ticket. Please put more money in!!\")  \n",
        "\n",
        "if(userMoney > 0):\n",
        "  print(\"Please take your change from the machine : \", userMoney, \" dollars.\")\n",
        "\n"
      ],
      "execution_count": null,
      "outputs": [
        {
          "output_type": "stream",
          "text": [
            "***** Welcome to the Scantron Ticket Printing System *****\n",
            "***** Please follow the prompts below to get tickets *****\n",
            "\n",
            "***** Please enter the price you wish to set for tickets issued by this machine : 50\n",
            "\n",
            "***** Please enter the amount of money you put into the machine : 50\n",
            "\n",
            "***** Ticket *****\n",
            "***** Ticket for movie *****\n",
            "***** Price : $ 50  *****\n",
            "\n"
          ],
          "name": "stdout"
        }
      ]
    },
    {
      "cell_type": "markdown",
      "metadata": {
        "id": "8F2IAoYn8XRn"
      },
      "source": [
        "# Lists and Tuples and Loops Practice Work\n",
        "\n",
        "Write a script to prompt a user to provide the folowing inputs\n",
        "\n",
        "1. Name\n",
        "2. Major\n",
        "3. GPA\n",
        "\n",
        "Store the 3 provided values as a single list within a ***persons*** list.\n",
        "\n",
        "Continue taking inputs from the user for the 3 attributes and store them in the ***persons*** list till the user has indicated they wish to stop. \n",
        "\n",
        "Once the user has indicated they wish to stop, print out all the inputs that the user has provided"
      ]
    },
    {
      "cell_type": "code",
      "metadata": {
        "colab": {
          "base_uri": "https://localhost:8080/",
          "height": 283
        },
        "id": "RGQ2p1FnFouR",
        "outputId": "ef196e9b-8915-4227-e02c-6cfc01a53187"
      },
      "source": [
        "keepGoing = True\n",
        "persons = []\n",
        "while (keepGoing):\n",
        "  name = input(\"Please provide a student name :\")\n",
        "  major = input(\"Please provide a student major :\")\n",
        "  gpa = input(\"Please provide a student gpa :\")\n",
        "  aPerson = [name,major,gpa]\n",
        "  persons.append(aPerson)\n",
        "  print(persons)\n",
        "  print()\n",
        "  cont = input(\"Does the user wish to continue y/n :\")\n",
        "  print()\n",
        "  if(cont == \"n\"):\n",
        "    keepGoing = False\n",
        "\n",
        "print()\n",
        "for aPerson in persons:\n",
        "  print(f\"Name : {aPerson[0]}\")\n",
        "  print(f\"Major : {aPerson[1]}\")\n",
        "  print(f\"GPA : {aPerson[2]}\")\n",
        "  print()"
      ],
      "execution_count": null,
      "outputs": [
        {
          "output_type": "stream",
          "text": [
            "Please provide a student name :Nikhil\n",
            "Please provide a student major :MIS\n",
            "Please provide a student gpa :3.2\n"
          ],
          "name": "stdout"
        },
        {
          "output_type": "error",
          "ename": "TypeError",
          "evalue": "ignored",
          "traceback": [
            "\u001b[0;31m---------------------------------------------------------------------------\u001b[0m",
            "\u001b[0;31mTypeError\u001b[0m                                 Traceback (most recent call last)",
            "\u001b[0;32m<ipython-input-12-1b3bab91d4b2>\u001b[0m in \u001b[0;36m<module>\u001b[0;34m()\u001b[0m\n\u001b[1;32m      6\u001b[0m   \u001b[0mgpa\u001b[0m \u001b[0;34m=\u001b[0m \u001b[0minput\u001b[0m\u001b[0;34m(\u001b[0m\u001b[0;34m\"Please provide a student gpa :\"\u001b[0m\u001b[0;34m)\u001b[0m\u001b[0;34m\u001b[0m\u001b[0;34m\u001b[0m\u001b[0m\n\u001b[1;32m      7\u001b[0m   \u001b[0maPerson\u001b[0m \u001b[0;34m=\u001b[0m \u001b[0;34m[\u001b[0m\u001b[0mname\u001b[0m\u001b[0;34m,\u001b[0m\u001b[0mmajor\u001b[0m\u001b[0;34m,\u001b[0m\u001b[0mgpa\u001b[0m\u001b[0;34m]\u001b[0m\u001b[0;34m\u001b[0m\u001b[0;34m\u001b[0m\u001b[0m\n\u001b[0;32m----> 8\u001b[0;31m   \u001b[0mpersons\u001b[0m\u001b[0;34m[\u001b[0m\u001b[0maPerson\u001b[0m\u001b[0;34m]\u001b[0m\u001b[0;34m\u001b[0m\u001b[0;34m\u001b[0m\u001b[0m\n\u001b[0m\u001b[1;32m      9\u001b[0m   \u001b[0mprint\u001b[0m\u001b[0;34m(\u001b[0m\u001b[0mpersons\u001b[0m\u001b[0;34m)\u001b[0m\u001b[0;34m\u001b[0m\u001b[0;34m\u001b[0m\u001b[0m\n\u001b[1;32m     10\u001b[0m   \u001b[0mprint\u001b[0m\u001b[0;34m(\u001b[0m\u001b[0;34m)\u001b[0m\u001b[0;34m\u001b[0m\u001b[0;34m\u001b[0m\u001b[0m\n",
            "\u001b[0;31mTypeError\u001b[0m: list indices must be integers or slices, not list"
          ]
        }
      ]
    },
    {
      "cell_type": "markdown",
      "metadata": {
        "id": "yyPotHmi4fET"
      },
      "source": [
        "# Practice using the panda's package\n",
        "\n",
        "1. Import the following dataset\n",
        "  https://elasticbeanstalk-us-east-1-712866102994.s3.amazonaws.com/data/TitanicSurvivors.csv\n",
        "\n",
        "2. Identify the dimensions of the data set\n",
        "  * the number of axes\n",
        "  * the data types of the elements\n",
        "  * the number of dimensions\n",
        "  * the shape of the data frame\n",
        "  * the size fo the data frame\n",
        "  * describe all the columns of the data set\n",
        "\n",
        "2. Select all female passengers under the age of 18 who did not survive. How many were there and what was their average age?\n",
        "\n",
        "3. Select all male passengers over the age of 30 who had at least 1 sibling on board who survived. How many were there and what was their average age?"
      ]
    },
    {
      "cell_type": "code",
      "metadata": {
        "colab": {
          "base_uri": "https://localhost:8080/"
        },
        "id": "VkGB9FN24utY",
        "outputId": "9de8a1f5-e1f0-43c1-dfcd-209c00c4395e"
      },
      "source": [
        "import numpy as np\n",
        "import pandas as pd\n",
        "\n",
        "data = pd.read_csv(\"https://elasticbeanstalk-us-east-1-712866102994.s3.amazonaws.com/data/TitanicSurvivors.csv\")\n",
        "\n",
        "print(data.head())\n",
        "#Retrieving dataframe information\n",
        "\n",
        "#Axes\n",
        "print(\"The axes information :\")\n",
        "print(data.axes)\n",
        "print()\n",
        "\n",
        "#Data Types\n",
        "print(\"The data types information :\")\n",
        "print(data.dtypes)\n",
        "print()\n",
        "\n",
        "#Dimensions\n",
        "print(\"The dimensions information :\")\n",
        "print(data.ndim)\n",
        "print()\n",
        "\n",
        "#Shape\n",
        "print(\"The Shape information :\")\n",
        "print(data.shape)\n",
        "print()\n",
        "\n",
        "#Size\n",
        "print(\"The Size information :\")\n",
        "print(data.size)\n",
        "print()\n",
        "\n",
        "#Describe all columns\n",
        "print(\"Describing all the columns :\")\n",
        "print(data.describe(include=\"all\"))\n",
        "print()\n",
        "\n",
        "\n"
      ],
      "execution_count": null,
      "outputs": [
        {
          "output_type": "stream",
          "text": [
            "   PassengerId  Survived  Pclass  ...     Fare Cabin  Embarked\n",
            "0            1         0       3  ...   7.2500   NaN         S\n",
            "1            2         1       1  ...  71.2833   C85         C\n",
            "2            3         1       3  ...   7.9250   NaN         S\n",
            "3            4         1       1  ...  53.1000  C123         S\n",
            "4            5         0       3  ...   8.0500   NaN         S\n",
            "\n",
            "[5 rows x 12 columns]\n",
            "The axes information :\n",
            "[RangeIndex(start=0, stop=891, step=1), Index(['PassengerId', 'Survived', 'Pclass', 'Name', 'Sex', 'Age', 'SibSp',\n",
            "       'Parch', 'Ticket', 'Fare', 'Cabin', 'Embarked'],\n",
            "      dtype='object')]\n",
            "\n",
            "The data types information :\n",
            "PassengerId      int64\n",
            "Survived         int64\n",
            "Pclass           int64\n",
            "Name            object\n",
            "Sex             object\n",
            "Age            float64\n",
            "SibSp            int64\n",
            "Parch            int64\n",
            "Ticket          object\n",
            "Fare           float64\n",
            "Cabin           object\n",
            "Embarked        object\n",
            "dtype: object\n",
            "\n",
            "The dimensions information :\n",
            "2\n",
            "\n",
            "The Shape information :\n",
            "(891, 12)\n",
            "\n",
            "The Size information :\n",
            "10692\n",
            "\n",
            "Describing all the columns :\n",
            "        PassengerId    Survived      Pclass  ...        Fare Cabin  Embarked\n",
            "count    891.000000  891.000000  891.000000  ...  891.000000   204       889\n",
            "unique          NaN         NaN         NaN  ...         NaN   147         3\n",
            "top             NaN         NaN         NaN  ...         NaN    G6         S\n",
            "freq            NaN         NaN         NaN  ...         NaN     4       644\n",
            "mean     446.000000    0.383838    2.308642  ...   32.204208   NaN       NaN\n",
            "std      257.353842    0.486592    0.836071  ...   49.693429   NaN       NaN\n",
            "min        1.000000    0.000000    1.000000  ...    0.000000   NaN       NaN\n",
            "25%      223.500000    0.000000    2.000000  ...    7.910400   NaN       NaN\n",
            "50%      446.000000    0.000000    3.000000  ...   14.454200   NaN       NaN\n",
            "75%      668.500000    1.000000    3.000000  ...   31.000000   NaN       NaN\n",
            "max      891.000000    1.000000    3.000000  ...  512.329200   NaN       NaN\n",
            "\n",
            "[11 rows x 12 columns]\n",
            "\n"
          ],
          "name": "stdout"
        }
      ]
    },
    {
      "cell_type": "markdown",
      "metadata": {
        "id": "oio-MtR6D1dI"
      },
      "source": [
        "# Pandas Groupby practice\n",
        "\n",
        "1. Import the following dataset\n",
        "  https://elasticbeanstalk-us-east-1-712866102994.s3.amazonaws.com/data/TitanicSurvivors.csv\n",
        "\n",
        "2. What is the average age of male vs female passengers\n",
        "\n",
        "3. How many male and female passengers were there on the titanic\n",
        "\n",
        "4. How many passengers were in each individual ticket class?"
      ]
    },
    {
      "cell_type": "code",
      "metadata": {
        "id": "EWzBT2goEr2P",
        "colab": {
          "base_uri": "https://localhost:8080/"
        },
        "outputId": "343af564-971a-465a-d5f8-083749175b5f"
      },
      "source": [
        "import numpy as np\n",
        "import pandas as pd\n",
        "#1\n",
        "data = pd.read_csv(\"https://elasticbeanstalk-us-east-1-712866102994.s3.amazonaws.com/data/TitanicSurvivors.csv\")\n",
        "#2\n",
        "print(data[[\"Sex\",\"Age\"]].groupby(\"Sex\").mean())\n",
        "#3\n",
        "print(data[[\"Sex\",\"Age\"]].groupby(\"Sex\").count())\n",
        "#4\n",
        "print(data[[\"Pclass\",\"PassengerId\"]].groupby(\"Pclass\").count())\n",
        "\n"
      ],
      "execution_count": 2,
      "outputs": [
        {
          "output_type": "stream",
          "text": [
            "              Age\n",
            "Sex              \n",
            "female  27.915709\n",
            "male    30.726645\n",
            "        Age\n",
            "Sex        \n",
            "female  261\n",
            "male    453\n",
            "        PassengerId\n",
            "Pclass             \n",
            "1               216\n",
            "2               184\n",
            "3               491\n"
          ],
          "name": "stdout"
        }
      ]
    },
    {
      "cell_type": "markdown",
      "metadata": {
        "id": "y2SIF3Qd67Zg"
      },
      "source": [
        "5. What was the average fare of the passengers that embarked from the different locations. \n",
        "\n",
        "6. What was the average fare of passengers from the different passenger classes. \n",
        "\n",
        "7. How many passengers embarked from the different locations?\n",
        "\n",
        "8. What was the minimum, maximum and average fare for passengers in the different classes that embarked from different locations.\n"
      ]
    },
    {
      "cell_type": "code",
      "metadata": {
        "id": "LtAqf7Hw66rS",
        "colab": {
          "base_uri": "https://localhost:8080/"
        },
        "outputId": "c4a4b0ef-de40-4b85-f011-81a3b96453ba"
      },
      "source": [
        "#5\n",
        "print(data[[\"Fare\",\"Embarked\"]].groupby(\"Embarked\").mean())\n",
        "#6\n",
        "print(data[[\"Fare\",\"Pclass\"]].groupby(\"Pclass\").mean())\n",
        "#7\n",
        "print(data[[\"Embarked\",\"PassengerId\"]].groupby(\"Embarked\").count())\n",
        "#8\n",
        "print(data[[\"Pclass\",\"Fare\",\"Embarked\"]].groupby([\"Pclass\",\"Embarked\"]).agg([np.min,np.max,np.mean]))\n"
      ],
      "execution_count": 3,
      "outputs": [
        {
          "output_type": "stream",
          "text": [
            "               Fare\n",
            "Embarked           \n",
            "C         59.954144\n",
            "Q         13.276030\n",
            "S         27.079812\n",
            "             Fare\n",
            "Pclass           \n",
            "1       84.154687\n",
            "2       20.662183\n",
            "3       13.675550\n",
            "          PassengerId\n",
            "Embarked             \n",
            "C                 168\n",
            "Q                  77\n",
            "S                 644\n",
            "                    Fare                      \n",
            "                    amin      amax        mean\n",
            "Pclass Embarked                               \n",
            "1      C         26.5500  512.3292  104.718529\n",
            "       Q         90.0000   90.0000   90.000000\n",
            "       S          0.0000  263.0000   70.364862\n",
            "2      C         12.0000   41.5792   25.358335\n",
            "       Q         12.3500   12.3500   12.350000\n",
            "       S          0.0000   73.5000   20.327439\n",
            "3      C          4.0125   22.3583   11.214083\n",
            "       Q          6.7500   29.1250   11.183393\n",
            "       S          0.0000   69.5500   14.644083\n"
          ],
          "name": "stdout"
        }
      ]
    },
    {
      "cell_type": "code",
      "metadata": {
        "colab": {
          "base_uri": "https://localhost:8080/"
        },
        "id": "g-ZUR0RxZpah",
        "outputId": "2e727ef9-628a-4b69-8f84-8c2c34cb13a4"
      },
      "source": [
        "#How many female passengers under the age of 18 did not survive and what was their average age?\n",
        "rslt = data.loc[(data[\"Sex\"] == \"female\") & (data[\"Age\"] <= 18) & (data[\"Survived\"] == 0)]\n",
        "\n",
        "print(rslt[[\"PassengerId\",\"Age\"]].agg({\n",
        "                                  \"PassengerId\":[\"count\"],\n",
        "                                 \"Age\":[\"mean\"]\n",
        "}))\n",
        "\n",
        "#How many male passengers over the age of 30 had 1 sibling on board survived and what was their average age?\n",
        "rslt = data.loc[(data[\"Sex\"] == \"male\") & (data[\"Age\"] >= 30) & (data[\"Survived\"] == 1) & data[\"SibSp\"] >= 1]\n",
        "print(rslt[[\"PassengerId\",\"Age\"]].agg({\n",
        "                                  \"PassengerId\":[\"count\"],\n",
        "                                 \"Age\":[\"mean\"]\n",
        "}))\n"
      ],
      "execution_count": 4,
      "outputs": [
        {
          "output_type": "stream",
          "text": [
            "       PassengerId        Age\n",
            "count         22.0        NaN\n",
            "mean           NaN  10.613636\n",
            "       PassengerId        Age\n",
            "count         11.0        NaN\n",
            "mean           NaN  42.727273\n"
          ],
          "name": "stdout"
        }
      ]
    }
  ]
}