{
  "nbformat": 4,
  "nbformat_minor": 0,
  "metadata": {
    "colab": {
      "name": "In-Class Work.ipynb",
      "provenance": [],
      "collapsed_sections": [],
      "authorship_tag": "ABX9TyO10L57Ky1x17L18WoAwvU/",
      "include_colab_link": true
    },
    "kernelspec": {
      "name": "python3",
      "display_name": "Python 3"
    },
    "language_info": {
      "name": "python"
    }
  },
  "cells": [
    {
      "cell_type": "markdown",
      "metadata": {
        "id": "view-in-github",
        "colab_type": "text"
      },
      "source": [
        "<a href=\"https://colab.research.google.com/github/SrinivasanNikhil/DataLiteracy/blob/master/In_Class_Work.ipynb\" target=\"_parent\"><img src=\"https://colab.research.google.com/assets/colab-badge.svg\" alt=\"Open In Colab\"/></a>"
      ]
    },
    {
      "cell_type": "markdown",
      "metadata": {
        "id": "RIr76dRMTOrB"
      },
      "source": [
        "## Intro to Python Module\n",
        "\n",
        "#### In-class Work\n",
        "\n",
        "Write a python script to first declare 2 variables height and weight and initialize it with resonable values. Height should be in inches and weight should be in pounds. \n",
        "\n",
        "You will be using these 2 values to calculate a third variable BMI. \n",
        "BMI is calcualtes as (weight / (height)^2)*703\n",
        "\n",
        "**BMI\t            Weight Status**\n",
        "\n",
        "Below 18.5  \t  Underweight\n",
        "\n",
        "18.5 – 24.9\t    Normal or Healthy Weight\n",
        "\n",
        "25.0 – 29.9 \t  Overweight\n",
        "\n",
        "30.0 and Above\tObese\n",
        "\n",
        "Print out the value of the BMI and the above table. "
      ]
    },
    {
      "cell_type": "code",
      "metadata": {
        "colab": {
          "base_uri": "https://localhost:8080/"
        },
        "id": "We0S_5xD2BMc",
        "outputId": "e656834e-e1b0-4eed-e59a-8da84a2ee091"
      },
      "source": [
        "height = 75\n",
        "weight = 183\n",
        "\n",
        "bmi = (weight/(height ** 2)) * 703\n",
        "\n",
        "formattedResponse = \"\"\"\n",
        "BMI Weight Status\n",
        "\n",
        "Below 18.5 Underweight\n",
        "\n",
        "18.5 – 24.9 Normal or Healthy Weight\n",
        "\n",
        "25.0 – 29.9 Overweight\n",
        "\n",
        "30.0 and Above Obese\n",
        "\"\"\"\n",
        "\n",
        "response = \"BMI Weight Status \\n Below 18.5 Underweight \\n 18.5 – 24.9  Normal or Healthy Weight \\n 25.0 – 29.9 Overweight \\n 30.0 and Above Obese\"\n",
        "\n",
        "print()\n",
        "print(\"The value of BMI is : \", bmi)\n",
        "print()\n",
        "print(response)\n"
      ],
      "execution_count": 12,
      "outputs": [
        {
          "output_type": "stream",
          "text": [
            "\n",
            "The value of BMI is :  22.87093333333333\n",
            "\n",
            "BMI Weight Status \n",
            " Below 18.5 Underweight \n",
            " 18.5 – 24.9  Normal or Healthy Weight \n",
            " 25.0 – 29.9 Overweight \n",
            " 30.0 and Above Obese\n"
          ],
          "name": "stdout"
        }
      ]
    },
    {
      "cell_type": "markdown",
      "metadata": {
        "id": "QB6FPf3b2Bno"
      },
      "source": [
        "#### Please write a set of print statetments that will print out the following ticket\n",
        "\n",
        "![Python Ticket Example](https://elasticbeanstalk-us-east-1-712866102994.s3.amazonaws.com/PythonTicketEx.png)"
      ]
    },
    {
      "cell_type": "code",
      "metadata": {
        "colab": {
          "base_uri": "https://localhost:8080/"
        },
        "id": "o6Bbv_gm2EnC",
        "outputId": "4d8252ab-5e5f-4f64-ad3c-e7de93dac823"
      },
      "source": [
        "print(\"Your Organization\")\n",
        "print(\"WINTER LOTTERY RAFFLE\")\n",
        "print(\"Based on the December 2021 Ohio Evening Pick 3\")\n",
        "print(\"31 chances to win\")\n",
        "print(\"Tickets: $2.00 each\")\n",
        "print(\"Each time your number matches\")\n",
        "print(\"the December 2021 Ohio Evening Pick 3\")\n",
        "print(\"You win $100\")"
      ],
      "execution_count": 13,
      "outputs": [
        {
          "output_type": "stream",
          "text": [
            "Your Organization\n",
            "WINTER LOTTERY RAFFLE\n",
            "Based on the December 2021 Ohio Evening Pick 3\n",
            "31 chances to win\n",
            "Tickets: $2.00 each\n",
            "Each time your number matches\n",
            "the December 2021 Ohio Evening Pick 3\n",
            "You win $100\n"
          ],
          "name": "stdout"
        }
      ]
    },
    {
      "cell_type": "markdown",
      "metadata": {
        "id": "FyBBz_Ie2FD4"
      },
      "source": [
        "#### Please write a set of print statetments that will print out the following ticket.\n",
        "\n",
        "In this case however use the input statement to take in the name of the organization, the price of the ticket and the value of winnings. Use the inputs to modify the ticket printed below.\n",
        "\n",
        "![Python Ticket Example](https://elasticbeanstalk-us-east-1-712866102994.s3.amazonaws.com/PythonTicketEx.png)\n"
      ]
    },
    {
      "cell_type": "code",
      "metadata": {
        "colab": {
          "base_uri": "https://localhost:8080/"
        },
        "id": "zY8vR8Ae2Hd5",
        "outputId": "d2373df5-01b2-4cb9-95d7-cb60d4a10740"
      },
      "source": [
        "organizationName = input(\"Please enter the name of the organization: \")\n",
        "ticketPrice = input(\"Please enter the price of the ticket: \")\n",
        "winnings = input(\"please enter the value of winnings: \")\n",
        "\n",
        "print()a\n",
        "print(organizationName)\n",
        "print(\"WINTER LOTTERY RAFFLE\")\n",
        "print(\"Based on the December 2021 Ohio Evening Pick 3\")\n",
        "print(\"31 chances to win\")\n",
        "print(\"Tickets: $\", ticketPrice, \" each\")\n",
        "print(\"Each time your number matches\")\n",
        "print(\"the December 2021 Ohio Evening Pick 3\")\n",
        "print(\"You win $\",winnings)"
      ],
      "execution_count": 15,
      "outputs": [
        {
          "output_type": "stream",
          "text": [
            "Please enter the name of the organization: aaaa\n",
            "Please enter the price of the ticket: aaa\n",
            "please enter the value of winnings: a\n",
            "\n",
            "aaaa\n",
            "WINTER LOTTERY RAFFLE\n",
            "Based on the December 2021 Ohio Evening Pick 3\n",
            "31 chances to win\n",
            "Tickets: $ aaa  each\n",
            "Each time your number matches\n",
            "the December 2021 Ohio Evening Pick 3\n",
            "You win $ a\n"
          ],
          "name": "stdout"
        }
      ]
    }
  ]
}