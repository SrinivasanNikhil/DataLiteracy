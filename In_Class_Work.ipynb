{
  "nbformat": 4,
  "nbformat_minor": 0,
  "metadata": {
    "colab": {
      "name": "In-Class Work.ipynb",
      "provenance": [],
      "collapsed_sections": [],
      "authorship_tag": "ABX9TyMqC1ps/zZoRcVIzqB1I0fI",
      "include_colab_link": true
    },
    "kernelspec": {
      "name": "python3",
      "display_name": "Python 3"
    },
    "language_info": {
      "name": "python"
    }
  },
  "cells": [
    {
      "cell_type": "markdown",
      "metadata": {
        "id": "view-in-github",
        "colab_type": "text"
      },
      "source": [
        "<a href=\"https://colab.research.google.com/github/SrinivasanNikhil/DataLiteracy/blob/master/In_Class_Work.ipynb\" target=\"_parent\"><img src=\"https://colab.research.google.com/assets/colab-badge.svg\" alt=\"Open In Colab\"/></a>"
      ]
    },
    {
      "cell_type": "markdown",
      "metadata": {
        "id": "RIr76dRMTOrB"
      },
      "source": [
        "## Intro to Python Module\n",
        "\n",
        "#### In-class Work\n",
        "\n",
        "Write a python script to first declare 2 variables height and weight and initialize it with resonable values. Height should be in inches and weight should be in pounds. \n",
        "\n",
        "You will be using these 2 values to calculate a third variable BMI. \n",
        "BMI is calcualtes as (weight / (height)^2)*703\n",
        "\n",
        "**BMI\t            Weight Status**\n",
        "\n",
        "Below 18.5  \t  Underweight\n",
        "\n",
        "18.5 – 24.9\t    Normal or Healthy Weight\n",
        "\n",
        "25.0 – 29.9 \t  Overweight\n",
        "\n",
        "30.0 and Above\tObese\n",
        "\n",
        "Print out the value of the BMI and the above table. "
      ]
    }
  ]
}