{
  "nbformat": 4,
  "nbformat_minor": 0,
  "metadata": {
    "colab": {
      "name": "In-Class Work.ipynb",
      "provenance": [],
      "collapsed_sections": [],
      "toc_visible": true,
      "authorship_tag": "ABX9TyN8EWzZPiFCr13Ntypkd3jQ",
      "include_colab_link": true
    },
    "kernelspec": {
      "name": "python3",
      "display_name": "Python 3"
    },
    "language_info": {
      "name": "python"
    }
  },
  "cells": [
    {
      "cell_type": "markdown",
      "metadata": {
        "id": "view-in-github",
        "colab_type": "text"
      },
      "source": [
        "<a href=\"https://colab.research.google.com/github/SrinivasanNikhil/DataLiteracy/blob/master/In_Class_Work.ipynb\" target=\"_parent\"><img src=\"https://colab.research.google.com/assets/colab-badge.svg\" alt=\"Open In Colab\"/></a>"
      ]
    },
    {
      "cell_type": "markdown",
      "metadata": {
        "id": "RIr76dRMTOrB"
      },
      "source": [
        "## Intro to Python Module\n",
        "\n",
        "#### In-class Work\n",
        "\n",
        "Write a python script to first declare 2 variables height and weight and initialize it with resonable values. Height should be in inches and weight should be in pounds. \n",
        "\n",
        "You will be using these 2 values to calculate a third variable BMI. \n",
        "BMI is calcualtes as (weight / (height)^2)*703\n",
        "\n",
        "**BMI\t            Weight Status**\n",
        "\n",
        "Below 18.5  \t  Underweight\n",
        "\n",
        "18.5 – 24.9\t    Normal or Healthy Weight\n",
        "\n",
        "25.0 – 29.9 \t  Overweight\n",
        "\n",
        "30.0 and Above\tObese\n",
        "\n",
        "Print out the value of the BMI and the above table. "
      ]
    },
    {
      "cell_type": "code",
      "metadata": {
        "colab": {
          "base_uri": "https://localhost:8080/"
        },
        "id": "We0S_5xD2BMc",
        "outputId": "e656834e-e1b0-4eed-e59a-8da84a2ee091"
      },
      "source": [
        "height = 75\n",
        "weight = 183\n",
        "\n",
        "bmi = (weight/(height ** 2)) * 703\n",
        "\n",
        "formattedResponse = \"\"\"\n",
        "BMI Weight Status\n",
        "\n",
        "Below 18.5 Underweight\n",
        "\n",
        "18.5 – 24.9 Normal or Healthy Weight\n",
        "\n",
        "25.0 – 29.9 Overweight\n",
        "\n",
        "30.0 and Above Obese\n",
        "\"\"\"\n",
        "\n",
        "response = \"BMI Weight Status \\n Below 18.5 Underweight \\n 18.5 – 24.9  Normal or Healthy Weight \\n 25.0 – 29.9 Overweight \\n 30.0 and Above Obese\"\n",
        "\n",
        "print()\n",
        "print(\"The value of BMI is : \", bmi)\n",
        "print()\n",
        "print(response)\n"
      ],
      "execution_count": null,
      "outputs": [
        {
          "output_type": "stream",
          "text": [
            "\n",
            "The value of BMI is :  22.87093333333333\n",
            "\n",
            "BMI Weight Status \n",
            " Below 18.5 Underweight \n",
            " 18.5 – 24.9  Normal or Healthy Weight \n",
            " 25.0 – 29.9 Overweight \n",
            " 30.0 and Above Obese\n"
          ],
          "name": "stdout"
        }
      ]
    },
    {
      "cell_type": "markdown",
      "metadata": {
        "id": "QB6FPf3b2Bno"
      },
      "source": [
        "#### Please write a set of print statetments that will print out the following ticket\n",
        "\n",
        "![Python Ticket Example](https://elasticbeanstalk-us-east-1-712866102994.s3.amazonaws.com/PythonTicketEx.png)"
      ]
    },
    {
      "cell_type": "code",
      "metadata": {
        "colab": {
          "base_uri": "https://localhost:8080/"
        },
        "id": "o6Bbv_gm2EnC",
        "outputId": "4d8252ab-5e5f-4f64-ad3c-e7de93dac823"
      },
      "source": [
        "print(\"Your Organization\")\n",
        "print(\"WINTER LOTTERY RAFFLE\")\n",
        "print(\"Based on the December 2021 Ohio Evening Pick 3\")\n",
        "print(\"31 chances to win\")\n",
        "print(\"Tickets: $2.00 each\")\n",
        "print(\"Each time your number matches\")\n",
        "print(\"the December 2021 Ohio Evening Pick 3\")\n",
        "print(\"You win $100\")"
      ],
      "execution_count": null,
      "outputs": [
        {
          "output_type": "stream",
          "text": [
            "Your Organization\n",
            "WINTER LOTTERY RAFFLE\n",
            "Based on the December 2021 Ohio Evening Pick 3\n",
            "31 chances to win\n",
            "Tickets: $2.00 each\n",
            "Each time your number matches\n",
            "the December 2021 Ohio Evening Pick 3\n",
            "You win $100\n"
          ],
          "name": "stdout"
        }
      ]
    },
    {
      "cell_type": "markdown",
      "metadata": {
        "id": "FyBBz_Ie2FD4"
      },
      "source": [
        "#### Please write a set of print statetments that will print out the following ticket.\n",
        "\n",
        "In this case however use the input statement to take in the name of the organization, the price of the ticket and the value of winnings. Use the inputs to modify the ticket printed below.\n",
        "\n",
        "![Python Ticket Example](https://elasticbeanstalk-us-east-1-712866102994.s3.amazonaws.com/PythonTicketEx.png)\n"
      ]
    },
    {
      "cell_type": "code",
      "metadata": {
        "colab": {
          "base_uri": "https://localhost:8080/"
        },
        "id": "zY8vR8Ae2Hd5",
        "outputId": "d2373df5-01b2-4cb9-95d7-cb60d4a10740"
      },
      "source": [
        "organizationName = input(\"Please enter the name of the organization: \")\n",
        "ticketPrice = input(\"Please enter the price of the ticket: \")\n",
        "winnings = input(\"please enter the value of winnings: \")\n",
        "\n",
        "print()a\n",
        "print(organizationName)\n",
        "print(\"WINTER LOTTERY RAFFLE\")\n",
        "print(\"Based on the December 2021 Ohio Evening Pick 3\")\n",
        "print(\"31 chances to win\")\n",
        "print(\"Tickets: $\", ticketPrice, \" each\")\n",
        "print(\"Each time your number matches\")\n",
        "print(\"the December 2021 Ohio Evening Pick 3\")\n",
        "print(\"You win $\",winnings)"
      ],
      "execution_count": null,
      "outputs": [
        {
          "output_type": "stream",
          "text": [
            "Please enter the name of the organization: aaaa\n",
            "Please enter the price of the ticket: aaa\n",
            "please enter the value of winnings: a\n",
            "\n",
            "aaaa\n",
            "WINTER LOTTERY RAFFLE\n",
            "Based on the December 2021 Ohio Evening Pick 3\n",
            "31 chances to win\n",
            "Tickets: $ aaa  each\n",
            "Each time your number matches\n",
            "the December 2021 Ohio Evening Pick 3\n",
            "You win $ a\n"
          ],
          "name": "stdout"
        }
      ]
    },
    {
      "cell_type": "markdown",
      "metadata": {
        "id": "AG63zkzMSAM1"
      },
      "source": [
        "### Please write a set of print statetments that will print out the following ticket.\n",
        "\n",
        "In this case however use the input statement to take in the name of the organization, the price of the ticket and the value of winnings. Use the inputs to modify the ticket printed below.\n",
        "\n",
        "Also create and use functions to print out parts of the ticket. \n",
        "1. Treat the first 4 lines of the ticket as 1 function\n",
        "2. Treat the 5th line as 1 function\n",
        "3. Treat the 6-8th lines as 1 function.\n",
        "\n",
        "![Python Ticket Example](https://elasticbeanstalk-us-east-1-712866102994.s3.amazonaws.com/PythonTicketEx.png)\n"
      ]
    },
    {
      "cell_type": "code",
      "metadata": {
        "id": "f4Hg4vemSFoP",
        "colab": {
          "base_uri": "https://localhost:8080/"
        },
        "outputId": "5b928d9f-2029-48fe-d136-0225ce6058de"
      },
      "source": [
        "orgName = input(\"Please enter the name of the organization\")\n",
        "ticketPrice = input(\"Please enter the price of the ticket\")\n",
        "winnings = input(\"Please enter the value of winnings\")\n",
        "\n",
        "def ticketHeader():\n",
        "  print(\"*****  \",orgName,\"  *****\")\n",
        "  print(\"WINTER LOTTERY RAFFLE\")\n",
        "  print(\"Based on the December 2021 Ohio Evening Pick 3\")\n",
        "  print(\"31 chances to win\")\n",
        "\n",
        "def ticketBody():\n",
        "  print(\"Tickets: $\",ticketPrice,\" each\")  \n",
        "\n",
        "def ticketFooter():\n",
        "  print(\"Each time your number matches\")\n",
        "  print(\"the December 2021 Ohio Evening Pick 3\")\n",
        "  print(\"You win $\",winnings)\n",
        "\n",
        "\n",
        "ticketHeader()\n",
        "ticketBody()\n",
        "ticketFooter()"
      ],
      "execution_count": null,
      "outputs": [
        {
          "output_type": "stream",
          "text": [
            "Please enter the name of the organizationABI International\n",
            "Please enter the price of the ticket20\n",
            "Please enter the value of winnings1000\n",
            "*****   ABI International   *****\n",
            "WINTER LOTTERY RAFFLE\n",
            "Based on the December 2021 Ohio Evening Pick 3\n",
            "31 chances to win\n",
            "Tickets: $ 20  each\n",
            "Each time your number matches\n",
            "the December 2021 Ohio Evening Pick 3\n",
            "You win $ 1000\n"
          ],
          "name": "stdout"
        }
      ]
    },
    {
      "cell_type": "code",
      "metadata": {
        "id": "1lFrBmxC9i1M",
        "colab": {
          "base_uri": "https://localhost:8080/"
        },
        "outputId": "ffd8a87a-9115-4bd5-9332-6dbda2b042b5"
      },
      "source": [
        "#Moved the input taking to after the delaration of the functions\n",
        "def ticketHeader(organization):\n",
        "  print(\"*****  \",organization,\"  *****\")\n",
        "  print(\"WINTER LOTTERY RAFFLE\")\n",
        "  print(\"Based on the December 2021 Ohio Evening Pick 3\")\n",
        "  print(\"31 chances to win\")\n",
        "\n",
        "def ticketBody(price):\n",
        "  print(\"Tickets: $\",price,\" each\")  \n",
        "\n",
        "def ticketFooter(winning):\n",
        "  print(\"Each time your number matches\")\n",
        "  print(\"the December 2021 Ohio Evening Pick 3\")\n",
        "  print(\"You win $\",winning)\n",
        "\n",
        "orgName = input(\"Please enter the name of the organization\")\n",
        "ticketPrice = input(\"Please enter the price of the ticket\")\n",
        "winnings = input(\"Please enter the value of winnings\")\n",
        "\n",
        "ticketHeader(orgName)\n",
        "ticketBody(ticketPrice)\n",
        "ticketFooter(winnings)"
      ],
      "execution_count": null,
      "outputs": [
        {
          "output_type": "stream",
          "text": [
            "Please enter the name of the organizationABH\n",
            "Please enter the price of the ticket20\n",
            "Please enter the value of winnings000\n",
            "*****   ABH   *****\n",
            "WINTER LOTTERY RAFFLE\n",
            "Based on the December 2021 Ohio Evening Pick 3\n",
            "31 chances to win\n",
            "Tickets: $ 20  each\n",
            "Each time your number matches\n",
            "the December 2021 Ohio Evening Pick 3\n",
            "You win $ 000\n"
          ],
          "name": "stdout"
        }
      ]
    },
    {
      "cell_type": "code",
      "metadata": {
        "id": "PpRoH1jf-atJ",
        "colab": {
          "base_uri": "https://localhost:8080/"
        },
        "outputId": "2199f230-9693-4837-eadf-af25fae3e9c9"
      },
      "source": [
        "#Moved the input taking to after the delaration of the functions\n",
        "def ticketHeader(organization):\n",
        "  print(\"*****  \",organization,\"  *****\")\n",
        "  print(\"WINTER LOTTERY RAFFLE\")\n",
        "  print(\"Based on the December 2021 Ohio Evening Pick 3\")\n",
        "  print(\"31 chances to win\")\n",
        "\n",
        "def ticketBody(price):\n",
        "  print(\"Tickets: $\",price,\" each\")  \n",
        "\n",
        "def ticketFooter(winning):\n",
        "  print(\"Each time your number matches\")\n",
        "  print(\"the December 2021 Ohio Evening Pick 3\")\n",
        "  print(\"You win $\",winning)\n",
        "\n",
        "def takeInputs():\n",
        "  global orgName #global keyword delares that the variable scope is not limited to the function\n",
        "  global ticketPrice\n",
        "  global winnings\n",
        "  orgName = input(\"Please enter the name of the organization : \")\n",
        "  ticketPrice = input(\"Please enter the price of the ticket : \")\n",
        "  winnings = input(\"Please enter the value of winnings : \")\n",
        "\n",
        "takeInputs()\n",
        "ticketHeader(orgName)\n",
        "ticketBody(ticketPrice)\n",
        "ticketFooter(winnings)"
      ],
      "execution_count": null,
      "outputs": [
        {
          "output_type": "stream",
          "text": [
            "Please enter the name of the organization : Nikhil International\n",
            "Please enter the price of the ticket : 50\n",
            "Please enter the value of winnings : 5000\n",
            "*****   Nikhil International   *****\n",
            "WINTER LOTTERY RAFFLE\n",
            "Based on the December 2021 Ohio Evening Pick 3\n",
            "31 chances to win\n",
            "Tickets: $ 50  each\n",
            "Each time your number matches\n",
            "the December 2021 Ohio Evening Pick 3\n",
            "You win $ 5000\n"
          ],
          "name": "stdout"
        }
      ]
    },
    {
      "cell_type": "markdown",
      "metadata": {
        "id": "5Pg8Jvoq5vPs"
      },
      "source": [
        "### Practice work (ticket machine)\n",
        "\n",
        "In this example, you will be simulating the logical operation of a ticket machine.\n",
        "\n",
        "A ticket machine issues tickets for a given price after an individual has input a certain amount of money into the ticket machine. \n",
        "\n",
        "If the money that the individual has put into the ticket machine is less than the price of the ticket, the machine informs the individual that not enough money has been put in. \n",
        "\n",
        "If sufficient money has been put in then the ticket machine issues a ticket and deducts the price of the ticket from the money put in and returns the change if any. \n",
        "\n",
        "Your job is to code this ticket machine based on the above description and the following instructions. \n",
        "\n",
        "Code the following:\n",
        "\n",
        "1. Create the appropriate prompts and take and store 2 inputs from the user\n",
        "        a. Price of the ticket\n",
        "        b. Money to be put into the ticket machine\n",
        "2. Evaluate if the money put into the ticket machine is greater than the price of the ticket\n",
        "3. If the money put in is greater than the price of the ticket then print out the ticket i.e. Just a simple message saying ticket is printed \n",
        "        - Once a ticket is printed, the system shoudl also deduct the price of the ticket \n",
        "        from the money put in and return it. Print out a message indicating how much \n",
        "        money is being returned.\n",
        "4. If the money put in is less than the price of the ticket, then print out a message indicating so and indicate how much more needs to be put in. "
      ]
    },
    {
      "cell_type": "code",
      "metadata": {
        "id": "dPNpf-26Aq6i",
        "colab": {
          "base_uri": "https://localhost:8080/"
        },
        "outputId": "2ff4fe67-8a60-47a6-b722-0c4c00a2e127"
      },
      "source": [
        "print(\"***** Welcome to the Scantron Ticket Printing System *****\")\n",
        "print(\"***** Please follow the prompts below to get tickets *****\")\n",
        "print()\n",
        "ticketPrice = int(input(\"***** Please enter the price you wish to set for tickets issued by this machine : \"))\n",
        "print()\n",
        "userMoney = int(input(\"***** Please enter the amount of money you put into the machine : \"))\n",
        "\n",
        "if ( userMoney >= ticketPrice):\n",
        "  print()\n",
        "  print(\"***** Ticket *****\")\n",
        "  print(\"***** Ticket for movie *****\")\n",
        "  print(\"***** Price : $\",ticketPrice,\" *****\")\n",
        "  print()\n",
        "  userMoney = userMoney - ticketPrice\n",
        "else:\n",
        "  print(\"User has not provided enough money to purchase ticket. Please put more money in!!\")  \n",
        "\n",
        "if(userMoney > 0):\n",
        "  print(\"Please take your change from the machine : \", userMoney, \" dollars.\")\n",
        "\n"
      ],
      "execution_count": null,
      "outputs": [
        {
          "output_type": "stream",
          "text": [
            "***** Welcome to the Scantron Ticket Printing System *****\n",
            "***** Please follow the prompts below to get tickets *****\n",
            "\n",
            "***** Please enter the price you wish to set for tickets issued by this machine : 50\n",
            "\n",
            "***** Please enter the amount of money you put into the machine : 50\n",
            "\n",
            "***** Ticket *****\n",
            "***** Ticket for movie *****\n",
            "***** Price : $ 50  *****\n",
            "\n"
          ],
          "name": "stdout"
        }
      ]
    },
    {
      "cell_type": "markdown",
      "metadata": {
        "id": "8F2IAoYn8XRn"
      },
      "source": [
        "# Lists and Tuples and Loops Practice Work\n",
        "\n",
        "Write a script to prompt a user to provide the folowing inputs\n",
        "\n",
        "1. Name\n",
        "2. Major\n",
        "3. GPA\n",
        "\n",
        "Store the 3 provided values as a single list within a ***persons*** list.\n",
        "\n",
        "Continue taking inputs from the user for the 3 attributes and store them in the ***persons*** list till the user has indicated they wish to stop. \n",
        "\n",
        "Once the user has indicated they wish to stop, print out all the inputs that the user has provided"
      ]
    },
    {
      "cell_type": "code",
      "metadata": {
        "colab": {
          "base_uri": "https://localhost:8080/",
          "height": 283
        },
        "id": "RGQ2p1FnFouR",
        "outputId": "ef196e9b-8915-4227-e02c-6cfc01a53187"
      },
      "source": [
        "keepGoing = True\n",
        "persons = []\n",
        "while (keepGoing):\n",
        "  name = input(\"Please provide a student name :\")\n",
        "  major = input(\"Please provide a student major :\")\n",
        "  gpa = input(\"Please provide a student gpa :\")\n",
        "  aPerson = [name,major,gpa]\n",
        "  persons.append(aPerson)\n",
        "  print(persons)\n",
        "  print()\n",
        "  cont = input(\"Does the user wish to continue y/n :\")\n",
        "  print()\n",
        "  if(cont == \"n\"):\n",
        "    keepGoing = False\n",
        "\n",
        "print()\n",
        "for aPerson in persons:\n",
        "  print(f\"Name : {aPerson[0]}\")\n",
        "  print(f\"Major : {aPerson[1]}\")\n",
        "  print(f\"GPA : {aPerson[2]}\")\n",
        "  print()"
      ],
      "execution_count": null,
      "outputs": [
        {
          "output_type": "stream",
          "text": [
            "Please provide a student name :Nikhil\n",
            "Please provide a student major :MIS\n",
            "Please provide a student gpa :3.2\n"
          ],
          "name": "stdout"
        },
        {
          "output_type": "error",
          "ename": "TypeError",
          "evalue": "ignored",
          "traceback": [
            "\u001b[0;31m---------------------------------------------------------------------------\u001b[0m",
            "\u001b[0;31mTypeError\u001b[0m                                 Traceback (most recent call last)",
            "\u001b[0;32m<ipython-input-12-1b3bab91d4b2>\u001b[0m in \u001b[0;36m<module>\u001b[0;34m()\u001b[0m\n\u001b[1;32m      6\u001b[0m   \u001b[0mgpa\u001b[0m \u001b[0;34m=\u001b[0m \u001b[0minput\u001b[0m\u001b[0;34m(\u001b[0m\u001b[0;34m\"Please provide a student gpa :\"\u001b[0m\u001b[0;34m)\u001b[0m\u001b[0;34m\u001b[0m\u001b[0;34m\u001b[0m\u001b[0m\n\u001b[1;32m      7\u001b[0m   \u001b[0maPerson\u001b[0m \u001b[0;34m=\u001b[0m \u001b[0;34m[\u001b[0m\u001b[0mname\u001b[0m\u001b[0;34m,\u001b[0m\u001b[0mmajor\u001b[0m\u001b[0;34m,\u001b[0m\u001b[0mgpa\u001b[0m\u001b[0;34m]\u001b[0m\u001b[0;34m\u001b[0m\u001b[0;34m\u001b[0m\u001b[0m\n\u001b[0;32m----> 8\u001b[0;31m   \u001b[0mpersons\u001b[0m\u001b[0;34m[\u001b[0m\u001b[0maPerson\u001b[0m\u001b[0;34m]\u001b[0m\u001b[0;34m\u001b[0m\u001b[0;34m\u001b[0m\u001b[0m\n\u001b[0m\u001b[1;32m      9\u001b[0m   \u001b[0mprint\u001b[0m\u001b[0;34m(\u001b[0m\u001b[0mpersons\u001b[0m\u001b[0;34m)\u001b[0m\u001b[0;34m\u001b[0m\u001b[0;34m\u001b[0m\u001b[0m\n\u001b[1;32m     10\u001b[0m   \u001b[0mprint\u001b[0m\u001b[0;34m(\u001b[0m\u001b[0;34m)\u001b[0m\u001b[0;34m\u001b[0m\u001b[0;34m\u001b[0m\u001b[0m\n",
            "\u001b[0;31mTypeError\u001b[0m: list indices must be integers or slices, not list"
          ]
        }
      ]
    },
    {
      "cell_type": "markdown",
      "metadata": {
        "id": "yyPotHmi4fET"
      },
      "source": [
        "# Using the panda's package\n",
        "\n",
        "1. Import the following dataset\n",
        "  https://elasticbeanstalk-us-east-1-712866102994.s3.amazonaws.com/data/TitanicSurvivors.csv\n",
        "\n",
        "2. Identify the dimensions of the data set\n",
        "  * the number of axes\n",
        "  * the data types of the elements\n",
        "  * the number of dimensions\n",
        "  * the shape of the data frame\n",
        "  * the size fo the data frame\n",
        "  * describe all the columns of the data set\n",
        "\n",
        "2. Select all female passengers under the age of 18 who did not survive. How many were there and what was their average age?\n",
        "\n",
        "3. Select all male passengers over the age of 30 who had at least 1 sibling on board who survived. How many were there and what was their average age?"
      ]
    },
    {
      "cell_type": "code",
      "metadata": {
        "colab": {
          "base_uri": "https://localhost:8080/",
          "height": 576
        },
        "id": "VkGB9FN24utY",
        "outputId": "0186bc89-5989-4679-c5bf-45196dbd985d"
      },
      "source": [
        "import pandas as pd\n",
        "\n",
        "data = pd.read_csv(\"https://elasticbeanstalk-us-east-1-712866102994.s3.amazonaws.com/data/TitanicSurvivors.csv\")\n",
        "\n",
        "\n",
        "data.loc[(data[\"Sex\"] == \"female\") & (data['Age'] < 18) & (data['Survived'] == 0)]\n"
      ],
      "execution_count": 4,
      "outputs": [
        {
          "output_type": "execute_result",
          "data": {
            "text/html": [
              "<div>\n",
              "<style scoped>\n",
              "    .dataframe tbody tr th:only-of-type {\n",
              "        vertical-align: middle;\n",
              "    }\n",
              "\n",
              "    .dataframe tbody tr th {\n",
              "        vertical-align: top;\n",
              "    }\n",
              "\n",
              "    .dataframe thead th {\n",
              "        text-align: right;\n",
              "    }\n",
              "</style>\n",
              "<table border=\"1\" class=\"dataframe\">\n",
              "  <thead>\n",
              "    <tr style=\"text-align: right;\">\n",
              "      <th></th>\n",
              "      <th>PassengerId</th>\n",
              "      <th>Survived</th>\n",
              "      <th>Pclass</th>\n",
              "      <th>Name</th>\n",
              "      <th>Sex</th>\n",
              "      <th>Age</th>\n",
              "      <th>SibSp</th>\n",
              "      <th>Parch</th>\n",
              "      <th>Ticket</th>\n",
              "      <th>Fare</th>\n",
              "      <th>Cabin</th>\n",
              "      <th>Embarked</th>\n",
              "    </tr>\n",
              "  </thead>\n",
              "  <tbody>\n",
              "    <tr>\n",
              "      <th>14</th>\n",
              "      <td>15</td>\n",
              "      <td>0</td>\n",
              "      <td>3</td>\n",
              "      <td>Vestrom, Miss. Hulda Amanda Adolfina</td>\n",
              "      <td>female</td>\n",
              "      <td>14.0</td>\n",
              "      <td>0</td>\n",
              "      <td>0</td>\n",
              "      <td>350406</td>\n",
              "      <td>7.8542</td>\n",
              "      <td>NaN</td>\n",
              "      <td>S</td>\n",
              "    </tr>\n",
              "    <tr>\n",
              "      <th>24</th>\n",
              "      <td>25</td>\n",
              "      <td>0</td>\n",
              "      <td>3</td>\n",
              "      <td>Palsson, Miss. Torborg Danira</td>\n",
              "      <td>female</td>\n",
              "      <td>8.0</td>\n",
              "      <td>3</td>\n",
              "      <td>1</td>\n",
              "      <td>349909</td>\n",
              "      <td>21.0750</td>\n",
              "      <td>NaN</td>\n",
              "      <td>S</td>\n",
              "    </tr>\n",
              "    <tr>\n",
              "      <th>71</th>\n",
              "      <td>72</td>\n",
              "      <td>0</td>\n",
              "      <td>3</td>\n",
              "      <td>Goodwin, Miss. Lillian Amy</td>\n",
              "      <td>female</td>\n",
              "      <td>16.0</td>\n",
              "      <td>5</td>\n",
              "      <td>2</td>\n",
              "      <td>CA 2144</td>\n",
              "      <td>46.9000</td>\n",
              "      <td>NaN</td>\n",
              "      <td>S</td>\n",
              "    </tr>\n",
              "    <tr>\n",
              "      <th>111</th>\n",
              "      <td>112</td>\n",
              "      <td>0</td>\n",
              "      <td>3</td>\n",
              "      <td>Zabour, Miss. Hileni</td>\n",
              "      <td>female</td>\n",
              "      <td>14.5</td>\n",
              "      <td>1</td>\n",
              "      <td>0</td>\n",
              "      <td>2665</td>\n",
              "      <td>14.4542</td>\n",
              "      <td>NaN</td>\n",
              "      <td>C</td>\n",
              "    </tr>\n",
              "    <tr>\n",
              "      <th>114</th>\n",
              "      <td>115</td>\n",
              "      <td>0</td>\n",
              "      <td>3</td>\n",
              "      <td>Attalah, Miss. Malake</td>\n",
              "      <td>female</td>\n",
              "      <td>17.0</td>\n",
              "      <td>0</td>\n",
              "      <td>0</td>\n",
              "      <td>2627</td>\n",
              "      <td>14.4583</td>\n",
              "      <td>NaN</td>\n",
              "      <td>C</td>\n",
              "    </tr>\n",
              "    <tr>\n",
              "      <th>119</th>\n",
              "      <td>120</td>\n",
              "      <td>0</td>\n",
              "      <td>3</td>\n",
              "      <td>Andersson, Miss. Ellis Anna Maria</td>\n",
              "      <td>female</td>\n",
              "      <td>2.0</td>\n",
              "      <td>4</td>\n",
              "      <td>2</td>\n",
              "      <td>347082</td>\n",
              "      <td>31.2750</td>\n",
              "      <td>NaN</td>\n",
              "      <td>S</td>\n",
              "    </tr>\n",
              "    <tr>\n",
              "      <th>147</th>\n",
              "      <td>148</td>\n",
              "      <td>0</td>\n",
              "      <td>3</td>\n",
              "      <td>Ford, Miss. Robina Maggie \"Ruby\"</td>\n",
              "      <td>female</td>\n",
              "      <td>9.0</td>\n",
              "      <td>2</td>\n",
              "      <td>2</td>\n",
              "      <td>W./C. 6608</td>\n",
              "      <td>34.3750</td>\n",
              "      <td>NaN</td>\n",
              "      <td>S</td>\n",
              "    </tr>\n",
              "    <tr>\n",
              "      <th>205</th>\n",
              "      <td>206</td>\n",
              "      <td>0</td>\n",
              "      <td>3</td>\n",
              "      <td>Strom, Miss. Telma Matilda</td>\n",
              "      <td>female</td>\n",
              "      <td>2.0</td>\n",
              "      <td>0</td>\n",
              "      <td>1</td>\n",
              "      <td>347054</td>\n",
              "      <td>10.4625</td>\n",
              "      <td>G6</td>\n",
              "      <td>S</td>\n",
              "    </tr>\n",
              "    <tr>\n",
              "      <th>297</th>\n",
              "      <td>298</td>\n",
              "      <td>0</td>\n",
              "      <td>1</td>\n",
              "      <td>Allison, Miss. Helen Loraine</td>\n",
              "      <td>female</td>\n",
              "      <td>2.0</td>\n",
              "      <td>1</td>\n",
              "      <td>2</td>\n",
              "      <td>113781</td>\n",
              "      <td>151.5500</td>\n",
              "      <td>C22 C26</td>\n",
              "      <td>S</td>\n",
              "    </tr>\n",
              "    <tr>\n",
              "      <th>374</th>\n",
              "      <td>375</td>\n",
              "      <td>0</td>\n",
              "      <td>3</td>\n",
              "      <td>Palsson, Miss. Stina Viola</td>\n",
              "      <td>female</td>\n",
              "      <td>3.0</td>\n",
              "      <td>3</td>\n",
              "      <td>1</td>\n",
              "      <td>349909</td>\n",
              "      <td>21.0750</td>\n",
              "      <td>NaN</td>\n",
              "      <td>S</td>\n",
              "    </tr>\n",
              "    <tr>\n",
              "      <th>419</th>\n",
              "      <td>420</td>\n",
              "      <td>0</td>\n",
              "      <td>3</td>\n",
              "      <td>Van Impe, Miss. Catharina</td>\n",
              "      <td>female</td>\n",
              "      <td>10.0</td>\n",
              "      <td>0</td>\n",
              "      <td>2</td>\n",
              "      <td>345773</td>\n",
              "      <td>24.1500</td>\n",
              "      <td>NaN</td>\n",
              "      <td>S</td>\n",
              "    </tr>\n",
              "    <tr>\n",
              "      <th>541</th>\n",
              "      <td>542</td>\n",
              "      <td>0</td>\n",
              "      <td>3</td>\n",
              "      <td>Andersson, Miss. Ingeborg Constanzia</td>\n",
              "      <td>female</td>\n",
              "      <td>9.0</td>\n",
              "      <td>4</td>\n",
              "      <td>2</td>\n",
              "      <td>347082</td>\n",
              "      <td>31.2750</td>\n",
              "      <td>NaN</td>\n",
              "      <td>S</td>\n",
              "    </tr>\n",
              "    <tr>\n",
              "      <th>542</th>\n",
              "      <td>543</td>\n",
              "      <td>0</td>\n",
              "      <td>3</td>\n",
              "      <td>Andersson, Miss. Sigrid Elisabeth</td>\n",
              "      <td>female</td>\n",
              "      <td>11.0</td>\n",
              "      <td>4</td>\n",
              "      <td>2</td>\n",
              "      <td>347082</td>\n",
              "      <td>31.2750</td>\n",
              "      <td>NaN</td>\n",
              "      <td>S</td>\n",
              "    </tr>\n",
              "    <tr>\n",
              "      <th>634</th>\n",
              "      <td>635</td>\n",
              "      <td>0</td>\n",
              "      <td>3</td>\n",
              "      <td>Skoog, Miss. Mabel</td>\n",
              "      <td>female</td>\n",
              "      <td>9.0</td>\n",
              "      <td>3</td>\n",
              "      <td>2</td>\n",
              "      <td>347088</td>\n",
              "      <td>27.9000</td>\n",
              "      <td>NaN</td>\n",
              "      <td>S</td>\n",
              "    </tr>\n",
              "    <tr>\n",
              "      <th>642</th>\n",
              "      <td>643</td>\n",
              "      <td>0</td>\n",
              "      <td>3</td>\n",
              "      <td>Skoog, Miss. Margit Elizabeth</td>\n",
              "      <td>female</td>\n",
              "      <td>2.0</td>\n",
              "      <td>3</td>\n",
              "      <td>2</td>\n",
              "      <td>347088</td>\n",
              "      <td>27.9000</td>\n",
              "      <td>NaN</td>\n",
              "      <td>S</td>\n",
              "    </tr>\n",
              "    <tr>\n",
              "      <th>813</th>\n",
              "      <td>814</td>\n",
              "      <td>0</td>\n",
              "      <td>3</td>\n",
              "      <td>Andersson, Miss. Ebba Iris Alfrida</td>\n",
              "      <td>female</td>\n",
              "      <td>6.0</td>\n",
              "      <td>4</td>\n",
              "      <td>2</td>\n",
              "      <td>347082</td>\n",
              "      <td>31.2750</td>\n",
              "      <td>NaN</td>\n",
              "      <td>S</td>\n",
              "    </tr>\n",
              "    <tr>\n",
              "      <th>852</th>\n",
              "      <td>853</td>\n",
              "      <td>0</td>\n",
              "      <td>3</td>\n",
              "      <td>Boulos, Miss. Nourelain</td>\n",
              "      <td>female</td>\n",
              "      <td>9.0</td>\n",
              "      <td>1</td>\n",
              "      <td>1</td>\n",
              "      <td>2678</td>\n",
              "      <td>15.2458</td>\n",
              "      <td>NaN</td>\n",
              "      <td>C</td>\n",
              "    </tr>\n",
              "  </tbody>\n",
              "</table>\n",
              "</div>"
            ],
            "text/plain": [
              "     PassengerId  Survived  Pclass  ...      Fare    Cabin  Embarked\n",
              "14            15         0       3  ...    7.8542      NaN         S\n",
              "24            25         0       3  ...   21.0750      NaN         S\n",
              "71            72         0       3  ...   46.9000      NaN         S\n",
              "111          112         0       3  ...   14.4542      NaN         C\n",
              "114          115         0       3  ...   14.4583      NaN         C\n",
              "119          120         0       3  ...   31.2750      NaN         S\n",
              "147          148         0       3  ...   34.3750      NaN         S\n",
              "205          206         0       3  ...   10.4625       G6         S\n",
              "297          298         0       1  ...  151.5500  C22 C26         S\n",
              "374          375         0       3  ...   21.0750      NaN         S\n",
              "419          420         0       3  ...   24.1500      NaN         S\n",
              "541          542         0       3  ...   31.2750      NaN         S\n",
              "542          543         0       3  ...   31.2750      NaN         S\n",
              "634          635         0       3  ...   27.9000      NaN         S\n",
              "642          643         0       3  ...   27.9000      NaN         S\n",
              "813          814         0       3  ...   31.2750      NaN         S\n",
              "852          853         0       3  ...   15.2458      NaN         C\n",
              "\n",
              "[17 rows x 12 columns]"
            ]
          },
          "metadata": {
            "tags": []
          },
          "execution_count": 4
        }
      ]
    }
  ]
}