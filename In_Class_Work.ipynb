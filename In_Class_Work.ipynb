{
  "nbformat": 4,
  "nbformat_minor": 0,
  "metadata": {
    "colab": {
      "name": "In-Class Work.ipynb",
      "provenance": [],
      "collapsed_sections": [],
      "authorship_tag": "ABX9TyNde8icVEGMI20xsh8KlN2K",
      "include_colab_link": true
    },
    "kernelspec": {
      "name": "python3",
      "display_name": "Python 3"
    },
    "language_info": {
      "name": "python"
    }
  },
  "cells": [
    {
      "cell_type": "markdown",
      "metadata": {
        "id": "view-in-github",
        "colab_type": "text"
      },
      "source": [
        "<a href=\"https://colab.research.google.com/github/SrinivasanNikhil/DataLiteracy/blob/master/In_Class_Work.ipynb\" target=\"_parent\"><img src=\"https://colab.research.google.com/assets/colab-badge.svg\" alt=\"Open In Colab\"/></a>"
      ]
    },
    {
      "cell_type": "markdown",
      "metadata": {
        "id": "RIr76dRMTOrB"
      },
      "source": [
        "## Intro to Python Module\n",
        "\n",
        "#### In-class Work\n",
        "\n",
        "Write a python script to first declare 2 variables height and weight and initialize it with resonable values. Height should be in inches and weight should be in pounds. \n",
        "\n",
        "You will be using these 2 values to calculate a third variable BMI. \n",
        "BMI is calcualtes as (weight / (height)^2)*703\n",
        "\n",
        "**BMI\t            Weight Status**\n",
        "\n",
        "Below 18.5  \t  Underweight\n",
        "\n",
        "18.5 – 24.9\t    Normal or Healthy Weight\n",
        "\n",
        "25.0 – 29.9 \t  Overweight\n",
        "\n",
        "30.0 and Above\tObese\n",
        "\n",
        "Print out the value of the BMI and the above table. "
      ]
    },
    {
      "cell_type": "code",
      "metadata": {
        "id": "We0S_5xD2BMc"
      },
      "source": [
        ""
      ],
      "execution_count": null,
      "outputs": []
    },
    {
      "cell_type": "markdown",
      "metadata": {
        "id": "QB6FPf3b2Bno"
      },
      "source": [
        "#### Please write a set of print statetments that will print out the following ticket\n",
        "\n",
        "![Python Ticket Example](https://elasticbeanstalk-us-east-1-712866102994.s3.amazonaws.com/PythonTicketEx.png)"
      ]
    },
    {
      "cell_type": "code",
      "metadata": {
        "id": "o6Bbv_gm2EnC"
      },
      "source": [
        ""
      ],
      "execution_count": null,
      "outputs": []
    },
    {
      "cell_type": "markdown",
      "metadata": {
        "id": "FyBBz_Ie2FD4"
      },
      "source": [
        "#### Please write a set of print statetments that will print out the following ticket.\n",
        "\n",
        "In this case however use the input statement to take in the name of the organization, the price of the ticket and the value of winnings. Use the inputs to modify the ticket printed below.\n",
        "\n",
        "![Python Ticket Example](https://elasticbeanstalk-us-east-1-712866102994.s3.amazonaws.com/PythonTicketEx.png)\n"
      ]
    },
    {
      "cell_type": "code",
      "metadata": {
        "id": "zY8vR8Ae2Hd5"
      },
      "source": [
        ""
      ],
      "execution_count": null,
      "outputs": []
    }
  ]
}