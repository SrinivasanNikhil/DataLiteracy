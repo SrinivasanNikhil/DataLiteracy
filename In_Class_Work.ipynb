{
  "nbformat": 4,
  "nbformat_minor": 0,
  "metadata": {
    "colab": {
      "name": "In-Class Work.ipynb",
      "provenance": [],
      "collapsed_sections": [],
      "toc_visible": true,
      "authorship_tag": "ABX9TyOtk+49DdiwAlvhzqoR7csb",
      "include_colab_link": true
    },
    "kernelspec": {
      "name": "python3",
      "display_name": "Python 3"
    },
    "language_info": {
      "name": "python"
    }
  },
  "cells": [
    {
      "cell_type": "markdown",
      "metadata": {
        "id": "view-in-github",
        "colab_type": "text"
      },
      "source": [
        "<a href=\"https://colab.research.google.com/github/SrinivasanNikhil/DataLiteracy/blob/master/In_Class_Work.ipynb\" target=\"_parent\"><img src=\"https://colab.research.google.com/assets/colab-badge.svg\" alt=\"Open In Colab\"/></a>"
      ]
    },
    {
      "cell_type": "markdown",
      "metadata": {
        "id": "RIr76dRMTOrB"
      },
      "source": [
        "## Intro to Python Module\n",
        "\n",
        "#### In-class Work\n",
        "\n",
        "Write a python script to first declare 2 variables height and weight and initialize it with resonable values. Height should be in inches and weight should be in pounds. \n",
        "\n",
        "You will be using these 2 values to calculate a third variable BMI. \n",
        "BMI is calcualtes as (weight / (height)^2)*703\n",
        "\n",
        "**BMI\t            Weight Status**\n",
        "\n",
        "Below 18.5  \t  Underweight\n",
        "\n",
        "18.5 – 24.9\t    Normal or Healthy Weight\n",
        "\n",
        "25.0 – 29.9 \t  Overweight\n",
        "\n",
        "30.0 and Above\tObese\n",
        "\n",
        "Print out the value of the BMI and the above table. "
      ]
    },
    {
      "cell_type": "code",
      "metadata": {
        "colab": {
          "base_uri": "https://localhost:8080/"
        },
        "id": "We0S_5xD2BMc",
        "outputId": "e656834e-e1b0-4eed-e59a-8da84a2ee091"
      },
      "source": [
        "height = 75\n",
        "weight = 183\n",
        "\n",
        "bmi = (weight/(height ** 2)) * 703\n",
        "\n",
        "formattedResponse = \"\"\"\n",
        "BMI Weight Status\n",
        "\n",
        "Below 18.5 Underweight\n",
        "\n",
        "18.5 – 24.9 Normal or Healthy Weight\n",
        "\n",
        "25.0 – 29.9 Overweight\n",
        "\n",
        "30.0 and Above Obese\n",
        "\"\"\"\n",
        "\n",
        "response = \"BMI Weight Status \\n Below 18.5 Underweight \\n 18.5 – 24.9  Normal or Healthy Weight \\n 25.0 – 29.9 Overweight \\n 30.0 and Above Obese\"\n",
        "\n",
        "print()\n",
        "print(\"The value of BMI is : \", bmi)\n",
        "print()\n",
        "print(response)\n"
      ],
      "execution_count": null,
      "outputs": [
        {
          "output_type": "stream",
          "text": [
            "\n",
            "The value of BMI is :  22.87093333333333\n",
            "\n",
            "BMI Weight Status \n",
            " Below 18.5 Underweight \n",
            " 18.5 – 24.9  Normal or Healthy Weight \n",
            " 25.0 – 29.9 Overweight \n",
            " 30.0 and Above Obese\n"
          ],
          "name": "stdout"
        }
      ]
    },
    {
      "cell_type": "markdown",
      "metadata": {
        "id": "QB6FPf3b2Bno"
      },
      "source": [
        "#### Please write a set of print statetments that will print out the following ticket\n",
        "\n",
        "![Python Ticket Example](https://elasticbeanstalk-us-east-1-712866102994.s3.amazonaws.com/PythonTicketEx.png)"
      ]
    },
    {
      "cell_type": "code",
      "metadata": {
        "colab": {
          "base_uri": "https://localhost:8080/"
        },
        "id": "o6Bbv_gm2EnC",
        "outputId": "4d8252ab-5e5f-4f64-ad3c-e7de93dac823"
      },
      "source": [
        "print(\"Your Organization\")\n",
        "print(\"WINTER LOTTERY RAFFLE\")\n",
        "print(\"Based on the December 2021 Ohio Evening Pick 3\")\n",
        "print(\"31 chances to win\")\n",
        "print(\"Tickets: $2.00 each\")\n",
        "print(\"Each time your number matches\")\n",
        "print(\"the December 2021 Ohio Evening Pick 3\")\n",
        "print(\"You win $100\")"
      ],
      "execution_count": null,
      "outputs": [
        {
          "output_type": "stream",
          "text": [
            "Your Organization\n",
            "WINTER LOTTERY RAFFLE\n",
            "Based on the December 2021 Ohio Evening Pick 3\n",
            "31 chances to win\n",
            "Tickets: $2.00 each\n",
            "Each time your number matches\n",
            "the December 2021 Ohio Evening Pick 3\n",
            "You win $100\n"
          ],
          "name": "stdout"
        }
      ]
    },
    {
      "cell_type": "markdown",
      "metadata": {
        "id": "FyBBz_Ie2FD4"
      },
      "source": [
        "#### Please write a set of print statetments that will print out the following ticket.\n",
        "\n",
        "In this case however use the input statement to take in the name of the organization, the price of the ticket and the value of winnings. Use the inputs to modify the ticket printed below.\n",
        "\n",
        "![Python Ticket Example](https://elasticbeanstalk-us-east-1-712866102994.s3.amazonaws.com/PythonTicketEx.png)\n"
      ]
    },
    {
      "cell_type": "code",
      "metadata": {
        "colab": {
          "base_uri": "https://localhost:8080/"
        },
        "id": "zY8vR8Ae2Hd5",
        "outputId": "d2373df5-01b2-4cb9-95d7-cb60d4a10740"
      },
      "source": [
        "organizationName = input(\"Please enter the name of the organization: \")\n",
        "ticketPrice = input(\"Please enter the price of the ticket: \")\n",
        "winnings = input(\"please enter the value of winnings: \")\n",
        "\n",
        "print()a\n",
        "print(organizationName)\n",
        "print(\"WINTER LOTTERY RAFFLE\")\n",
        "print(\"Based on the December 2021 Ohio Evening Pick 3\")\n",
        "print(\"31 chances to win\")\n",
        "print(\"Tickets: $\", ticketPrice, \" each\")\n",
        "print(\"Each time your number matches\")\n",
        "print(\"the December 2021 Ohio Evening Pick 3\")\n",
        "print(\"You win $\",winnings)"
      ],
      "execution_count": null,
      "outputs": [
        {
          "output_type": "stream",
          "text": [
            "Please enter the name of the organization: aaaa\n",
            "Please enter the price of the ticket: aaa\n",
            "please enter the value of winnings: a\n",
            "\n",
            "aaaa\n",
            "WINTER LOTTERY RAFFLE\n",
            "Based on the December 2021 Ohio Evening Pick 3\n",
            "31 chances to win\n",
            "Tickets: $ aaa  each\n",
            "Each time your number matches\n",
            "the December 2021 Ohio Evening Pick 3\n",
            "You win $ a\n"
          ],
          "name": "stdout"
        }
      ]
    },
    {
      "cell_type": "markdown",
      "metadata": {
        "id": "AG63zkzMSAM1"
      },
      "source": [
        "### Please write a set of print statetments that will print out the following ticket.\n",
        "\n",
        "In this case however use the input statement to take in the name of the organization, the price of the ticket and the value of winnings. Use the inputs to modify the ticket printed below.\n",
        "\n",
        "Also create and use functions to print out parts of the ticket. \n",
        "1. Treat the first 4 lines of the ticket as 1 function\n",
        "2. Treat the 5th line as 1 function\n",
        "3. Treat the 6-8th lines as 1 function.\n",
        "\n",
        "![Python Ticket Example](https://elasticbeanstalk-us-east-1-712866102994.s3.amazonaws.com/PythonTicketEx.png)\n"
      ]
    },
    {
      "cell_type": "code",
      "metadata": {
        "id": "f4Hg4vemSFoP",
        "colab": {
          "base_uri": "https://localhost:8080/"
        },
        "outputId": "5b928d9f-2029-48fe-d136-0225ce6058de"
      },
      "source": [
        "orgName = input(\"Please enter the name of the organization\")\n",
        "ticketPrice = input(\"Please enter the price of the ticket\")\n",
        "winnings = input(\"Please enter the value of winnings\")\n",
        "\n",
        "def ticketHeader():\n",
        "  print(\"*****  \",orgName,\"  *****\")\n",
        "  print(\"WINTER LOTTERY RAFFLE\")\n",
        "  print(\"Based on the December 2021 Ohio Evening Pick 3\")\n",
        "  print(\"31 chances to win\")\n",
        "\n",
        "def ticketBody():\n",
        "  print(\"Tickets: $\",ticketPrice,\" each\")  \n",
        "\n",
        "def ticketFooter():\n",
        "  print(\"Each time your number matches\")\n",
        "  print(\"the December 2021 Ohio Evening Pick 3\")\n",
        "  print(\"You win $\",winnings)\n",
        "\n",
        "\n",
        "ticketHeader()\n",
        "ticketBody()\n",
        "ticketFooter()"
      ],
      "execution_count": 3,
      "outputs": [
        {
          "output_type": "stream",
          "text": [
            "Please enter the name of the organizationABI International\n",
            "Please enter the price of the ticket20\n",
            "Please enter the value of winnings1000\n",
            "*****   ABI International   *****\n",
            "WINTER LOTTERY RAFFLE\n",
            "Based on the December 2021 Ohio Evening Pick 3\n",
            "31 chances to win\n",
            "Tickets: $ 20  each\n",
            "Each time your number matches\n",
            "the December 2021 Ohio Evening Pick 3\n",
            "You win $ 1000\n"
          ],
          "name": "stdout"
        }
      ]
    },
    {
      "cell_type": "code",
      "metadata": {
        "id": "1lFrBmxC9i1M",
        "outputId": "ffd8a87a-9115-4bd5-9332-6dbda2b042b5",
        "colab": {
          "base_uri": "https://localhost:8080/"
        }
      },
      "source": [
        "#Moved the input taking to after the delaration of the functions\n",
        "def ticketHeader(organization):\n",
        "  print(\"*****  \",organization,\"  *****\")\n",
        "  print(\"WINTER LOTTERY RAFFLE\")\n",
        "  print(\"Based on the December 2021 Ohio Evening Pick 3\")\n",
        "  print(\"31 chances to win\")\n",
        "\n",
        "def ticketBody(price):\n",
        "  print(\"Tickets: $\",price,\" each\")  \n",
        "\n",
        "def ticketFooter(winning):\n",
        "  print(\"Each time your number matches\")\n",
        "  print(\"the December 2021 Ohio Evening Pick 3\")\n",
        "  print(\"You win $\",winning)\n",
        "\n",
        "orgName = input(\"Please enter the name of the organization\")\n",
        "ticketPrice = input(\"Please enter the price of the ticket\")\n",
        "winnings = input(\"Please enter the value of winnings\")\n",
        "\n",
        "ticketHeader(orgName)\n",
        "ticketBody(ticketPrice)\n",
        "ticketFooter(winnings)"
      ],
      "execution_count": 5,
      "outputs": [
        {
          "output_type": "stream",
          "text": [
            "Please enter the name of the organizationABH\n",
            "Please enter the price of the ticket20\n",
            "Please enter the value of winnings000\n",
            "*****   ABH   *****\n",
            "WINTER LOTTERY RAFFLE\n",
            "Based on the December 2021 Ohio Evening Pick 3\n",
            "31 chances to win\n",
            "Tickets: $ 20  each\n",
            "Each time your number matches\n",
            "the December 2021 Ohio Evening Pick 3\n",
            "You win $ 000\n"
          ],
          "name": "stdout"
        }
      ]
    },
    {
      "cell_type": "code",
      "metadata": {
        "id": "PpRoH1jf-atJ",
        "outputId": "2199f230-9693-4837-eadf-af25fae3e9c9",
        "colab": {
          "base_uri": "https://localhost:8080/"
        }
      },
      "source": [
        "#Moved the input taking to after the delaration of the functions\n",
        "def ticketHeader(organization):\n",
        "  print(\"*****  \",organization,\"  *****\")\n",
        "  print(\"WINTER LOTTERY RAFFLE\")\n",
        "  print(\"Based on the December 2021 Ohio Evening Pick 3\")\n",
        "  print(\"31 chances to win\")\n",
        "\n",
        "def ticketBody(price):\n",
        "  print(\"Tickets: $\",price,\" each\")  \n",
        "\n",
        "def ticketFooter(winning):\n",
        "  print(\"Each time your number matches\")\n",
        "  print(\"the December 2021 Ohio Evening Pick 3\")\n",
        "  print(\"You win $\",winning)\n",
        "\n",
        "def takeInputs():\n",
        "  global orgName #global keyword delares that the variable scope is not limited to the function\n",
        "  global ticketPrice\n",
        "  global winnings\n",
        "  orgName = input(\"Please enter the name of the organization : \")\n",
        "  ticketPrice = input(\"Please enter the price of the ticket : \")\n",
        "  winnings = input(\"Please enter the value of winnings : \")\n",
        "\n",
        "takeInputs()\n",
        "ticketHeader(orgName)\n",
        "ticketBody(ticketPrice)\n",
        "ticketFooter(winnings)"
      ],
      "execution_count": 8,
      "outputs": [
        {
          "output_type": "stream",
          "text": [
            "Please enter the name of the organization : Nikhil International\n",
            "Please enter the price of the ticket : 50\n",
            "Please enter the value of winnings : 5000\n",
            "*****   Nikhil International   *****\n",
            "WINTER LOTTERY RAFFLE\n",
            "Based on the December 2021 Ohio Evening Pick 3\n",
            "31 chances to win\n",
            "Tickets: $ 50  each\n",
            "Each time your number matches\n",
            "the December 2021 Ohio Evening Pick 3\n",
            "You win $ 5000\n"
          ],
          "name": "stdout"
        }
      ]
    },
    {
      "cell_type": "markdown",
      "metadata": {
        "id": "5Pg8Jvoq5vPs"
      },
      "source": [
        "### Practice work (ticket machine)\n",
        "\n",
        "In this example, you will be simulating the logical operation of a ticket machine.\n",
        "\n",
        "A ticket machine issues tickets for a given price after an individual has input a certain amount of money into the ticket machine. \n",
        "\n",
        "If the money that the individual has put into the ticket machine is less than the price of the ticket, the machine informs the individual that not enough money has been put in. \n",
        "\n",
        "If sufficient money has been put in then the ticket machine issues a ticket and deducts the price of the ticket from the money put in and returns the change if any. \n",
        "\n",
        "Your job is to code this ticket machine based on the above description and the following instructions. \n",
        "\n",
        "Code the following:\n",
        "\n",
        "1. Create the appropriate prompts and take and store 2 inputs from the user\n",
        "        a. Price of the ticket\n",
        "        b. Money to be put into the ticket machine\n",
        "2. Evaluate if the money put into the ticket machine is greater than the price of the ticket\n",
        "3. If the money put in is greater than the price of the ticket then print out the ticket i.e. Just a simple message saying ticket is printed \n",
        "        - Once a ticket is printed, the system shoudl also deduct the price of the ticket \n",
        "        from the money put in and return it. Print out a message indicating how much \n",
        "        money is being returned.\n",
        "4. If the money put in is less than the price of the ticket, then print out a message indicating so and indicate how much more needs to be put in. "
      ]
    },
    {
      "cell_type": "code",
      "metadata": {
        "id": "dPNpf-26Aq6i",
        "outputId": "2ff4fe67-8a60-47a6-b722-0c4c00a2e127",
        "colab": {
          "base_uri": "https://localhost:8080/"
        }
      },
      "source": [
        "print(\"***** Welcome to the Scantron Ticket Printing System *****\")\n",
        "print(\"***** Please follow the prompts below to get tickets *****\")\n",
        "print()\n",
        "ticketPrice = int(input(\"***** Please enter the price you wish to set for tickets issued by this machine : \"))\n",
        "print()\n",
        "userMoney = int(input(\"***** Please enter the amount of money you put into the machine : \"))\n",
        "\n",
        "if ( userMoney >= ticketPrice):\n",
        "  print()\n",
        "  print(\"***** Ticket *****\")\n",
        "  print(\"***** Ticket for movie *****\")\n",
        "  print(\"***** Price : $\",ticketPrice,\" *****\")\n",
        "  print()\n",
        "  userMoney = userMoney - ticketPrice\n",
        "else:\n",
        "  print(\"User has not provided enough money to purchase ticket. Please put more money in!!\")  \n",
        "\n",
        "if(userMoney > 0):\n",
        "  print(\"Please take your change from the machine : \", userMoney, \" dollars.\")\n",
        "\n"
      ],
      "execution_count": 17,
      "outputs": [
        {
          "output_type": "stream",
          "text": [
            "***** Welcome to the Scantron Ticket Printing System *****\n",
            "***** Please follow the prompts below to get tickets *****\n",
            "\n",
            "***** Please enter the price you wish to set for tickets issued by this machine : 50\n",
            "\n",
            "***** Please enter the amount of money you put into the machine : 50\n",
            "\n",
            "***** Ticket *****\n",
            "***** Ticket for movie *****\n",
            "***** Price : $ 50  *****\n",
            "\n"
          ],
          "name": "stdout"
        }
      ]
    }
  ]
}