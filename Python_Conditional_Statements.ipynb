{
  "nbformat": 4,
  "nbformat_minor": 0,
  "metadata": {
    "colab": {
      "name": "Python Conditional Statements.ipynb",
      "provenance": [],
      "collapsed_sections": [],
      "authorship_tag": "ABX9TyN6B+fwRQUgNYu8irXomyv/",
      "include_colab_link": true
    },
    "kernelspec": {
      "name": "python3",
      "display_name": "Python 3"
    }
  },
  "cells": [
    {
      "cell_type": "markdown",
      "metadata": {
        "id": "view-in-github",
        "colab_type": "text"
      },
      "source": [
        "<a href=\"https://colab.research.google.com/github/SrinivasanNikhil/DataLiteracy/blob/master/Python_Conditional_Statements.ipynb\" target=\"_parent\"><img src=\"https://colab.research.google.com/assets/colab-badge.svg\" alt=\"Open In Colab\"/></a>"
      ]
    },
    {
      "cell_type": "markdown",
      "metadata": {
        "id": "mF2WZZBTSpim",
        "colab_type": "text"
      },
      "source": [
        "# Python Conditionals\n",
        "\n",
        "We are familiar that python supports a varety of comparison operators that allows us to compare values such as ==, !=, <, >, <=, >= .\n",
        "These comparison operators can allow a user to develop branches in an application and alter the flow of the application within the program. \n",
        "\n",
        "The sequence of execution of a set of instructions within a python script is line by line. The python interpreter executes every instruction in sequence in which they are laid out. If one wants to alter this sequential order of execution then one need to use branching logic that is provided by if-else statements."
      ]
    },
    {
      "cell_type": "markdown",
      "metadata": {
        "id": "wFoR6mZbfRT5",
        "colab_type": "text"
      },
      "source": [
        "## if-elif-else\n",
        "\n",
        "If statements are a way to create branching logic in the flow of a script or application. if statements evaluate comparison operators and then perform sets on operations based on if the comparison evaluates to true or false.\n",
        "\n",
        "The basic structure is as follows\n",
        "\n",
        "```\n",
        "if (conditional expression):\n",
        "  perform A series of operations\n",
        "elif (another conditional expression):\n",
        "  perform B series of operations\n",
        "else:\n",
        "  perform C series of operations\n",
        "```\n",
        "\n",
        "The above code performs A series of operations if the expression in the if statement evaluates as true, performs B series of operations if the if statement evaluates to false but the elif statement evaluates to true and finally performs the C series of operations.\n",
        "\n"
      ]
    },
    {
      "cell_type": "code",
      "metadata": {
        "id": "PsXaeaDrkjtJ",
        "colab_type": "code",
        "colab": {
          "base_uri": "https://localhost:8080/",
          "height": 35
        },
        "outputId": "84e65f29-de9d-4394-d00a-ceb8d8f2bcc8"
      },
      "source": [
        "# if-elif-else\n",
        "\n",
        "\n",
        "x = 4\n",
        "y = 7\n",
        "z = 9\n",
        "\n",
        "if (y > x):\n",
        "  print(\"The value of y is greater than x.\")\n",
        "elif (x < y):\n",
        "  print(\"The value of x is greater than y.\")\n",
        "else:\n",
        "  print(\"The value of x is equal to that of y.\")\n"
      ],
      "execution_count": 3,
      "outputs": [
        {
          "output_type": "stream",
          "text": [
            "The value of y is greater than x.\n"
          ],
          "name": "stdout"
        }
      ]
    },
    {
      "cell_type": "markdown",
      "metadata": {
        "id": "Rhcz650SndQF",
        "colab_type": "text"
      },
      "source": [
        "### Nested Ifs\n",
        "\n",
        "If statements can be nested within each other as well so as to check multiple conditions. "
      ]
    },
    {
      "cell_type": "code",
      "metadata": {
        "id": "DSe1s0ShnQU_",
        "colab_type": "code",
        "colab": {
          "base_uri": "https://localhost:8080/",
          "height": 52
        },
        "outputId": "709598d6-90e6-4d2e-841e-23a2f29ef886"
      },
      "source": [
        "# if-elif-else\n",
        "\n",
        "\n",
        "x = 4\n",
        "y = 7\n",
        "z = 9\n",
        "\n",
        "if (y > x):\n",
        "  print(\"The value of y is greater than x.\")\n",
        "  if (y > z):\n",
        "    print(\"The value of y is greater than z.\")\n",
        "  else:\n",
        "    print(\"The value of y is not greater than z.\")\n",
        "elif (x > y):\n",
        "  print(\"The value of x is greater than y.\")\n",
        "  if (x > z):\n",
        "    print(\"The value of x is greater than z.\")\n",
        "  else:\n",
        "    print(\"The value of x is not greater than z.\")\n",
        "elif (z > y):\n",
        "  print(\"The value of z is greater than y.\")\n",
        "  if (z > x):\n",
        "    print(\"The value of z is greater than x.\")\n",
        "  else:\n",
        "    print(\"The value of x is not greater than z.\")"
      ],
      "execution_count": 4,
      "outputs": [
        {
          "output_type": "stream",
          "text": [
            "The value of y is greater than x.\n",
            "The value of y is not greater than z.\n"
          ],
          "name": "stdout"
        }
      ]
    },
    {
      "cell_type": "markdown",
      "metadata": {
        "id": "atq-uiIqqORc",
        "colab_type": "text"
      },
      "source": [
        "Please note in the **above** example that once the first if block is executed, the code does not execute subsequent parts of the elif that are in the same block. "
      ]
    },
    {
      "cell_type": "code",
      "metadata": {
        "id": "x-ubEDxiqZ9k",
        "colab_type": "code",
        "colab": {
          "base_uri": "https://localhost:8080/",
          "height": 86
        },
        "outputId": "308f72c2-e47d-49c1-e86a-9194a33a5cb6"
      },
      "source": [
        "# if-elif-else\n",
        "\n",
        "\n",
        "x = 4\n",
        "y = 7\n",
        "z = 9\n",
        "\n",
        "if (y > x):\n",
        "  print(\"The value of y is greater than x.\")\n",
        "  if (y > z):\n",
        "    print(\"The value of y is greater than z.\")\n",
        "  else:\n",
        "    print(\"The value of y is not greater than z.\")\n",
        "if (x > y):\n",
        "  print(\"The value of x is greater than y.\")\n",
        "  if (x > z):\n",
        "    print(\"The value of x is greater than z.\")\n",
        "  else:\n",
        "    print(\"The value of x is not greater than z.\")\n",
        "if (z > y):\n",
        "  print(\"The value of z is greater than y.\")\n",
        "  if (z > x):\n",
        "    print(\"The value of z is greater than x.\")\n",
        "  else:\n",
        "    print(\"The value of x is not greater than z.\")"
      ],
      "execution_count": 5,
      "outputs": [
        {
          "output_type": "stream",
          "text": [
            "The value of y is greater than x.\n",
            "The value of y is not greater than z.\n",
            "The value of z is greater than y.\n",
            "The value of z is greater than x.\n"
          ],
          "name": "stdout"
        }
      ]
    },
    {
      "cell_type": "markdown",
      "metadata": {
        "id": "B6txlSv1rN2_",
        "colab_type": "text"
      },
      "source": [
        "Note in the **above** example, the elif's have been replaced by if's result in 3 series of if statements that for 3 different blocks. "
      ]
    },
    {
      "cell_type": "markdown",
      "metadata": {
        "id": "kLyZg1GGtYRU",
        "colab_type": "text"
      },
      "source": [
        "### Logical operators in conditional operations. \n",
        "\n",
        "One can have multiple conditions checked simultaneously using ***and*** and ***or*** logical operators. "
      ]
    },
    {
      "cell_type": "code",
      "metadata": {
        "id": "KFfG5gDNtXw8",
        "colab_type": "code",
        "colab": {
          "base_uri": "https://localhost:8080/",
          "height": 69
        },
        "outputId": "b05880a7-61e7-428d-93a9-d5b7d76e0f62"
      },
      "source": [
        "# if-elif-else\n",
        "\n",
        "\n",
        "x = 4\n",
        "y = 7\n",
        "z = 9\n",
        "\n",
        "if (y > x or y > z):\n",
        "  if (y > z):\n",
        "    print(\"The value of y is greater than z.\")\n",
        "  if (y > x):\n",
        "    print(\"The value of y is  greater than x.\")\n",
        "elif (x > y or x > z):\n",
        "  if (x > z):\n",
        "    print(\"The value of x is greater than z.\")\n",
        "  if (x > y):\n",
        "    print(\"The value of x is greater than y.\")\n",
        "if (z > y or z > x):\n",
        "  if (z > x):\n",
        "    print(\"The value of z is greater than x.\")\n",
        "  if (z > y):\n",
        "    print(\"The value of z is  greater than y.\")"
      ],
      "execution_count": 6,
      "outputs": [
        {
          "output_type": "stream",
          "text": [
            "The value of y is  greater than x.\n",
            "The value of z is greater than x.\n",
            "The value of z is  greater than y.\n"
          ],
          "name": "stdout"
        }
      ]
    },
    {
      "cell_type": "markdown",
      "metadata": {
        "id": "sOhRCs1Cxeww",
        "colab_type": "text"
      },
      "source": [
        "### Practice work\n",
        "\n",
        "In this example, you will be simulating the logical operation of a ticket machine.\n",
        "\n",
        "A ticket machine issues tickets for a given price after an individual has input a certain amount of money into the ticket machine. \n",
        "\n",
        "If the money that the individual has put into the ticket machine is less than the price of the ticket, the machine informs the individual that not enough money has been put in. \n",
        "\n",
        "If sufficient money has been put in then the ticket machine issues a ticket and deducts the price of the ticket from the money put in and returns the change if any. \n",
        "\n",
        "Your job is to code this ticket machine based on the above description and the following instructions. \n",
        "\n",
        "Code the following:\n",
        "\n",
        "1. Create the appropriate promps and take and store 2 inputs from the user\n",
        "        a. Price of the ticket\n",
        "        b. Money to be put into the ticket machine\n",
        "2. Evaluate if the money put into the ticket machine is greater than the price of the ticket\n",
        "3. If the money put in is greater than the price of the ticket then print out the ticket i.e. Just a simple message saying ticket is printed \n",
        "        - Once a ticket is printed, the system shoudl also deduct the price of the ticket \n",
        "        from the money put in and return it. Print out a message indicating how much \n",
        "        money is being returned.\n",
        "4. If the money put in is less than the price of the ticket, then print out a message indicating so and indicate how much more needs to be put in. "
      ]
    },
    {
      "cell_type": "code",
      "metadata": {
        "id": "1S2taBlq5Vax",
        "colab_type": "code",
        "colab": {}
      },
      "source": [
        "######## CODE HERE\n",
        "\n",
        "\n",
        "\n",
        "\n",
        "\n",
        "\n",
        "\n",
        "\n",
        "\n",
        "\n",
        "###################"
      ],
      "execution_count": 0,
      "outputs": []
    }
  ]
}