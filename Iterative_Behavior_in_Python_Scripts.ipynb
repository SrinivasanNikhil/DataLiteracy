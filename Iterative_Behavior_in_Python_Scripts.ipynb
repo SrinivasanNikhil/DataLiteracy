{
  "nbformat": 4,
  "nbformat_minor": 0,
  "metadata": {
    "colab": {
      "name": "Iterative Behavior in Python Scripts.ipynb",
      "provenance": [],
      "collapsed_sections": [],
      "authorship_tag": "ABX9TyNObzEoSWkxdWmOmJWuqHcZ",
      "include_colab_link": true
    },
    "kernelspec": {
      "name": "python3",
      "display_name": "Python 3"
    }
  },
  "cells": [
    {
      "cell_type": "markdown",
      "metadata": {
        "id": "view-in-github",
        "colab_type": "text"
      },
      "source": [
        "<a href=\"https://colab.research.google.com/github/SrinivasanNikhil/DataLiteracy/blob/master/Iterative_Behavior_in_Python_Scripts.ipynb\" target=\"_parent\"><img src=\"https://colab.research.google.com/assets/colab-badge.svg\" alt=\"Open In Colab\"/></a>"
      ]
    },
    {
      "cell_type": "markdown",
      "metadata": {
        "id": "Mamoxt4Xq4s5",
        "colab_type": "text"
      },
      "source": [
        "# Iterative Behavior\n",
        "\n",
        "Often we may run across circumstances where we wish to repeat a set of instructions till a condition is met. In such circumstances, python provides users with the ability to write loops that allow for the execution of a set of statements till certain conditions are satisfied. \n",
        "\n",
        "There are 2 types of loops that are available in python\n",
        "\n",
        "1.  While loops\n",
        "2.  For loops\n",
        "\n",
        "\n",
        "## While Loops\n",
        "\n",
        "While loops tend to be used when a set of statements has to be executed while a specific condition is true. Typically one needs a variable to be initialized prior to the loop and while in the loop, the value of the variable is tested and if the test is true then loop repeats till the test returns a false.\n",
        "\n",
        "The basic structure of a while loop is as follows\n",
        "\n",
        "```\n",
        "while (condition is true)\n",
        "    do instructions\n",
        "\n",
        "```"
      ]
    },
    {
      "cell_type": "code",
      "metadata": {
        "id": "VAVRTUYaq0hS",
        "colab_type": "code",
        "outputId": "9976b433-385d-4e1d-ce01-84a7b1e05765",
        "colab": {
          "base_uri": "https://localhost:8080/",
          "height": 173
        }
      },
      "source": [
        "#while loop\n",
        "\n",
        "i = 1 #inialize the start of the loop\n",
        "\n",
        "while (i < 10): #set up the condition to be tested for is for i to be less than 10\n",
        "  print(\"The value of i is \", i)\n",
        "  i += 1 #changing the value of i within the loop so that there is a way to break out of the loop\n",
        "\n"
      ],
      "execution_count": 0,
      "outputs": [
        {
          "output_type": "stream",
          "text": [
            "Ihe value of i is  1\n",
            "Ihe value of i is  2\n",
            "Ihe value of i is  3\n",
            "Ihe value of i is  4\n",
            "Ihe value of i is  5\n",
            "Ihe value of i is  6\n",
            "Ihe value of i is  7\n",
            "Ihe value of i is  8\n",
            "Ihe value of i is  9\n"
          ],
          "name": "stdout"
        }
      ]
    },
    {
      "cell_type": "markdown",
      "metadata": {
        "id": "amUpGYqUpQL9",
        "colab_type": "text"
      },
      "source": [
        "There are several ways to express those conditions through the use of additional logical and multi-condition operators. \n",
        "\n",
        "One can determine the initializing and terminating conditions in any way one chooses. One instance is through the use of input statements to get the values."
      ]
    },
    {
      "cell_type": "code",
      "metadata": {
        "id": "pkYCpv5Yq7bA",
        "colab_type": "code",
        "outputId": "51140663-09e2-492c-c082-7d56ec42eda0",
        "colab": {
          "base_uri": "https://localhost:8080/",
          "height": 225
        }
      },
      "source": [
        "initial = int(input(\"Specify the start of the loop : \")) #taking input and convering it to int\n",
        "termination = int(input(\"Specify the end of the loop : \")) #taking input and convering it to int\n",
        "\n",
        "while( initial < termination): #Loop counts to 19\n",
        "  print(initial)\n",
        "  initial += 1\n"
      ],
      "execution_count": 0,
      "outputs": [
        {
          "output_type": "stream",
          "text": [
            "Specify the start of the loop : 10\n",
            "Specify the end of the loop : 20\n",
            "10\n",
            "11\n",
            "12\n",
            "13\n",
            "14\n",
            "15\n",
            "16\n",
            "17\n",
            "18\n",
            "19\n"
          ],
          "name": "stdout"
        }
      ]
    },
    {
      "cell_type": "markdown",
      "metadata": {
        "id": "SKIV41CQr0pg",
        "colab_type": "text"
      },
      "source": [
        "### Break statement\n",
        "\n",
        "The break statement when used inside of a loop can be used to break out of the loop."
      ]
    },
    {
      "cell_type": "code",
      "metadata": {
        "id": "M6MI7U-esA0W",
        "colab_type": "code",
        "outputId": "073816f0-0741-4f93-8409-549144a6d9e7",
        "colab": {
          "base_uri": "https://localhost:8080/",
          "height": 138
        }
      },
      "source": [
        "\n",
        "i = 1 #inialize the start of the loop\n",
        "\n",
        "while (i < 10): #set up the condition to be tested for is for i to be less than 10\n",
        "  print(\"The value of i is \", i)\n",
        "  if( i == 7): #check if the value of i is 7 within the loop\n",
        "    break #if the value of i is 7, then the if statement is try and the break executes\n",
        "  i += 1 #changing the value of i within the loop so that there is a way to break out of the loop\n",
        "\n"
      ],
      "execution_count": 0,
      "outputs": [
        {
          "output_type": "stream",
          "text": [
            "The value of i is  1\n",
            "The value of i is  2\n",
            "The value of i is  3\n",
            "The value of i is  4\n",
            "The value of i is  5\n",
            "The value of i is  6\n",
            "The value of i is  7\n"
          ],
          "name": "stdout"
        }
      ]
    },
    {
      "cell_type": "markdown",
      "metadata": {
        "id": "OxahgzsVuG8w",
        "colab_type": "text"
      },
      "source": [
        "### Continue statement\n",
        "\n",
        "The continue statement when used inside of a loop can be used to skip the ccurrent ietration of the loop and move to the next one."
      ]
    },
    {
      "cell_type": "code",
      "metadata": {
        "id": "gP1fIcjnuQ3J",
        "colab_type": "code",
        "outputId": "5fa39fb9-e912-487f-d34f-428f81634024",
        "colab": {
          "base_uri": "https://localhost:8080/",
          "height": 173
        }
      },
      "source": [
        "\n",
        "i = 0 #inialize the start of the loop\n",
        "\n",
        "while (i < 10): #set up the condition to be tested for is for i to be less than 10\n",
        "  i += 1 #changing the value of i within the loop so that there is a way to break out of the loop\n",
        "  if( i == 7): #check if the value of i is 7 within the loop\n",
        "    continue #if the value of i is 7, then the if statement is try and the continue executes\n",
        "  print(\"The value of i is \", i)\n",
        "  \n",
        "\n",
        "#Please note that in the output below, the value of i = 7 is not printed out.\n",
        "\n"
      ],
      "execution_count": 0,
      "outputs": [
        {
          "output_type": "stream",
          "text": [
            "The value of i is  1\n",
            "The value of i is  2\n",
            "The value of i is  3\n",
            "The value of i is  4\n",
            "The value of i is  5\n",
            "The value of i is  6\n",
            "The value of i is  8\n",
            "The value of i is  9\n",
            "The value of i is  10\n"
          ],
          "name": "stdout"
        }
      ]
    },
    {
      "cell_type": "markdown",
      "metadata": {
        "id": "1A3bMLJPvF_y",
        "colab_type": "text"
      },
      "source": [
        "### Else Statement\n",
        "\n",
        "The else statement allows a user to run a set of statements if the condition to be evaluated for the while loop is false.\n",
        "\n"
      ]
    },
    {
      "cell_type": "code",
      "metadata": {
        "id": "xJ7wwzWV1TVT",
        "colab_type": "code",
        "outputId": "cf030154-a0df-456d-b592-9c1935d53ecd",
        "colab": {
          "base_uri": "https://localhost:8080/",
          "height": 138
        }
      },
      "source": [
        "#while loop\n",
        "\n",
        "i = 1 #inialize the start of the loop\n",
        "keepGoing = True\n",
        "\n",
        "while (i < 10 and keepGoing == True): #set up the condition to be tested for is for i to be less than 10\n",
        "  print(\"The value of i is \", i)\n",
        "  i += 1 #changing the value of i within the loop so that there is a way to break out of the loop\n",
        "  if(i % 7 == 0):\n",
        "    keepGoing = False\n",
        "else:\n",
        "  print(\"Guess keepGoing turned out to be False after all.\")\n"
      ],
      "execution_count": 0,
      "outputs": [
        {
          "output_type": "stream",
          "text": [
            "The value of i is  1\n",
            "The value of i is  2\n",
            "The value of i is  3\n",
            "The value of i is  4\n",
            "The value of i is  5\n",
            "The value of i is  6\n",
            "Guess keepGoing turned out to be False after all.\n"
          ],
          "name": "stdout"
        }
      ]
    },
    {
      "cell_type": "markdown",
      "metadata": {
        "id": "4WqCg18o4kHQ",
        "colab_type": "text"
      },
      "source": [
        "## Practice Work\n",
        "\n",
        "Write a python script that generates the following \n",
        "\n",
        "http://www.99-bottles-of-beer.net/lyrics.html\n",
        "\n"
      ]
    },
    {
      "cell_type": "code",
      "metadata": {
        "id": "w1ZEZaxV5TTh",
        "colab_type": "code",
        "colab": {}
      },
      "source": [
        "########### CODE HERE\n",
        "\n"
      ],
      "execution_count": 0,
      "outputs": []
    },
    {
      "cell_type": "markdown",
      "metadata": {
        "id": "ZyVCGKa65qT8",
        "colab_type": "text"
      },
      "source": [
        "## For loops\n",
        "\n",
        "For loops in python get used to iterate or loop through all the elements within a sequence of any kind. They execute a set of statements within the loop for every element within the sequence.\n",
        "\n",
        "As such for loops do not have any specific starting condition or terminating condition. They start at the beginning of the sequence and terminate at the end of the sequence."
      ]
    },
    {
      "cell_type": "code",
      "metadata": {
        "id": "-bGBtair9JTL",
        "colab_type": "code",
        "outputId": "757ab9a9-8870-442f-da5c-92343e9c17d6",
        "colab": {
          "base_uri": "https://localhost:8080/",
          "height": 121
        }
      },
      "source": [
        "names = [\"Mark\",\"Jim\",\"Mason\",\"Carli\",\"Paige\",\"Vicky\"] #declared and initialized a sequence/list of names\n",
        "for name in names: #for every name in the names list\n",
        "  print(name) #print it out\n"
      ],
      "execution_count": 0,
      "outputs": [
        {
          "output_type": "stream",
          "text": [
            "Mark\n",
            "Jim\n",
            "Mason\n",
            "Carli\n",
            "Paige\n",
            "Vicky\n"
          ],
          "name": "stdout"
        }
      ]
    },
    {
      "cell_type": "markdown",
      "metadata": {
        "id": "dqsX2Ada_HOC",
        "colab_type": "text"
      },
      "source": [
        "Loops can exist within one another i.e. one can have one loop within another loop having it such that the inner loop executes multiple times for every execution of the outer loop.\n",
        "\n",
        "Consider the following figure\n",
        "\n",
        "![Chess Board](https://upload.wikimedia.org/wikipedia/commons/4/4e/Grid_chess_sample_position.png)\n",
        "\n",
        "We see that this board has 64 different position each can be expressed as a combination of a vertical marker from 1 to 8 and a horizontal marker from A to H. One can generate a map of the chess board as follows using a function and a combination of 2 loops\n"
      ]
    },
    {
      "cell_type": "code",
      "metadata": {
        "id": "8zzWizWQW2Wa",
        "colab_type": "code",
        "colab": {
          "base_uri": "https://localhost:8080/",
          "height": 328
        },
        "outputId": "21a7286a-2ff5-486f-aed1-64215686b4cf"
      },
      "source": [
        "def pos(h,v):\n",
        "  print(\"| \",h,v,\" \", end = \"\") #the end allows me to not have a new line charecter at the end of the print statement\n",
        "\n",
        "\n",
        "hori = [\"A\",\"B\",\"C\",\"D\",\"E\",\"F\",\"G\",\"H\"]\n",
        "\n",
        "print(\"------------------------------------------------------------------\")\n",
        "for h in hori:\n",
        "  v = 1\n",
        "  while v <= 8:\n",
        "    pos(h,v)\n",
        "    v += 1\n",
        "  print(\"|\")\n",
        "  print()\n",
        "print(\"------------------------------------------------------------------\")"
      ],
      "execution_count": 7,
      "outputs": [
        {
          "output_type": "stream",
          "text": [
            "------------------------------------------------------------------\n",
            "|  A 1  |  A 2  |  A 3  |  A 4  |  A 5  |  A 6  |  A 7  |  A 8  |\n",
            "\n",
            "|  B 1  |  B 2  |  B 3  |  B 4  |  B 5  |  B 6  |  B 7  |  B 8  |\n",
            "\n",
            "|  C 1  |  C 2  |  C 3  |  C 4  |  C 5  |  C 6  |  C 7  |  C 8  |\n",
            "\n",
            "|  D 1  |  D 2  |  D 3  |  D 4  |  D 5  |  D 6  |  D 7  |  D 8  |\n",
            "\n",
            "|  E 1  |  E 2  |  E 3  |  E 4  |  E 5  |  E 6  |  E 7  |  E 8  |\n",
            "\n",
            "|  F 1  |  F 2  |  F 3  |  F 4  |  F 5  |  F 6  |  F 7  |  F 8  |\n",
            "\n",
            "|  G 1  |  G 2  |  G 3  |  G 4  |  G 5  |  G 6  |  G 7  |  G 8  |\n",
            "\n",
            "|  H 1  |  H 2  |  H 3  |  H 4  |  H 5  |  H 6  |  H 7  |  H 8  |\n",
            "\n",
            "------------------------------------------------------------------\n"
          ],
          "name": "stdout"
        }
      ]
    }
  ]
}