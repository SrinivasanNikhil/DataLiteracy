{
  "nbformat": 4,
  "nbformat_minor": 0,
  "metadata": {
    "colab": {
      "name": "Iterative Behavior in Python Scripts.ipynb",
      "provenance": [],
      "collapsed_sections": [],
      "authorship_tag": "ABX9TyModqm0E33vG+Sovf6hR2Vr",
      "include_colab_link": true
    },
    "kernelspec": {
      "name": "python3",
      "display_name": "Python 3"
    }
  },
  "cells": [
    {
      "cell_type": "markdown",
      "metadata": {
        "id": "view-in-github",
        "colab_type": "text"
      },
      "source": [
        "<a href=\"https://colab.research.google.com/github/SrinivasanNikhil/DataLiteracy/blob/master/Iterative_Behavior_in_Python_Scripts.ipynb\" target=\"_parent\"><img src=\"https://colab.research.google.com/assets/colab-badge.svg\" alt=\"Open In Colab\"/></a>"
      ]
    },
    {
      "cell_type": "markdown",
      "metadata": {
        "id": "Mamoxt4Xq4s5",
        "colab_type": "text"
      },
      "source": [
        "# Iterative Behavior\n",
        "\n",
        "Often we may run across circumstances where we wish to repeat a set of instructions till a condition is met. In such circumstances, python provides users with the ability to write loops that allow for the execution of a set of statements till certain conditions are satisfied. \n",
        "\n",
        "There are 2 types of loops that are available in python\n",
        "\n",
        "1.  While loops\n",
        "2.  For loops\n",
        "\n",
        "\n",
        "## While Loops\n",
        "\n",
        "While loops tend to be used when a set of statements has to be executed while a specific condition is true. Typically one needs a variable to be initialized prior to the loop and while in the loop, the value of the variable is tested and if the test is true then loop repeats till the test returns a false.\n",
        "\n",
        "The basic structure of a while loop is as follows\n",
        "\n",
        "```\n",
        "while (condition is true)\n",
        "    do instructions\n",
        "\n",
        "```"
      ]
    },
    {
      "cell_type": "code",
      "metadata": {
        "id": "VAVRTUYaq0hS",
        "colab_type": "code",
        "colab": {
          "base_uri": "https://localhost:8080/",
          "height": 173
        },
        "outputId": "9976b433-385d-4e1d-ce01-84a7b1e05765"
      },
      "source": [
        "#while loop\n",
        "\n",
        "i = 1 #inialize the start of the loop\n",
        "\n",
        "while (i < 10): #set up the condition to be tested for is for i to be less than 10\n",
        "  print(\"The value of i is \", i)\n",
        "  i += 1 #changing the value of i within the loop so that there is a way to break out of the loop\n",
        "\n"
      ],
      "execution_count": 1,
      "outputs": [
        {
          "output_type": "stream",
          "text": [
            "Ihe value of i is  1\n",
            "Ihe value of i is  2\n",
            "Ihe value of i is  3\n",
            "Ihe value of i is  4\n",
            "Ihe value of i is  5\n",
            "Ihe value of i is  6\n",
            "Ihe value of i is  7\n",
            "Ihe value of i is  8\n",
            "Ihe value of i is  9\n"
          ],
          "name": "stdout"
        }
      ]
    },
    {
      "cell_type": "markdown",
      "metadata": {
        "id": "amUpGYqUpQL9",
        "colab_type": "text"
      },
      "source": [
        "There are several ways to express those conditions through the use of additional logical and multi-condition operators. \n",
        "\n",
        "One can determine the initializing and terminating conditions in any way one chooses. One instance is through the use of input statements to get the values."
      ]
    },
    {
      "cell_type": "code",
      "metadata": {
        "id": "pkYCpv5Yq7bA",
        "colab_type": "code",
        "colab": {
          "base_uri": "https://localhost:8080/",
          "height": 225
        },
        "outputId": "51140663-09e2-492c-c082-7d56ec42eda0"
      },
      "source": [
        "initial = int(input(\"Specify the start of the loop : \")) #taking input and convering it to int\n",
        "termination = int(input(\"Specify the end of the loop : \")) #taking input and convering it to int\n",
        "\n",
        "while( initial < termination): #Loop counts to 19\n",
        "  print(initial)\n",
        "  initial += 1\n"
      ],
      "execution_count": 4,
      "outputs": [
        {
          "output_type": "stream",
          "text": [
            "Specify the start of the loop : 10\n",
            "Specify the end of the loop : 20\n",
            "10\n",
            "11\n",
            "12\n",
            "13\n",
            "14\n",
            "15\n",
            "16\n",
            "17\n",
            "18\n",
            "19\n"
          ],
          "name": "stdout"
        }
      ]
    },
    {
      "cell_type": "markdown",
      "metadata": {
        "id": "SKIV41CQr0pg",
        "colab_type": "text"
      },
      "source": [
        "### Break statement\n",
        "\n",
        "The break statement when used inside of a loop can be used to break out of the loop."
      ]
    },
    {
      "cell_type": "code",
      "metadata": {
        "id": "M6MI7U-esA0W",
        "colab_type": "code",
        "colab": {
          "base_uri": "https://localhost:8080/",
          "height": 138
        },
        "outputId": "073816f0-0741-4f93-8409-549144a6d9e7"
      },
      "source": [
        "\n",
        "i = 1 #inialize the start of the loop\n",
        "\n",
        "while (i < 10): #set up the condition to be tested for is for i to be less than 10\n",
        "  print(\"The value of i is \", i)\n",
        "  if( i == 7): #check if the value of i is 7 within the loop\n",
        "    break #if the value of i is 7, then the if statement is try and the break executes\n",
        "  i += 1 #changing the value of i within the loop so that there is a way to break out of the loop\n",
        "\n"
      ],
      "execution_count": 5,
      "outputs": [
        {
          "output_type": "stream",
          "text": [
            "The value of i is  1\n",
            "The value of i is  2\n",
            "The value of i is  3\n",
            "The value of i is  4\n",
            "The value of i is  5\n",
            "The value of i is  6\n",
            "The value of i is  7\n"
          ],
          "name": "stdout"
        }
      ]
    },
    {
      "cell_type": "markdown",
      "metadata": {
        "id": "OxahgzsVuG8w",
        "colab_type": "text"
      },
      "source": [
        "### Continue statement\n",
        "\n",
        "The continue statement when used inside of a loop can be used to skip the ccurrent ietration of the loop and move to the next one."
      ]
    },
    {
      "cell_type": "code",
      "metadata": {
        "id": "gP1fIcjnuQ3J",
        "colab_type": "code",
        "colab": {
          "base_uri": "https://localhost:8080/",
          "height": 173
        },
        "outputId": "5fa39fb9-e912-487f-d34f-428f81634024"
      },
      "source": [
        "\n",
        "i = 0 #inialize the start of the loop\n",
        "\n",
        "while (i < 10): #set up the condition to be tested for is for i to be less than 10\n",
        "  i += 1 #changing the value of i within the loop so that there is a way to break out of the loop\n",
        "  if( i == 7): #check if the value of i is 7 within the loop\n",
        "    continue #if the value of i is 7, then the if statement is try and the continue executes\n",
        "  print(\"The value of i is \", i)\n",
        "  \n",
        "\n",
        "#Please note that in the output below, the value of i = 7 is not printed out.\n",
        "\n"
      ],
      "execution_count": 7,
      "outputs": [
        {
          "output_type": "stream",
          "text": [
            "The value of i is  1\n",
            "The value of i is  2\n",
            "The value of i is  3\n",
            "The value of i is  4\n",
            "The value of i is  5\n",
            "The value of i is  6\n",
            "The value of i is  8\n",
            "The value of i is  9\n",
            "The value of i is  10\n"
          ],
          "name": "stdout"
        }
      ]
    },
    {
      "cell_type": "markdown",
      "metadata": {
        "id": "1A3bMLJPvF_y",
        "colab_type": "text"
      },
      "source": [
        "### Else Statement\n",
        "\n",
        "The else statement allows a user to run a set of statements if the condition to be evaluated for the while loop is false.\n",
        "\n"
      ]
    },
    {
      "cell_type": "code",
      "metadata": {
        "id": "xJ7wwzWV1TVT",
        "colab_type": "code",
        "colab": {
          "base_uri": "https://localhost:8080/",
          "height": 138
        },
        "outputId": "cf030154-a0df-456d-b592-9c1935d53ecd"
      },
      "source": [
        "#while loop\n",
        "\n",
        "i = 1 #inialize the start of the loop\n",
        "keepGoing = True\n",
        "\n",
        "while (i < 10 and keepGoing == True): #set up the condition to be tested for is for i to be less than 10\n",
        "  print(\"The value of i is \", i)\n",
        "  i += 1 #changing the value of i within the loop so that there is a way to break out of the loop\n",
        "  if(i % 7 == 0):\n",
        "    keepGoing = False\n",
        "else:\n",
        "  print(\"Guess keepGoing turned out to be False after all.\")\n"
      ],
      "execution_count": 11,
      "outputs": [
        {
          "output_type": "stream",
          "text": [
            "The value of i is  1\n",
            "The value of i is  2\n",
            "The value of i is  3\n",
            "The value of i is  4\n",
            "The value of i is  5\n",
            "The value of i is  6\n",
            "Guess keepGoing turned out to be False after all.\n"
          ],
          "name": "stdout"
        }
      ]
    },
    {
      "cell_type": "markdown",
      "metadata": {
        "id": "4WqCg18o4kHQ",
        "colab_type": "text"
      },
      "source": [
        "## Practice Work\n",
        "\n",
        "Write a python script that generates the following \n",
        "\n",
        "http://www.99-bottles-of-beer.net/lyrics.html\n",
        "\n"
      ]
    },
    {
      "cell_type": "code",
      "metadata": {
        "id": "w1ZEZaxV5TTh",
        "colab_type": "code",
        "colab": {}
      },
      "source": [
        "########### CODE HERE\n",
        "\n"
      ],
      "execution_count": 0,
      "outputs": []
    }
  ]
}