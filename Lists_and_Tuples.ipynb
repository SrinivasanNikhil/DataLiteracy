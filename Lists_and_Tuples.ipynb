{
  "nbformat": 4,
  "nbformat_minor": 0,
  "metadata": {
    "colab": {
      "name": "Lists and Tuples.ipynb",
      "provenance": [],
      "collapsed_sections": [],
      "authorship_tag": "ABX9TyPKlgaSDVuuMWuYV1dQmlB4",
      "include_colab_link": true
    },
    "kernelspec": {
      "name": "python3",
      "display_name": "Python 3"
    }
  },
  "cells": [
    {
      "cell_type": "markdown",
      "metadata": {
        "id": "view-in-github",
        "colab_type": "text"
      },
      "source": [
        "<a href=\"https://colab.research.google.com/github/SrinivasanNikhil/DataLiteracy/blob/master/Lists_and_Tuples.ipynb\" target=\"_parent\"><img src=\"https://colab.research.google.com/assets/colab-badge.svg\" alt=\"Open In Colab\"/></a>"
      ]
    },
    {
      "cell_type": "markdown",
      "metadata": {
        "id": "65Ko1PbwnY75",
        "colab_type": "text"
      },
      "source": [
        "# Python Collections\n",
        "\n",
        "Collections are data structures within a programming language that are used to store data. These data structures can have a vareity of different charecteristics\n",
        "\n",
        "        a. They may hold data of one or many types\n",
        "        b. They may be of a fixed size or may change their size\n",
        "        c. The data within them may be modifiable or not.\n",
        "\n",
        "\n",
        "There are several types of collection structures within Python and we will be looking at a few of them within this notebook."
      ]
    },
    {
      "cell_type": "markdown",
      "metadata": {
        "id": "w6hsQm5Vp74n",
        "colab_type": "text"
      },
      "source": [
        "## Lists\n",
        "\n",
        "Lists are a type of collection within python that contain an ordered set of elements. These elements can be changed and additional elements may be added or removed from the list. \n",
        "A list is defined using square brackets as such [ ]\n"
      ]
    },
    {
      "cell_type": "code",
      "metadata": {
        "id": "WRXulw0WnN3d",
        "colab_type": "code",
        "colab": {
          "base_uri": "https://localhost:8080/",
          "height": 69
        },
        "outputId": "2ed640a4-a171-469c-b6dd-983afda5633d"
      },
      "source": [
        "#Here are some examples of lists\n",
        "\n",
        "\n",
        "names = [\"Mark\", \"Craig\",\"Mary\",\"Sam\",\"Jim\",\"Emily\"] # a list can contain many elements of the same data type irrespective of data type\n",
        "ages = [54,23,76,54,23,57] #notice in this list, the number 23 is repeated, lists can have duplicates in them\n",
        "\n",
        "aPerson = [\"Mary\",\"Lamb\",23,3.2] #Note that this list contains data of different types\n",
        "\n",
        "print(\"Names :\", names)\n",
        "print(\"Ages :\",ages)\n",
        "print(\"A person :\",aPerson) \n"
      ],
      "execution_count": 2,
      "outputs": [
        {
          "output_type": "stream",
          "text": [
            "Names : ['Mark', 'Craig', 'Mary', 'Sam', 'Jim', 'Emily']\n",
            "Ages : [54, 23, 76, 54, 23, 57]\n",
            "A person : ['Mary', 'Lamb', 23, 3.2]\n"
          ],
          "name": "stdout"
        }
      ]
    },
    {
      "cell_type": "markdown",
      "metadata": {
        "id": "7JVU9i-XsAhu",
        "colab_type": "text"
      },
      "source": [
        "Every element in a list exists at a specific position, known as the index position, starting from 0 to the end of the list. One can access elements in certain positions by specifying the index position they with to access. The exams below show a vareity of ways to access elements at different positions."
      ]
    },
    {
      "cell_type": "code",
      "metadata": {
        "id": "pkEYg7Y1r_8_",
        "colab_type": "code",
        "colab": {
          "base_uri": "https://localhost:8080/",
          "height": 121
        },
        "outputId": "3c4b29aa-3757-491e-cdb9-f4c50017aef6"
      },
      "source": [
        "names = [\"Mark\", \"Craig\",\"Mary\",\"Sam\",\"Jim\",\"Emily\"] \n",
        "\n",
        "print(names[1]) # prints out the element in the index position 1, or the second element in the list\n",
        "\n",
        "print(names[-1]) # when a negative number is used , it prints out elements from the end of the list starting at the last postition\n",
        "\n",
        "print(names[2:4]) # In this case, a range of elements are accessed, starting at 2 inclusive and 4 exclusive.\n",
        "\n",
        "print(names[:4]) #if one does not specify the starting position in a range, the starting poisiotn is assumed to be the first element\n",
        "\n",
        "print(names[3:]) #if one does not specify the end position in a range, the ending poisiotn is assumed to be the last element\n",
        "\n",
        "names[1] = \"Cuban\" # changes the value of an element in the index position 1\n",
        "\n",
        "print(names) #changed names list"
      ],
      "execution_count": 8,
      "outputs": [
        {
          "output_type": "stream",
          "text": [
            "Craig\n",
            "Emily\n",
            "['Mary', 'Sam']\n",
            "['Mark', 'Craig', 'Mary', 'Sam']\n",
            "['Sam', 'Jim', 'Emily']\n",
            "['Mark', 'Cuban', 'Mary', 'Sam', 'Jim', 'Emily']\n"
          ],
          "name": "stdout"
        }
      ]
    },
    {
      "cell_type": "markdown",
      "metadata": {
        "id": "vMtuc9ZuvSDv",
        "colab_type": "text"
      },
      "source": [
        "Python is like other programming languages in that parts of it are object oriented. Object orientation is the concept that imagines the variable elements within a script to be comprised of objects. The power of this concept is that objects can be reused and have attributes and functions/methods that can be performed on them. For instance, a car can be an object and every such object as attributes like make, model and engine size. Car objects also have functions/methods or things that can be done on them such as accelerate, brake, etc. \n",
        "\n",
        "Lists are python objects and have a set of function/methods (or operations) that may be performed on them. \n",
        "\n",
        "Some functions that are useful as they relate to list are\n",
        "\n",
        "\n",
        "      a. len()\n",
        "      b. append()\n",
        "      c. insert()\n",
        "      d. remove()\n",
        "      e. pop()\n",
        "      f. clear()\n",
        "      g. copy() - seperate from a reference\n",
        "      h. adding lists\n",
        "\n",
        "\n",
        "More are available at https://docs.python.org/3/tutorial/datastructures.html\n"
      ]
    },
    {
      "cell_type": "code",
      "metadata": {
        "id": "hJLI9HZExZzJ",
        "colab_type": "code",
        "colab": {
          "base_uri": "https://localhost:8080/",
          "height": 622
        },
        "outputId": "adfbd432-49da-45eb-bbe7-8239ae1ad767"
      },
      "source": [
        "names = [\"Mark\", \"Craig\",\"Mary\",\"Sam\",\"Jim\",\"Emily\"] \n",
        "\n",
        "\n",
        "#one can loop through a list using a for loop\n",
        "\n",
        "for name in names: #this loop will print out each name , one at a time on a seperate line\n",
        "  print(name)\n",
        "\n",
        "print()\n",
        "print(\"The contents of the entire list : \",names) #this prints out the contents of the enntire list.\n",
        "\n",
        "#One can check if a specific element is present in the list using the following statement\n",
        "\n",
        "print()\n",
        "if \"Cuban\" in name:\n",
        "  print(\"Cuban is in the list\")\n",
        "else:\n",
        "  print(\"Cuban is not in the list\")\n",
        "\n",
        "\n",
        "# the len() function/method\n",
        "print()\n",
        "print(\"The length of the names list is \", len(names))\n",
        "\n",
        "\n",
        "#the append function/method\n",
        "\n",
        "print()\n",
        "names.append(\"Cuban\") #Cuban is appended to the end of the list\n",
        "print(\"The content of names is now : \",names)\n",
        "\n",
        "#The insert function/method\n",
        "\n",
        "print()\n",
        "names.insert(3,\"Anthony\") #insert the element Anthony before the index position 3\n",
        "print(\"The content of names is now : \",names)\n",
        "\n",
        "#The remove function/method\n",
        "\n",
        "print()\n",
        "names.remove(\"Cuban\") #remove the element Cuban from the list\n",
        "print(\"The content of names is now : \",names)\n",
        "\n",
        "#The pop function/method\n",
        "\n",
        "print()\n",
        "names.pop(4) #remove the element at the index position 4, removes Sam\n",
        "print(\"The content of names is now : \",names)\n",
        "\n",
        "#The clear function/method\n",
        "\n",
        "print()\n",
        "names.clear() #removes all the elements from the list\n",
        "print(\"The content of names is now : \",names)\n",
        "\n",
        "names = [\"Mark\", \"Craig\",\"Mary\",\"Sam\",\"Jim\",\"Emily\"] \n",
        "\n",
        "#Copying lists\n",
        "\n",
        "#One cannot copy a list simply by assigning the value of one list to another\n",
        "#For instance this does nto copy the list\n",
        "\n",
        "namesCopy = names #this does not copy the content of names to namesCopy\n",
        "                  #what this does is actually create a reference or a pointer to names\n",
        "\n",
        "print()\n",
        "print(\"The content of names is : \", names)\n",
        "print(\"The content of namesCopy is : \", namesCopy)\n",
        "\n",
        "#If some element is changed in names, that corresponding element is changed in namesCopy\n",
        "\n",
        "names[1] = \"Cuban\"\n",
        "\n",
        "print()\n",
        "print(\"The content of names is : \", names)\n",
        "print(\"The content of namesCopy is : \", namesCopy)\n",
        "#Note that in the above example, I did not change the content of namesCopy but the print statement above for namesCopy is the same as that for names\n",
        "\n",
        "#To copy a list one has to use the copy function/method\n",
        "\n",
        "names = [\"Mark\", \"Craig\",\"Mary\",\"Sam\",\"Jim\",\"Emily\"] \n",
        "\n",
        "\n",
        "namesCopyAnother = names.copy()\n",
        "\n",
        "print()\n",
        "print(\"The content of names is : \", names)\n",
        "print(\"The content of namesCopyAnother is : \", namesCopyAnother)\n",
        "\n",
        "\n",
        "names[1] = \"Cuban\"\n",
        "namesCopyAnother[5] = \"Anthony\"\n",
        "\n",
        "print()\n",
        "print(\"The content of names is : \", names)\n",
        "print(\"The content of namesCopyAnother is : \", namesCopyAnother)\n",
        "#Note that from the above output that the contents of the 2 lists are distinct from each other\n",
        "\n",
        "\n",
        "#Adding lists together\n",
        "\n",
        "ages = [54,23,76,54,23,57]\n",
        "\n",
        "combinedList = names + ages\n",
        "\n",
        "print()\n",
        "print(\"The content of the combined list is \", combinedList)\n"
      ],
      "execution_count": 26,
      "outputs": [
        {
          "output_type": "stream",
          "text": [
            "Mark\n",
            "Craig\n",
            "Mary\n",
            "Sam\n",
            "Jim\n",
            "Emily\n",
            "\n",
            "The contents of the entire list :  ['Mark', 'Craig', 'Mary', 'Sam', 'Jim', 'Emily']\n",
            "\n",
            "Cuban is not in the list\n",
            "\n",
            "The length of the names list is  6\n",
            "\n",
            "The content of names is now :  ['Mark', 'Craig', 'Mary', 'Sam', 'Jim', 'Emily', 'Cuban']\n",
            "\n",
            "The content of names is now :  ['Mark', 'Craig', 'Mary', 'Anthony', 'Sam', 'Jim', 'Emily', 'Cuban']\n",
            "\n",
            "The content of names is now :  ['Mark', 'Craig', 'Mary', 'Anthony', 'Sam', 'Jim', 'Emily']\n",
            "\n",
            "The content of names is now :  ['Mark', 'Craig', 'Mary', 'Anthony', 'Jim', 'Emily']\n",
            "\n",
            "The content of names is now :  []\n",
            "\n",
            "The content of names is :  ['Mark', 'Craig', 'Mary', 'Sam', 'Jim', 'Emily']\n",
            "The content of namesCopy is :  ['Mark', 'Craig', 'Mary', 'Sam', 'Jim', 'Emily']\n",
            "\n",
            "The content of names is :  ['Mark', 'Cuban', 'Mary', 'Sam', 'Jim', 'Emily']\n",
            "The content of namesCopy is :  ['Mark', 'Cuban', 'Mary', 'Sam', 'Jim', 'Emily']\n",
            "\n",
            "The content of names is :  ['Mark', 'Craig', 'Mary', 'Sam', 'Jim', 'Emily']\n",
            "The content of namesCopyAnother is :  ['Mark', 'Craig', 'Mary', 'Sam', 'Jim', 'Emily']\n",
            "\n",
            "The content of names is :  ['Mark', 'Cuban', 'Mary', 'Sam', 'Jim', 'Emily']\n",
            "The content of namesCopyAnother is :  ['Mark', 'Craig', 'Mary', 'Sam', 'Jim', 'Anthony']\n",
            "The content of the combined list is  ['Mark', 'Cuban', 'Mary', 'Sam', 'Jim', 'Emily', 54, 23, 76, 54, 23, 57]\n"
          ],
          "name": "stdout"
        }
      ]
    }
  ]
}