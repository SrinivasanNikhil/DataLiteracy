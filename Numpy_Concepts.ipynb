{
  "nbformat": 4,
  "nbformat_minor": 0,
  "metadata": {
    "colab": {
      "name": "Numpy Concepts.ipynb",
      "provenance": [],
      "collapsed_sections": [],
      "authorship_tag": "ABX9TyMXeborVCkjBofKrJjQNX14",
      "include_colab_link": true
    },
    "kernelspec": {
      "name": "python3",
      "display_name": "Python 3"
    },
    "language_info": {
      "name": "python"
    }
  },
  "cells": [
    {
      "cell_type": "markdown",
      "metadata": {
        "id": "view-in-github",
        "colab_type": "text"
      },
      "source": [
        "<a href=\"https://colab.research.google.com/github/SrinivasanNikhil/DataLiteracy/blob/master/Numpy_Concepts.ipynb\" target=\"_parent\"><img src=\"https://colab.research.google.com/assets/colab-badge.svg\" alt=\"Open In Colab\"/></a>"
      ]
    },
    {
      "cell_type": "markdown",
      "metadata": {
        "id": "TVjLKzBrrIlW"
      },
      "source": [
        "# Numpy\n",
        "\n",
        "Numpy is a Python library that is used for working with arrays. This library contains a vareity of routines/functions for processing these arrays. These arrays can  have one or multiple dimensions. \n",
        "\n",
        "Numpy also has a collection of routines/functions related to linear algebra, fourier transforms and shape manipulation. "
      ]
    },
    {
      "cell_type": "markdown",
      "metadata": {
        "id": "IZ8qXcpYvkZc"
      },
      "source": [
        "## Using numpy\n",
        "\n",
        "To utilize numpy in your python script one needs to import it using the import statement as below"
      ]
    },
    {
      "cell_type": "code",
      "metadata": {
        "id": "kklZ8N4prEsQ"
      },
      "source": [
        "import numpy as np #the as clause clause creates an alias"
      ],
      "execution_count": null,
      "outputs": []
    },
    {
      "cell_type": "markdown",
      "metadata": {
        "id": "AS7EygsnxKeZ"
      },
      "source": [
        "## Working with numpy arrays\n",
        "\n",
        "The array object in numpy is known as ndarray. It is creating used the array() function within numpy."
      ]
    },
    {
      "cell_type": "code",
      "metadata": {
        "colab": {
          "base_uri": "https://localhost:8080/"
        },
        "id": "Id0xk33ixWHN",
        "outputId": "63a247ec-5861-4134-8c7e-f2518ad0d120"
      },
      "source": [
        "import numpy as np\n",
        "\n",
        "anArr = np.array([1,2,3,4,5,6])\n",
        "\n",
        "print(type(anArr))\n",
        "\n",
        "print(anArr)"
      ],
      "execution_count": null,
      "outputs": [
        {
          "output_type": "stream",
          "text": [
            "<class 'numpy.ndarray'>\n",
            "[1 2 3 4 5 6]\n"
          ],
          "name": "stdout"
        }
      ]
    },
    {
      "cell_type": "code",
      "metadata": {
        "colab": {
          "base_uri": "https://localhost:8080/"
        },
        "id": "aOmzYoMvyQ4Q",
        "outputId": "59d7e0d5-3cee-4141-c600-fa04e81f85f4"
      },
      "source": [
        "# One can convert lists and tuples into numpy arrays\n",
        "import numpy as np\n",
        "\n",
        "aList = [\"Nikhil\",\"Akhil\",\"Maric\",\"Karen\",\"Aaron\"]\n",
        "anArr = np.array(aList)\n",
        "\n",
        "print(type(aList))\n",
        "print(type(anArr))\n",
        "print(aList)\n",
        "print(anArr)\n"
      ],
      "execution_count": null,
      "outputs": [
        {
          "output_type": "stream",
          "text": [
            "<class 'list'>\n",
            "<class 'numpy.ndarray'>\n",
            "['Nikhil', 'Akhil', 'Maric', 'Karen', 'Aaron']\n",
            "['Nikhil' 'Akhil' 'Maric' 'Karen' 'Aaron']\n"
          ],
          "name": "stdout"
        }
      ]
    },
    {
      "cell_type": "markdown",
      "metadata": {
        "id": "xA4xoc1iz1zH"
      },
      "source": [
        "## Array attributes\n",
        "\n",
        "1. shape - array.shape returns a tuple consisting of the arrays dimensions\n",
        "\n",
        "2. ndim - array.ndim returns the number of docemsions for the array\n",
        "\n",
        "...more"
      ]
    },
    {
      "cell_type": "markdown",
      "metadata": {
        "id": "LwIPNWci1pxe"
      },
      "source": [
        "## Array concepts\n",
        "\n",
        "1. Indexing - very similat to list indexing in python. Arrays start at the 0 position. Arrays also use negative indexing. \n",
        "\n",
        "2. Slicing - Slicing means to extract elements from an array from one index to another. \n",
        "\n",
        "\n"
      ]
    },
    {
      "cell_type": "code",
      "metadata": {
        "colab": {
          "base_uri": "https://localhost:8080/"
        },
        "id": "314mioznEVG6",
        "outputId": "0cbf9174-39eb-4b42-dd77-f6a82a24be38"
      },
      "source": [
        "#Indexing\n",
        "import numpy as np\n",
        "\n",
        "names = np.array([\"Nikhil\",\"Akhil\",\"Maric\",\"Karen\",\"Aaron\",\"Shiela\"])\n",
        "\n",
        "print(names[1])\n",
        "\n",
        "#Slicing\n",
        "\n",
        "print(names[2:])\n",
        "\n",
        "print(names[2:6:2])\n",
        "\n"
      ],
      "execution_count": null,
      "outputs": [
        {
          "output_type": "stream",
          "text": [
            "Akhil\n",
            "['Maric' 'Karen' 'Aaron' 'Shiela']\n",
            "['Maric' 'Aaron']\n"
          ],
          "name": "stdout"
        }
      ]
    },
    {
      "cell_type": "markdown",
      "metadata": {
        "id": "kbpPeyi5IXW5"
      },
      "source": [
        "3. Array Copy - creates a new copy of the array. Any changes made to the copy will not affect the original array. \n",
        "4. Array View - does not create a copy and any changes made t the view will influence and affect the original array and vice versa. "
      ]
    },
    {
      "cell_type": "code",
      "metadata": {
        "colab": {
          "base_uri": "https://localhost:8080/"
        },
        "id": "q5rpu6IZJlK4",
        "outputId": "5c7cd926-a862-40b8-a88e-98abb1085dbe"
      },
      "source": [
        "import numpy as np\n",
        "\n",
        "anArr = np.array([1,2,3,4,5,6,7,8,9,10])\n",
        "\n",
        "x = anArr.copy()\n",
        "\n",
        "x[2] = 32\n",
        "\n",
        "print(anArr)\n",
        "print(x)"
      ],
      "execution_count": null,
      "outputs": [
        {
          "output_type": "stream",
          "text": [
            "[ 1  2  3  4  5  6  7  8  9 10]\n",
            "[ 1  2 32  4  5  6  7  8  9 10]\n"
          ],
          "name": "stdout"
        }
      ]
    },
    {
      "cell_type": "code",
      "metadata": {
        "colab": {
          "base_uri": "https://localhost:8080/"
        },
        "id": "HFU0CFMsLNan",
        "outputId": "5e2a83b0-eac5-4136-f8e4-f9cf42b2ee08"
      },
      "source": [
        "import numpy as np\n",
        "\n",
        "anArr = np.array([1,2,3,4,5,6,7,8,9,10])\n",
        "\n",
        "x = anArr.view()\n",
        "\n",
        "x[2] = 32\n",
        "\n",
        "print(anArr)\n",
        "print(x)"
      ],
      "execution_count": null,
      "outputs": [
        {
          "output_type": "stream",
          "text": [
            "[ 1  2 32  4  5  6  7  8  9 10]\n",
            "[ 1  2 32  4  5  6  7  8  9 10]\n"
          ],
          "name": "stdout"
        }
      ]
    },
    {
      "cell_type": "markdown",
      "metadata": {
        "id": "ZAQff2k_Jkil"
      },
      "source": [
        "## Iterating over an array\n",
        "\n",
        "Go over the elements of the array one by one."
      ]
    },
    {
      "cell_type": "code",
      "metadata": {
        "colab": {
          "base_uri": "https://localhost:8080/"
        },
        "id": "M8icRCSwM4vp",
        "outputId": "f92dbb81-2fde-4336-9e7a-4aaccaa03626"
      },
      "source": [
        "import numpy as np\n",
        "\n",
        "anArr = np.array([1,2,3,4,5,6,7,8,9,10])\n",
        "\n",
        "for x in anArr:\n",
        "  print(x)"
      ],
      "execution_count": null,
      "outputs": [
        {
          "output_type": "stream",
          "text": [
            "1\n",
            "2\n",
            "3\n",
            "4\n",
            "5\n",
            "6\n",
            "7\n",
            "8\n",
            "9\n",
            "10\n"
          ],
          "name": "stdout"
        }
      ]
    },
    {
      "cell_type": "markdown",
      "metadata": {
        "id": "s-PGsfAHNolg"
      },
      "source": [
        "## Joining Arrays\n",
        "\n",
        "When arrays are joined together the contents of 2 or more arrays are put together in a single array. This is accomplished through the use of the concatenate function.\n",
        "\n",
        "Can also be acomplished using the following\n",
        "*   stack() - done along axis of choice\n",
        "*   hstack() - stacking along rows\n",
        "*   vstack() - stacking along columns\n",
        "*   dstack() - stacking along depth\n",
        "\n"
      ]
    },
    {
      "cell_type": "code",
      "metadata": {
        "colab": {
          "base_uri": "https://localhost:8080/"
        },
        "id": "fem0ArDXPK8G",
        "outputId": "3c32be4f-6768-440a-a5ea-82565c30c00b"
      },
      "source": [
        "import numpy as np\n",
        "num1 = np.array([1,2,3,4])\n",
        "num2 = np.array([12,13,14,15,16])\n",
        "\n",
        "num = np.concatenate((num1,num2))\n",
        "print(num)\n",
        "\n",
        "names = np.array([\"Nikhil\",\"Akhil\",\"Maric\",\"Karen\",\"Aaron\",\"Shiela\"])\n",
        "\n",
        "\n",
        "num = np.concatenate((num1,num2,names))\n",
        "print(num)\n"
      ],
      "execution_count": null,
      "outputs": [
        {
          "output_type": "stream",
          "text": [
            "[ 1  2  3  4 12 13 14 15 16]\n",
            "['1' '2' '3' '4' '12' '13' '14' '15' '16' 'Nikhil' 'Akhil' 'Maric' 'Karen'\n",
            " 'Aaron' 'Shiela']\n"
          ],
          "name": "stdout"
        }
      ]
    },
    {
      "cell_type": "markdown",
      "metadata": {
        "id": "6azI1BwaVmuD"
      },
      "source": [
        "## Splitting an array\n",
        "\n",
        "Array's can be split into smaller arrays using the array_split() function"
      ]
    },
    {
      "cell_type": "code",
      "metadata": {
        "colab": {
          "base_uri": "https://localhost:8080/"
        },
        "id": "O-y46tXHZK6G",
        "outputId": "8b1f0d6c-604c-401c-93b7-fea52aba37dc"
      },
      "source": [
        "import numpy as np\n",
        "names = np.array([\"Nikhil\",\"Akhil\",\"Maric\",\"Karen\",\"Aaron\",\"Shiela\"])\n",
        "\n",
        "namesSplit = np.array_split(names,2)\n",
        "\n",
        "print(namesSplit)"
      ],
      "execution_count": null,
      "outputs": [
        {
          "output_type": "stream",
          "text": [
            "[array(['Nikhil', 'Akhil', 'Maric'], dtype='<U6'), array(['Karen', 'Aaron', 'Shiela'], dtype='<U6')]\n"
          ],
          "name": "stdout"
        }
      ]
    },
    {
      "cell_type": "markdown",
      "metadata": {
        "id": "4xGtLUneaVO5"
      },
      "source": [
        "## Searching an array\n",
        "\n",
        "An array can be searched for values and the result returned are the index positions in the array where the search term was found. "
      ]
    },
    {
      "cell_type": "code",
      "metadata": {
        "colab": {
          "base_uri": "https://localhost:8080/"
        },
        "id": "U5qNN4jtdbmG",
        "outputId": "ada97d28-6bab-4086-c980-3cdca512cb1e"
      },
      "source": [
        "import numpy as np\n",
        "names = np.array([\"Nikhil\",\"Akhil\",\"Maric\",\"Karen\",\"Aaron\",\"Maric\", \"Jim\",\"Jordan\",\"Maric\"])\n",
        "\n",
        "\n",
        "x = np.where((names == \"Maric\"))\n",
        "print(x)"
      ],
      "execution_count": null,
      "outputs": [
        {
          "output_type": "stream",
          "text": [
            "(array([2, 5, 8]),)\n"
          ],
          "name": "stdout"
        }
      ]
    },
    {
      "cell_type": "markdown",
      "metadata": {
        "id": "YwS4_Sd1eFm8"
      },
      "source": [
        "## Sorting an array\n",
        "\n",
        "An array can be srted into an ordered sequnce using the sort function. The sorting does not change the array but provides a new array of sorted elements."
      ]
    },
    {
      "cell_type": "code",
      "metadata": {
        "id": "SQZ1H5vKeGXm",
        "colab": {
          "base_uri": "https://localhost:8080/"
        },
        "outputId": "fc636187-5e10-4fd0-bcc9-cf38f30b6586"
      },
      "source": [
        "import numpy as np\n",
        "names = np.array([\"Nikhil\",\"Akhil\",\"Maric\",\"Karen\",\"Aaron\",\"Maric\", \"Jim\",\"Jordan\",\"Maric\"])\n",
        "\n",
        "print(np.sort(names))"
      ],
      "execution_count": null,
      "outputs": [
        {
          "output_type": "stream",
          "text": [
            "['Aaron' 'Akhil' 'Jim' 'Jordan' 'Karen' 'Maric' 'Maric' 'Maric' 'Nikhil']\n"
          ],
          "name": "stdout"
        }
      ]
    },
    {
      "cell_type": "markdown",
      "metadata": {
        "id": "Cnf-kjF8eG8X"
      },
      "source": [
        "## Filtering\n",
        "\n",
        "Getting some elements out of an existing array and creating a new array out of them is called filtering.\n",
        "\n",
        "In NumPy, you filter an array using a boolean index list.\n",
        "\n",
        "A boolean index list is a list of booleans corresponding to indexes in the array.\n",
        "\n",
        "If the value at an index is True that element is contained in the filtered array, if the value at that index is False that element is excluded from the filtered array.\n",
        "\n",
        "\n",
        "### Creating Filter Directly From Array\n",
        "\n",
        "The above example is quite a common task in NumPy and NumPy provides a nice way to tackle it.\n",
        "\n",
        "We can directly substitute the array instead of the iterable variable in our condition and it will work just as we expect it to."
      ]
    },
    {
      "cell_type": "code",
      "metadata": {
        "id": "L22EvRsXeHtK",
        "colab": {
          "base_uri": "https://localhost:8080/"
        },
        "outputId": "01fe78cb-9d5b-490e-d8e3-36cc861dee07"
      },
      "source": [
        "import numpy as np\n",
        "\n",
        "names = np.array([\"Mark\", \"Craig\",\"Mary\",\"Sam\",\"Jim\",\"Emily\"])\n",
        "\n",
        "filter_arr = [True, True, False, False, False, True]\n",
        "\n",
        "x = names[filter_arr]\n",
        "\n",
        "print(x)"
      ],
      "execution_count": 1,
      "outputs": [
        {
          "output_type": "stream",
          "text": [
            "['Mark' 'Craig' 'Emily']\n"
          ],
          "name": "stdout"
        }
      ]
    },
    {
      "cell_type": "code",
      "metadata": {
        "colab": {
          "base_uri": "https://localhost:8080/"
        },
        "id": "8T6Jdq0D88GZ",
        "outputId": "fabf89e4-29cf-4af5-dfab-fdc12bd90351"
      },
      "source": [
        "import numpy as np\n",
        "\n",
        "arr = np.array([3.2,4.0,2.3,3.1,2.99,3.7,3.9])\n",
        "\n",
        "filter_arr = arr > 3.2\n",
        "\n",
        "newarr = arr[filter_arr]\n",
        "\n",
        "print(filter_arr)\n",
        "print(newarr)"
      ],
      "execution_count": 3,
      "outputs": [
        {
          "output_type": "stream",
          "text": [
            "[False  True False False False  True  True]\n",
            "[4.  3.7 3.9]\n"
          ],
          "name": "stdout"
        }
      ]
    }
  ]
}