{
  "nbformat": 4,
  "nbformat_minor": 0,
  "metadata": {
    "colab": {
      "name": "Python Pandas (continued).ipynb",
      "provenance": [],
      "collapsed_sections": [],
      "authorship_tag": "ABX9TyO2RyTBO0hE0cKGJU1G14qt",
      "include_colab_link": true
    },
    "kernelspec": {
      "name": "python3",
      "display_name": "Python 3"
    },
    "language_info": {
      "name": "python"
    }
  },
  "cells": [
    {
      "cell_type": "markdown",
      "metadata": {
        "id": "view-in-github",
        "colab_type": "text"
      },
      "source": [
        "<a href=\"https://colab.research.google.com/github/SrinivasanNikhil/DataLiteracy/blob/master/Python_Pandas_(continued).ipynb\" target=\"_parent\"><img src=\"https://colab.research.google.com/assets/colab-badge.svg\" alt=\"Open In Colab\"/></a>"
      ]
    },
    {
      "cell_type": "markdown",
      "metadata": {
        "id": "-zZ44nrPXPc6"
      },
      "source": [
        "# Pandas GroupBy\n",
        "\n",
        "The purpose of a [groupby](https://pandas.pydata.org/pandas-docs/stable/reference/api/pandas.DataFrame.groupby.html) is to create a grouping of certain variables so that a function may be applied to the created groups. \n",
        "\n",
        "GroupBy allows a data scientist to aggregate data and manipulate the aggregations in order to generate meaningful and summarized results. \n",
        "\n",
        "The generalized form of a group by statement in python is as follows\n",
        "\n",
        "* object.groupby(key)\n",
        "* object.groupby([key1,key2])\n",
        "\n",
        "object in this case would refer to the dataframe or data structure we would like to perform the group by operation on.\n",
        "\n",
        "key would refer to the column or attribute we would like the groups to be based on.\n",
        "\n"
      ]
    },
    {
      "cell_type": "code",
      "metadata": {
        "colab": {
          "base_uri": "https://localhost:8080/"
        },
        "id": "XKox1wyVXEuy",
        "outputId": "00a57d17-4296-4f3c-ffff-2fb6ae6148c4"
      },
      "source": [
        "import numpy as np\n",
        "import pandas as pd\n",
        "\n",
        "cardata = pd.read_csv(\"https://elasticbeanstalk-us-east-1-712866102994.s3.amazonaws.com/data/Cars.csv\")\n",
        "\n",
        "print(cardata)\n",
        "\n",
        "#groupby 1 key\n",
        "\n",
        "print(cardata.groupby(\"Origin\"))\n",
        "\n",
        "#groupby multiple keys\n",
        "\n",
        "print(cardata.groupby([\"Origin\",\"Model\"]))\n",
        "\n"
      ],
      "execution_count": 20,
      "outputs": [
        {
          "output_type": "stream",
          "text": [
            "                           Car   MPG  Cylinders  ...  Acceleration  Model  Origin\n",
            "0    Chevrolet Chevelle Malibu  18.0          8  ...          12.0     70      US\n",
            "1            Buick Skylark 320  15.0          8  ...          11.5     70      US\n",
            "2           Plymouth Satellite  18.0          8  ...          11.0     70      US\n",
            "3                AMC Rebel SST  16.0          8  ...          12.0     70      US\n",
            "4                  Ford Torino  17.0          8  ...          10.5     70      US\n",
            "..                         ...   ...        ...  ...           ...    ...     ...\n",
            "401            Ford Mustang GL  27.0          4  ...          15.6     82      US\n",
            "402          Volkswagen Pickup  44.0          4  ...          24.6     82  Europe\n",
            "403              Dodge Rampage  32.0          4  ...          11.6     82      US\n",
            "404                Ford Ranger  28.0          4  ...          18.6     82      US\n",
            "405                 Chevy S-10  31.0          4  ...          19.4     82      US\n",
            "\n",
            "[406 rows x 9 columns]\n",
            "<pandas.core.groupby.generic.DataFrameGroupBy object at 0x7f44a95b3910>\n",
            "<pandas.core.groupby.generic.DataFrameGroupBy object at 0x7f44a94f2810>\n"
          ],
          "name": "stdout"
        }
      ]
    },
    {
      "cell_type": "markdown",
      "metadata": {
        "id": "R13aWYhcb1MM"
      },
      "source": [
        "## GroupBy Object attributes\n",
        "\n",
        "* ***groups*** attribute is a dict whose keys are the computed unique groups and corresponding values being the axis labels belonging to each group\n"
      ]
    },
    {
      "cell_type": "code",
      "metadata": {
        "colab": {
          "base_uri": "https://localhost:8080/"
        },
        "id": "-dmSSYsQb0gc",
        "outputId": "9096a181-efe7-41e1-d272-866785afe00a"
      },
      "source": [
        "import numpy as np\n",
        "import pandas as pd\n",
        "\n",
        "cardata = pd.read_csv(\"https://elasticbeanstalk-us-east-1-712866102994.s3.amazonaws.com/data/Cars.csv\")\n",
        "\n",
        "print(cardata.groupby(\"Origin\").groups)\n",
        "\n",
        "print(cardata.groupby([\"Origin\",\"Model\"]).groups)\n"
      ],
      "execution_count": 23,
      "outputs": [
        {
          "output_type": "stream",
          "text": [
            "{'Europe': [10, 25, 26, 27, 28, 29, 39, 57, 58, 59, 62, 66, 83, 84, 85, 86, 109, 121, 124, 125, 126, 127, 129, 148, 149, 150, 154, 155, 158, 179, 182, 184, 185, 186, 187, 189, 190, 193, 204, 210, 214, 216, 218, 225, 240, 247, 249, 251, 281, 282, 283, 284, 285, 300, 304, 306, 311, 316, 324, 332, 333, 334, 335, 337, 339, 342, 360, 361, 366, 367, 368, 383, 402], 'Japan': [20, 24, 35, 37, 60, 61, 64, 78, 88, 89, 91, 115, 117, 118, 130, 136, 138, 151, 152, 156, 157, 174, 178, 180, 188, 205, 211, 212, 217, 223, 227, 242, 246, 248, 250, 253, 254, 255, 274, 275, 277, 280, 286, 301, 310, 317, 319, 325, 326, 327, 328, 329, 331, 336, 338, 340, 341, 344, 350, 352, 353, 354, 355, 356, 362, 363, 364, 365, 369, 370, 384, 385, 388, 389, 390, 391, 392, 393, 398], 'US': [0, 1, 2, 3, 4, 5, 6, 7, 8, 9, 11, 12, 13, 14, 15, 16, 17, 18, 19, 21, 22, 23, 30, 31, 32, 33, 34, 36, 38, 40, 41, 42, 43, 44, 45, 46, 47, 48, 49, 50, 51, 52, 53, 54, 55, 56, 63, 65, 67, 68, 69, 70, 71, 72, 73, 74, 75, 76, 77, 79, 80, 81, 82, 87, 90, 92, 93, 94, 95, 96, 97, 98, 99, 100, 101, 102, 103, 104, 105, 106, 107, 108, 110, 111, 112, 113, 114, 116, 119, 120, 122, 123, 128, 131, 132, 133, 134, 135, 137, 139, ...]}\n",
            "{('Europe', 70): [10, 25, 26, 27, 28, 29], ('Europe', 71): [39, 57, 58, 59, 62], ('Europe', 72): [66, 83, 84, 85, 86], ('Europe', 73): [109, 121, 124, 125, 126, 127, 129], ('Europe', 74): [148, 149, 150, 154, 155, 158], ('Europe', 75): [179, 182, 184, 185, 186, 187], ('Europe', 76): [189, 190, 193, 204, 210, 214, 216, 218], ('Europe', 77): [225, 240, 247, 249], ('Europe', 78): [251, 281, 282, 283, 284, 285], ('Europe', 79): [300, 304, 306, 311], ('Europe', 80): [316, 324, 332, 333, 334, 335, 337, 339, 342], ('Europe', 81): [360, 361, 366, 367, 368], ('Europe', 82): [383, 402], ('Japan', 70): [20, 24], ('Japan', 71): [35, 37, 60, 61], ('Japan', 72): [64, 78, 88, 89, 91], ('Japan', 73): [115, 117, 118, 130], ('Japan', 74): [136, 138, 151, 152, 156, 157], ('Japan', 75): [174, 178, 180, 188], ('Japan', 76): [205, 211, 212, 217], ('Japan', 77): [223, 227, 242, 246, 248, 250], ('Japan', 78): [253, 254, 255, 274, 275, 277, 280, 286], ('Japan', 79): [301, 310], ('Japan', 80): [317, 319, 325, 326, 327, 328, 329, 331, 336, 338, 340, 341, 344], ('Japan', 81): [350, 352, 353, 354, 355, 356, 362, 363, 364, 365, 369, 370], ('Japan', 82): [384, 385, 388, 389, 390, 391, 392, 393, 398], ('US', 70): [0, 1, 2, 3, 4, 5, 6, 7, 8, 9, 11, 12, 13, 14, 15, 16, 17, 18, 19, 21, 22, 23, 30, 31, 32, 33, 34], ('US', 71): [36, 38, 40, 41, 42, 43, 44, 45, 46, 47, 48, 49, 50, 51, 52, 53, 54, 55, 56, 63], ('US', 72): [65, 67, 68, 69, 70, 71, 72, 73, 74, 75, 76, 77, 79, 80, 81, 82, 87, 90], ('US', 73): [92, 93, 94, 95, 96, 97, 98, 99, 100, 101, 102, 103, 104, 105, 106, 107, 108, 110, 111, 112, 113, 114, 116, 119, 120, 122, 123, 128, 131], ('US', 74): [132, 133, 134, 135, 137, 139, 140, 141, 142, 143, 144, 145, 146, 147, 153], ('US', 75): [159, 160, 161, 162, 163, 164, 165, 166, 167, 168, 169, 170, 171, 172, 173, 175, 176, 177, 181, 183], ('US', 76): [191, 192, 194, 195, 196, 197, 198, 199, 200, 201, 202, 203, 206, 207, 208, 209, 213, 215, 219, 220, 221, 222], ('US', 77): [224, 226, 228, 229, 230, 231, 232, 233, 234, 235, 236, 237, 238, 239, 241, 243, 244, 245], ('US', 78): [252, 256, 257, 258, 259, 260, 261, 262, 263, 264, 265, 266, 267, 268, 269, 270, 271, 272, 273, 276, 278, 279], ('US', 79): [287, 288, 289, 290, 291, 292, 293, 294, 295, 296, 297, 298, 299, 302, 303, 305, 307, 308, 309, 312, 313, 314, 315], ('US', 80): [318, 320, 321, 322, 323, 330, 343], ('US', 81): [345, 346, 347, 348, 349, 351, 357, 358, 359, 371, 372, 373, 374], ('US', 82): [375, 376, 377, 378, 379, 380, 381, 382, 386, 387, 394, 395, 396, 397, 399, 400, 401, 403, 404, 405]}\n"
          ],
          "name": "stdout"
        }
      ]
    },
    {
      "cell_type": "markdown",
      "metadata": {
        "id": "qTPOiy5mfNj4"
      },
      "source": [
        "## [Iterating](https://pandas.pydata.org/docs/user_guide/groupby.html#iterating-through-groups) through the grouped data"
      ]
    },
    {
      "cell_type": "code",
      "metadata": {
        "colab": {
          "base_uri": "https://localhost:8080/"
        },
        "id": "oJsjLK5hgHM7",
        "outputId": "fe0f2fe4-344c-4321-99d3-eeb2bb6a8ed6"
      },
      "source": [
        "import numpy as np\n",
        "import pandas as pd\n",
        "\n",
        "cardata = pd.read_csv(\"https://elasticbeanstalk-us-east-1-712866102994.s3.amazonaws.com/data/Cars.csv\")\n",
        "\n",
        "groupedOrigin = cardata.groupby(\"Origin\")\n",
        "\n",
        "for name,group in groupedOrigin:\n",
        "  print(name)\n",
        "  print(group)"
      ],
      "execution_count": 25,
      "outputs": [
        {
          "output_type": "stream",
          "text": [
            "Europe\n",
            "                              Car   MPG  Cylinders  ...  Acceleration  Model  Origin\n",
            "10           Citroen DS-21 Pallas   0.0          4  ...          17.5     70  Europe\n",
            "25   Volkswagen 1131 Deluxe Sedan  26.0          4  ...          20.5     70  Europe\n",
            "26                    Peugeot 504  25.0          4  ...          17.5     70  Europe\n",
            "27                    Audi 100 LS  24.0          4  ...          14.5     70  Europe\n",
            "28                       Saab 99e  25.0          4  ...          17.5     70  Europe\n",
            "..                            ...   ...        ...  ...           ...    ...     ...\n",
            "366     Peugeot 505s Turbo Diesel  28.1          4  ...          20.4     81  Europe\n",
            "367                     Saab 900s   0.0          4  ...          15.4     81  Europe\n",
            "368                  Volvo Diesel  30.7          6  ...          19.6     81  Europe\n",
            "383           Volkswagen Rabbit l  36.0          4  ...          15.3     82  Europe\n",
            "402             Volkswagen Pickup  44.0          4  ...          24.6     82  Europe\n",
            "\n",
            "[73 rows x 9 columns]\n",
            "Japan\n",
            "                        Car   MPG  Cylinders  ...  Acceleration  Model  Origin\n",
            "20   Toyota Corolla Mark ii  24.0          4  ...          15.0     70   Japan\n",
            "24             Datsun PL510  27.0          4  ...          14.5     70   Japan\n",
            "35             Datsun PL510  27.0          4  ...          14.5     71   Japan\n",
            "37           Toyota Corolla  25.0          4  ...          14.0     71   Japan\n",
            "60      Toyota Corolla 1200  31.0          4  ...          19.0     71   Japan\n",
            "..                      ...   ...        ...  ...           ...    ...     ...\n",
            "390          Toyota Corolla  34.0          4  ...          16.9     82   Japan\n",
            "391             Honda Civic  38.0          4  ...          15.0     82   Japan\n",
            "392      Honda Civic (auto)  32.0          4  ...          15.7     82   Japan\n",
            "393           Datsun 310 GX  38.0          4  ...          16.2     82   Japan\n",
            "398        Toyota Celica GT  32.0          4  ...          13.9     82   Japan\n",
            "\n",
            "[79 rows x 9 columns]\n",
            "US\n",
            "                           Car   MPG  Cylinders  ...  Acceleration  Model  Origin\n",
            "0    Chevrolet Chevelle Malibu  18.0          8  ...          12.0     70      US\n",
            "1            Buick Skylark 320  15.0          8  ...          11.5     70      US\n",
            "2           Plymouth Satellite  18.0          8  ...          11.0     70      US\n",
            "3                AMC Rebel SST  16.0          8  ...          12.0     70      US\n",
            "4                  Ford Torino  17.0          8  ...          10.5     70      US\n",
            "..                         ...   ...        ...  ...           ...    ...     ...\n",
            "400           Chevrolet Camaro  27.0          4  ...          17.3     82      US\n",
            "401            Ford Mustang GL  27.0          4  ...          15.6     82      US\n",
            "403              Dodge Rampage  32.0          4  ...          11.6     82      US\n",
            "404                Ford Ranger  28.0          4  ...          18.6     82      US\n",
            "405                 Chevy S-10  31.0          4  ...          19.4     82      US\n",
            "\n",
            "[254 rows x 9 columns]\n"
          ],
          "name": "stdout"
        }
      ]
    },
    {
      "cell_type": "markdown",
      "metadata": {
        "id": "Qct1UrrbgrDJ"
      },
      "source": [
        "## Selecting specific columns in groups"
      ]
    },
    {
      "cell_type": "code",
      "metadata": {
        "colab": {
          "base_uri": "https://localhost:8080/"
        },
        "id": "M3PqHc8fgv66",
        "outputId": "3d02d346-cd36-491f-c14e-3c94ca7aec2a"
      },
      "source": [
        "import numpy as np\n",
        "import pandas as pd\n",
        "\n",
        "cardata = pd.read_csv(\"https://elasticbeanstalk-us-east-1-712866102994.s3.amazonaws.com/data/Cars.csv\")\n",
        "\n",
        "groupedOrigin = cardata.groupby(\"Origin\")\n",
        "\n",
        "#single column\n",
        "groupedOrigingetModel = groupedOrigin[\"Model\"]\n",
        "\n",
        "for name,group in groupedOrigingetModel:\n",
        "  print(name)\n",
        "  print(group)\n",
        "\n",
        "\n",
        "#mutiple columns\n",
        "\n",
        "groupedOriginModelAcc = cardata[[\"Origin\",\"Model\",\"Acceleration\"]].groupby(\"Origin\")\n",
        "\n",
        "for name,group in groupedOriginModelAcc:\n",
        "  print(name)\n",
        "  print(group)"
      ],
      "execution_count": 38,
      "outputs": [
        {
          "output_type": "stream",
          "text": [
            "Europe\n",
            "10     70\n",
            "25     70\n",
            "26     70\n",
            "27     70\n",
            "28     70\n",
            "       ..\n",
            "366    81\n",
            "367    81\n",
            "368    81\n",
            "383    82\n",
            "402    82\n",
            "Name: Model, Length: 73, dtype: int64\n",
            "Japan\n",
            "20     70\n",
            "24     70\n",
            "35     71\n",
            "37     71\n",
            "60     71\n",
            "       ..\n",
            "390    82\n",
            "391    82\n",
            "392    82\n",
            "393    82\n",
            "398    82\n",
            "Name: Model, Length: 79, dtype: int64\n",
            "US\n",
            "0      70\n",
            "1      70\n",
            "2      70\n",
            "3      70\n",
            "4      70\n",
            "       ..\n",
            "400    82\n",
            "401    82\n",
            "403    82\n",
            "404    82\n",
            "405    82\n",
            "Name: Model, Length: 254, dtype: int64\n",
            "Europe\n",
            "     Origin  Model  Acceleration\n",
            "10   Europe     70          17.5\n",
            "25   Europe     70          20.5\n",
            "26   Europe     70          17.5\n",
            "27   Europe     70          14.5\n",
            "28   Europe     70          17.5\n",
            "..      ...    ...           ...\n",
            "366  Europe     81          20.4\n",
            "367  Europe     81          15.4\n",
            "368  Europe     81          19.6\n",
            "383  Europe     82          15.3\n",
            "402  Europe     82          24.6\n",
            "\n",
            "[73 rows x 3 columns]\n",
            "Japan\n",
            "    Origin  Model  Acceleration\n",
            "20   Japan     70          15.0\n",
            "24   Japan     70          14.5\n",
            "35   Japan     71          14.5\n",
            "37   Japan     71          14.0\n",
            "60   Japan     71          19.0\n",
            "..     ...    ...           ...\n",
            "390  Japan     82          16.9\n",
            "391  Japan     82          15.0\n",
            "392  Japan     82          15.7\n",
            "393  Japan     82          16.2\n",
            "398  Japan     82          13.9\n",
            "\n",
            "[79 rows x 3 columns]\n",
            "US\n",
            "    Origin  Model  Acceleration\n",
            "0       US     70          12.0\n",
            "1       US     70          11.5\n",
            "2       US     70          11.0\n",
            "3       US     70          12.0\n",
            "4       US     70          10.5\n",
            "..     ...    ...           ...\n",
            "400     US     82          17.3\n",
            "401     US     82          15.6\n",
            "403     US     82          11.6\n",
            "404     US     82          18.6\n",
            "405     US     82          19.4\n",
            "\n",
            "[254 rows x 3 columns]\n"
          ],
          "name": "stdout"
        }
      ]
    },
    {
      "cell_type": "markdown",
      "metadata": {
        "id": "P9tRTYVth7F5"
      },
      "source": [
        "#Selecting specific groups\n",
        "\n",
        "* get_group()"
      ]
    },
    {
      "cell_type": "code",
      "metadata": {
        "colab": {
          "base_uri": "https://localhost:8080/"
        },
        "id": "JicMBzizihbM",
        "outputId": "dc397fdf-1fcf-4453-eb17-264870d2cd0c"
      },
      "source": [
        "import numpy as np\n",
        "import pandas as pd\n",
        "\n",
        "cardata = pd.read_csv(\"https://elasticbeanstalk-us-east-1-712866102994.s3.amazonaws.com/data/Cars.csv\")\n",
        "\n",
        "groupedOrigin = cardata.groupby(\"Origin\")\n",
        "\n",
        "print(groupedOrigin.get_group(\"US\"))\n"
      ],
      "execution_count": 32,
      "outputs": [
        {
          "output_type": "stream",
          "text": [
            "                           Car   MPG  Cylinders  ...  Acceleration  Model  Origin\n",
            "0    Chevrolet Chevelle Malibu  18.0          8  ...          12.0     70      US\n",
            "1            Buick Skylark 320  15.0          8  ...          11.5     70      US\n",
            "2           Plymouth Satellite  18.0          8  ...          11.0     70      US\n",
            "3                AMC Rebel SST  16.0          8  ...          12.0     70      US\n",
            "4                  Ford Torino  17.0          8  ...          10.5     70      US\n",
            "..                         ...   ...        ...  ...           ...    ...     ...\n",
            "400           Chevrolet Camaro  27.0          4  ...          17.3     82      US\n",
            "401            Ford Mustang GL  27.0          4  ...          15.6     82      US\n",
            "403              Dodge Rampage  32.0          4  ...          11.6     82      US\n",
            "404                Ford Ranger  28.0          4  ...          18.6     82      US\n",
            "405                 Chevy S-10  31.0          4  ...          19.4     82      US\n",
            "\n",
            "[254 rows x 9 columns]\n"
          ],
          "name": "stdout"
        }
      ]
    },
    {
      "cell_type": "markdown",
      "metadata": {
        "id": "HYcn8E_cjKV1"
      },
      "source": [
        "#Aggregating the groups\n",
        "\n",
        "[Aggregating functions](https://pandas.pydata.org/docs/user_guide/groupby.html#aggregation) are the ones that reduce the dimension of the returned objects. Some common aggregating functions are tabulated below:\n",
        "\n",
        "\n",
        "* mean() - Compute mean of groups\n",
        "\n",
        "* sum() - Compute sum of group values\n",
        "\n",
        "* size() - Compute group sizes\n",
        "\n",
        "* count() - Compute count of group\n",
        "\n",
        "* std() - Standard deviation of groups\n",
        "\n",
        "* var() - Compute variance of groups\n",
        "\n",
        "* sem() - Standard error of the mean of groups\n",
        "\n",
        "* describe() - Generates descriptive statistics\n",
        "\n",
        "* first() - Compute first of group values\n",
        "\n",
        "* last() - Compute last of group values\n",
        "\n",
        "* nth() - Take nth value, or a subset if n is a list\n",
        "\n",
        "* min() - Compute min of group values\n",
        "\n",
        "* max() - Compute max of group value"
      ]
    },
    {
      "cell_type": "code",
      "metadata": {
        "colab": {
          "base_uri": "https://localhost:8080/"
        },
        "id": "ytU2e-4gmdSN",
        "outputId": "e823d7d3-b752-40dd-82cf-6e4f762e9864"
      },
      "source": [
        "import numpy as np\n",
        "import pandas as pd\n",
        "\n",
        "cardata = pd.read_csv(\"https://elasticbeanstalk-us-east-1-712866102994.s3.amazonaws.com/data/Cars.csv\")\n",
        "\n",
        "groupedOrigin = cardata.groupby(\"Origin\")\n",
        "\n",
        "#describe\n",
        "print(groupedOrigin.describe(include = \"all\"))\n",
        "\n",
        "#count()\n",
        "print(groupedOrigin.count())\n",
        "\n",
        "#size()\n",
        "print(groupedOrigin.size())\n",
        "\n",
        "#mean()\n",
        "print(groupedOrigin.mean())\n",
        "\n",
        "#min()\n",
        "print(groupedOrigin.min())\n",
        "\n",
        "#max()\n",
        "print(groupedOrigin.max())\n"
      ],
      "execution_count": 49,
      "outputs": [
        {
          "output_type": "stream",
          "text": [
            "         Car                                      ... Model                        \n",
            "       count unique                top freq mean  ...   min   25%   50%   75%   max\n",
            "Origin                                            ...                              \n",
            "Europe    73     59  Volkswagen Rabbit    5  NaN  ...  70.0  73.0  76.0  79.0  82.0\n",
            "Japan     79     57     Toyota Corolla    9  NaN  ...  70.0  74.0  78.0  81.0  82.0\n",
            "US       254    192         Ford Pinto    6  NaN  ...  70.0  72.0  75.0  78.0  82.0\n",
            "\n",
            "[3 rows x 88 columns]\n",
            "        Car  MPG  Cylinders  ...  Weight  Acceleration  Model\n",
            "Origin                       ...                             \n",
            "Europe   73   73         73  ...      73            73     73\n",
            "Japan    79   79         79  ...      79            79     79\n",
            "US      254  254        254  ...     254           254    254\n",
            "\n",
            "[3 rows x 8 columns]\n",
            "Origin\n",
            "Europe     73\n",
            "Japan      79\n",
            "US        254\n",
            "dtype: int64\n",
            "              MPG  Cylinders  ...  Acceleration      Model\n",
            "Origin                        ...                         \n",
            "Europe  26.745205   4.150685  ...     16.821918  75.739726\n",
            "Japan   30.450633   4.101266  ...     16.172152  77.443038\n",
            "US      19.688189   6.283465  ...     14.942520  75.500000\n",
            "\n",
            "[3 rows x 7 columns]\n",
            "                            Car   MPG  Cylinders  ...  Weight  Acceleration  Model\n",
            "Origin                                            ...                             \n",
            "Europe              Audi 100 LS   0.0          4  ...    1825          12.2     70\n",
            "Japan               Datsun 1200  18.0          3  ...    1613          11.4     70\n",
            "US      AMC Ambassador Brougham   0.0          4  ...    1800           8.0     70\n",
            "\n",
            "[3 rows x 8 columns]\n",
            "                       Car   MPG  Cylinders  ...  Weight  Acceleration  Model\n",
            "Origin                                       ...                             \n",
            "Europe        Volvo Diesel  44.3          6  ...    3820          24.8     82\n",
            "Japan        Toyota Tercel  46.6          6  ...    2930          21.0     82\n",
            "US      Pontiac Ventura SJ  39.0          8  ...    5140          22.2     82\n",
            "\n",
            "[3 rows x 8 columns]\n"
          ],
          "name": "stdout"
        }
      ]
    },
    {
      "cell_type": "markdown",
      "metadata": {
        "id": "0LakvI1WvJd_"
      },
      "source": [
        "#Applying multiple functions simultaneously\n",
        "\n",
        "* use of the [aggregate](https://www.geeksforgeeks.org/python-pandas-dataframe-aggregate/) or agg function"
      ]
    },
    {
      "cell_type": "code",
      "metadata": {
        "colab": {
          "base_uri": "https://localhost:8080/"
        },
        "id": "JMYILt6EvfmO",
        "outputId": "95dc0d87-6b7b-4ff7-9810-e62a88aa5d4e"
      },
      "source": [
        "import numpy as np\n",
        "import pandas as pd\n",
        "\n",
        "cardata = pd.read_csv(\"https://elasticbeanstalk-us-east-1-712866102994.s3.amazonaws.com/data/Cars.csv\")\n",
        "\n",
        "print(cardata.columns)\n",
        "\n",
        "groupedData = cardata[[\"Origin\",\"MPG\",\"Acceleration\",\"Weight\",\"Car\"]].groupby(\"Origin\")\n",
        "\n",
        "for group, ele in groupedData:\n",
        "  print(group)\n",
        "  print(ele)\n",
        "\n",
        "#multiple functions running on all columns\n",
        "print(groupedData.agg([np.mean,np.min,np.max]))\n",
        "#alternative approach\n",
        "print(groupedData.agg([\"mean\",\"min\",\"max\"]))\n",
        "\n",
        "#functions on selected columns\n",
        "print(groupedData[\"MPG\"].agg([np.mean, np.min,np.max]))\n",
        "\n",
        "#specific functions on specific columns\n",
        "\n",
        "print(groupedData.agg({\n",
        "                      \"MPG\":[\"mean\"],\n",
        "                       \"Acceleration\":[\"mean\",\"max\"],\n",
        "                       \"Weight\":[\"min\",\"max\"],\n",
        "                       \"Car\":[\"count\"]\n",
        "\n",
        "}))\n",
        "\n"
      ],
      "execution_count": 63,
      "outputs": [
        {
          "output_type": "stream",
          "text": [
            "Index(['Car', 'MPG', 'Cylinders', 'Displacement', 'Horsepower', 'Weight',\n",
            "       'Acceleration', 'Model', 'Origin'],\n",
            "      dtype='object')\n",
            "Europe\n",
            "     Origin   MPG  Acceleration  Weight                           Car\n",
            "10   Europe   0.0          17.5    3090          Citroen DS-21 Pallas\n",
            "25   Europe  26.0          20.5    1835  Volkswagen 1131 Deluxe Sedan\n",
            "26   Europe  25.0          17.5    2672                   Peugeot 504\n",
            "27   Europe  24.0          14.5    2430                   Audi 100 LS\n",
            "28   Europe  25.0          17.5    2375                      Saab 99e\n",
            "..      ...   ...           ...     ...                           ...\n",
            "366  Europe  28.1          20.4    3230     Peugeot 505s Turbo Diesel\n",
            "367  Europe   0.0          15.4    2800                     Saab 900s\n",
            "368  Europe  30.7          19.6    3160                  Volvo Diesel\n",
            "383  Europe  36.0          15.3    1980           Volkswagen Rabbit l\n",
            "402  Europe  44.0          24.6    2130             Volkswagen Pickup\n",
            "\n",
            "[73 rows x 5 columns]\n",
            "Japan\n",
            "    Origin   MPG  Acceleration  Weight                     Car\n",
            "20   Japan  24.0          15.0    2372  Toyota Corolla Mark ii\n",
            "24   Japan  27.0          14.5    2130            Datsun PL510\n",
            "35   Japan  27.0          14.5    2130            Datsun PL510\n",
            "37   Japan  25.0          14.0    2228          Toyota Corolla\n",
            "60   Japan  31.0          19.0    1773     Toyota Corolla 1200\n",
            "..     ...   ...           ...     ...                     ...\n",
            "390  Japan  34.0          16.9    2245          Toyota Corolla\n",
            "391  Japan  38.0          15.0    1965             Honda Civic\n",
            "392  Japan  32.0          15.7    1965      Honda Civic (auto)\n",
            "393  Japan  38.0          16.2    1995           Datsun 310 GX\n",
            "398  Japan  32.0          13.9    2665        Toyota Celica GT\n",
            "\n",
            "[79 rows x 5 columns]\n",
            "US\n",
            "    Origin   MPG  Acceleration  Weight                        Car\n",
            "0       US  18.0          12.0    3504  Chevrolet Chevelle Malibu\n",
            "1       US  15.0          11.5    3693          Buick Skylark 320\n",
            "2       US  18.0          11.0    3436         Plymouth Satellite\n",
            "3       US  16.0          12.0    3433              AMC Rebel SST\n",
            "4       US  17.0          10.5    3449                Ford Torino\n",
            "..     ...   ...           ...     ...                        ...\n",
            "400     US  27.0          17.3    2950           Chevrolet Camaro\n",
            "401     US  27.0          15.6    2790            Ford Mustang GL\n",
            "403     US  32.0          11.6    2295              Dodge Rampage\n",
            "404     US  28.0          18.6    2625                Ford Ranger\n",
            "405     US  31.0          19.4    2720                 Chevy S-10\n",
            "\n",
            "[254 rows x 5 columns]\n",
            "              MPG             Acceleration                   Weight            \n",
            "             mean  amin  amax         mean  amin  amax         mean  amin  amax\n",
            "Origin                                                                         \n",
            "Europe  26.745205   0.0  44.3    16.821918  12.2  24.8  2431.493151  1825  3820\n",
            "Japan   30.450633  18.0  46.6    16.172152  11.4  21.0  2221.227848  1613  2930\n",
            "US      19.688189   0.0  39.0    14.942520   8.0  22.2  3372.700787  1800  5140\n",
            "              MPG             Acceleration                   Weight            \n",
            "             mean   min   max         mean   min   max         mean   min   max\n",
            "Origin                                                                         \n",
            "Europe  26.745205   0.0  44.3    16.821918  12.2  24.8  2431.493151  1825  3820\n",
            "Japan   30.450633  18.0  46.6    16.172152  11.4  21.0  2221.227848  1613  2930\n",
            "US      19.688189   0.0  39.0    14.942520   8.0  22.2  3372.700787  1800  5140\n",
            "             mean  amin  amax\n",
            "Origin                       \n",
            "Europe  26.745205   0.0  44.3\n",
            "Japan   30.450633  18.0  46.6\n",
            "US      19.688189   0.0  39.0\n",
            "              MPG Acceleration       Weight         Car\n",
            "             mean         mean   max    min   max count\n",
            "Origin                                                 \n",
            "Europe  26.745205    16.821918  24.8   1825  3820    73\n",
            "Japan   30.450633    16.172152  21.0   1613  2930    79\n",
            "US      19.688189    14.942520  22.2   1800  5140   254\n"
          ],
          "name": "stdout"
        }
      ]
    }
  ]
}