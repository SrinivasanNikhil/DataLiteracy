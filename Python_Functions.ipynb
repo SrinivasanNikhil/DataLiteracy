{
  "nbformat": 4,
  "nbformat_minor": 0,
  "metadata": {
    "colab": {
      "name": "Python Functions.ipynb",
      "provenance": [],
      "collapsed_sections": [],
      "authorship_tag": "ABX9TyPeo4LdDt36OZgxr5YLBE2C",
      "include_colab_link": true
    },
    "kernelspec": {
      "name": "python3",
      "display_name": "Python 3"
    }
  },
  "cells": [
    {
      "cell_type": "markdown",
      "metadata": {
        "id": "view-in-github",
        "colab_type": "text"
      },
      "source": [
        "<a href=\"https://colab.research.google.com/github/SrinivasanNikhil/DataLiteracy/blob/master/Python_Functions.ipynb\" target=\"_parent\"><img src=\"https://colab.research.google.com/assets/colab-badge.svg\" alt=\"Open In Colab\"/></a>"
      ]
    },
    {
      "cell_type": "markdown",
      "metadata": {
        "id": "4EIII_eDQ1OS",
        "colab_type": "text"
      },
      "source": [
        "\n",
        "# Python Functions\n",
        "\n",
        "In this notebook the following topics will be covered:\n",
        "\n",
        "1.  Functions\n",
        "        a. Built-in Functions\n",
        "          - Module and their functions\n",
        "        b. User defined functions\n",
        "          - No arguments and no returned data\n",
        "          - Accepting arguments (1 or many)\n",
        "          - Returning data\n",
        "\n",
        "\n",
        "## Python Functions\n",
        "The python programming language provides a vareity of ways for us to interact and manipulate data. Some of these we have seen through the use of variables and various mathematical, conditional, logical and other operators. Another manner in  data may be manipulated is through the use of functions. Fuctions are pre-prgrammed sets of operations dealing with data that are available within python. Below are shown and demonstrated a simple set of functions:\n"
      ]
    },
    {
      "cell_type": "code",
      "metadata": {
        "id": "WP7P0-UqO3n8",
        "colab_type": "code",
        "outputId": "e1205151-b9c3-4969-eba2-5da7b309a838",
        "colab": {
          "base_uri": "https://localhost:8080/",
          "height": 34
        }
      },
      "source": [
        "# The print() function\n",
        "#The print function prints out informaiton that is present within the parentheses. This information may be dta present in variables or explicit strings of text. \n",
        "#The information to be printed out, if there are multiple pieces of informaiton, need to be seperated by commas. \n",
        "\n",
        "name = \"Anthony Gonsalves\"\n",
        "age = 77\n",
        "print(\"My name is \", name, \" and I am \", age, \" years old.\")"
      ],
      "execution_count": 0,
      "outputs": [
        {
          "output_type": "stream",
          "text": [
            "My name is  Anthony Gonsalves  and I am  77  years old.\n"
          ],
          "name": "stdout"
        }
      ]
    },
    {
      "cell_type": "markdown",
      "metadata": {
        "id": "6CsEQQqsRjHb",
        "colab_type": "text"
      },
      "source": [
        "#### Please write a set of print statetments that will print out the following ticket\n",
        "\n",
        "![Python Ticket Example](https://elasticbeanstalk-us-east-1-712866102994.s3.amazonaws.com/PythonTicketEx.png)\n"
      ]
    },
    {
      "cell_type": "code",
      "metadata": {
        "id": "WxbGrV0feYKS",
        "colab_type": "code",
        "colab": {}
      },
      "source": [
        "#Code the ticket example here in this code block\n",
        "\n",
        "\n",
        "\n",
        "\n",
        "#End of code block"
      ],
      "execution_count": 0,
      "outputs": []
    },
    {
      "cell_type": "code",
      "metadata": {
        "id": "HHHCXdAVPaIP",
        "colab_type": "code",
        "outputId": "5c3bf4e0-3b35-4af7-d2b7-97bfbe3cd50c",
        "colab": {
          "base_uri": "https://localhost:8080/",
          "height": 68
        }
      },
      "source": [
        "# The input function\n",
        "#The input function provides the user with a prompt to have the user enter in some data stores that data if necessary in appropriate variables.\n",
        "\n",
        "name = input(\"What is your name ? \")\n",
        "age = input(\"What is your age ? \")\n",
        "print(\"My name is \", name, \" and I am \", age, \" years old.\")"
      ],
      "execution_count": 0,
      "outputs": [
        {
          "output_type": "stream",
          "text": [
            "What is your name ?Anthony\n",
            "What is your age ?99\n",
            "My name is  Anthony  and I am  99  years old.\n"
          ],
          "name": "stdout"
        }
      ]
    },
    {
      "cell_type": "markdown",
      "metadata": {
        "id": "GWHZCkIMYvBm",
        "colab_type": "text"
      },
      "source": [
        "#### Please write a set of print statetments that will print out the following ticket.\n",
        "\n",
        "In this case however use the input statement to take in the name of the organization, the price of the ticket and the value of winnings. Use the inputs to modify the ticket printed below.\n",
        "\n",
        "![Python Ticket Example](https://elasticbeanstalk-us-east-1-712866102994.s3.amazonaws.com/PythonTicketEx.png)\n",
        "\n"
      ]
    },
    {
      "cell_type": "code",
      "metadata": {
        "id": "ICdMRftvmXwZ",
        "colab_type": "code",
        "colab": {}
      },
      "source": [
        "#Code the ticket example here in this code block\n",
        "\n",
        "\n",
        "\n",
        "\n",
        "#End of code block"
      ],
      "execution_count": 0,
      "outputs": []
    },
    {
      "cell_type": "code",
      "metadata": {
        "id": "h2msX2m7Q0Gp",
        "colab_type": "code",
        "colab": {
          "base_uri": "https://localhost:8080/",
          "height": 34
        },
        "outputId": "5d2eb6ec-fe2d-4949-eb44-1154858e0c3e"
      },
      "source": [
        "#The type function\n",
        "# the type function provides the data type of a variable be it a text, numeric, sequence or other type of data\n",
        "\n",
        "name = \"Anthony Gonsalves\"\n",
        "type(name)"
      ],
      "execution_count": 1,
      "outputs": [
        {
          "output_type": "execute_result",
          "data": {
            "text/plain": [
              "str"
            ]
          },
          "metadata": {
            "tags": []
          },
          "execution_count": 1
        }
      ]
    },
    {
      "cell_type": "markdown",
      "metadata": {
        "id": "XF1BX9WLcZRj",
        "colab_type": "text"
      },
      "source": [
        "### Module and functions\n",
        "Python has a vareity of modules that contain functions that aid with a vareity of data analysis tasks. To use the functions in a module one needs to import the module and subsequently use the functions in them. "
      ]
    },
    {
      "cell_type": "code",
      "metadata": {
        "id": "-5BbXXMyffNs",
        "colab_type": "code",
        "colab": {
          "base_uri": "https://localhost:8080/",
          "height": 85
        },
        "outputId": "c1365a7e-9019-4170-96a2-19a8631c7a04"
      },
      "source": [
        "#The math module provides a vareity of math based functions. Informaiton about the functions provided by the module\n",
        "#is available at https://docs.python.org/3/library/math.html\n",
        "import math #import the math module before using functions in it.\n",
        "\n",
        "num = math.sqrt(33) #precede the function in the module with the name of the module\n",
        "print(num)\n",
        "\n",
        "num = math.pow(11,11)\n",
        "print(num)\n",
        "\n",
        "#The random module provides a set of functions to generate random sequences, and numbers depending\n",
        "#on the functions used. Here is the documentation for the random module\n",
        "# https://docs.python.org/3/library/random.html \n",
        "\n",
        "import random\n",
        "\n",
        "num = random.random() # the random function returns a random FP number between 0.0 and 1.0\n",
        "print(num)\n",
        "\n",
        "num = random.randrange(10,20) # returns a random number within a range\n",
        "print(num)\n"
      ],
      "execution_count": 19,
      "outputs": [
        {
          "output_type": "stream",
          "text": [
            "5.744562646538029\n",
            "285311670611.0\n",
            "0.6293261440135892\n",
            "12\n"
          ],
          "name": "stdout"
        }
      ]
    },
    {
      "cell_type": "markdown",
      "metadata": {
        "id": "kWvxOuKDmN_4",
        "colab_type": "text"
      },
      "source": [
        "## User Defined functions\n",
        "A user can build their own functions in Python as well. One of the reasons to write functions is to encapsulate discrete functionality. The writing of functions enables a programmer to reuse that functionality as needed in their script or application.\n",
        "There are 4 basic types of UDF's\n",
        "\n",
        "1.   Functions that take no input or output\n",
        "2.   Functions that take input parameters\n",
        "3.   Functions that return output.\n",
        "4.   Fuctions that take inputs and return outputs."
      ]
    },
    {
      "cell_type": "code",
      "metadata": {
        "id": "LDDoimFnohqM",
        "colab_type": "code",
        "colab": {
          "base_uri": "https://localhost:8080/",
          "height": 68
        },
        "outputId": "12e1604a-784d-4b07-d633-7c5d80e49bac"
      },
      "source": [
        "# Functions with no input or output\n",
        "\n",
        "def aFunction(): #a function is defined using a def clause, the def clause is followed by the name of the function, parentheses and a semi-colon\n",
        "  print(\"This is a function that prints a statement like this.\") #all the statements that followed need to be tabbed in and are part of the function\n",
        "  print(\"Both these print statements are tabbed in.\")\n",
        "  print(\"The Tab key is the key above the Caps lock button.\")\n",
        "\n",
        "aFunction()"
      ],
      "execution_count": 22,
      "outputs": [
        {
          "output_type": "stream",
          "text": [
            "This is a function that prints a statement like this.\n",
            "Both these print statements are tabbed in.\n",
            "the Tab key si the key above the Caps lock button.\n"
          ],
          "name": "stdout"
        }
      ]
    },
    {
      "cell_type": "code",
      "metadata": {
        "id": "7uJkk5TUpkCr",
        "colab_type": "code",
        "colab": {
          "base_uri": "https://localhost:8080/",
          "height": 119
        },
        "outputId": "1980c22f-fc89-40f8-ae5f-d7536d90c102"
      },
      "source": [
        "#Function that takes input parameters/arguments\n",
        "\n",
        "def aFunctionWithParams(param1, param2): # a function can take 1 or more parameters or arguments and process them\n",
        "  print(\"Parameter 1: \", param1)\n",
        "  print(\"Parameter 2: \", param2)\n",
        "  theProduct = param1 * param2\n",
        "  print(\"The product of the 2 parameters is \", theProduct,\"\\n\")\n",
        "\n",
        "aFunctionWithParams(23,32)\n",
        "\n",
        "def anotherFunction(name, age): #name and age are the names of inputs to the function\n",
        "  age = age * 2 #age is multiplioed by 2 inside the function\n",
        "  print(\"The value of name INSIDE the function is \", name, \" and the value of age INSIDE the function is \", age)\n",
        "\n",
        "name = \"Anthony Gonsalves\" #delared and initialized a value for name\n",
        "age = 89 #delared and initialized a value for age\n",
        "\n",
        "anotherFunction(name,age) #using the name and age variables as inputs to the function anotherFunction\n",
        "print(\"The value of name OUTSIDE the function is \", name, \" and the value of age OUTSIDE the function is \", age)\n",
        "\n",
        "#NOTE: No matter how age is changed inside the function, the value it has outside the function stays the same."
      ],
      "execution_count": 26,
      "outputs": [
        {
          "output_type": "stream",
          "text": [
            "Parameter 1:  23\n",
            "Parameter 2:  32\n",
            "The product of the 2 parameters is  736 \n",
            "\n",
            "The value of name INSIDE the function is  Anthony Gonsalves  and the value of age INSIDE the function is  178\n",
            "The value of name OUTSIDE the function is  Anthony Gonsalves  and the value of age OUTSIDE the function is  89\n"
          ],
          "name": "stdout"
        }
      ]
    },
    {
      "cell_type": "code",
      "metadata": {
        "id": "AdOrFUwcu7fP",
        "colab_type": "code",
        "colab": {
          "base_uri": "https://localhost:8080/",
          "height": 34
        },
        "outputId": "40d586ff-9468-47b6-91b5-0e85b6582d95"
      },
      "source": [
        "#Function that returns a result\n",
        "import random #importing the random class\n",
        "\n",
        "def aFunctionReturnsResult():\n",
        "  numberA = abs(100*random.random()) #generate a random number between 0 and 1, convert it into a number between 1 and 100 and get the absolute value\n",
        "  numberB = abs(100*random.random())\n",
        "  return numberA*numberB #multiple randomA and randomB, the return keyword is important to actually return the value of the product of the 2 numbers\n",
        "\n",
        "\n",
        "aNumber = aFunctionReturnsResult() #aNumber is used to store the returned value from the function.\n",
        "print(aNumber)"
      ],
      "execution_count": 27,
      "outputs": [
        {
          "output_type": "stream",
          "text": [
            "335.24409613944636\n"
          ],
          "name": "stdout"
        }
      ]
    },
    {
      "cell_type": "code",
      "metadata": {
        "id": "_pLXJi5Y1Kgt",
        "colab_type": "code",
        "colab": {
          "base_uri": "https://localhost:8080/",
          "height": 51
        },
        "outputId": "0e03b60b-2661-46e4-d22f-9f158bfe8e07"
      },
      "source": [
        "#Functions that take parameters/arguments and also return results\n",
        "\n",
        "import random #importing the random class\n",
        "\n",
        "def aFunctionDoingBoth(param1):\n",
        "  numberA = abs(100*random.random()) #generate a random number between 0 and 1, convert it into a number between 1 and 100 and get the absolute value\n",
        "  return numberA*param1 \n",
        "\n",
        "aNumber = input(\"Please enter a number :\")\n",
        "#NOTE: when a user is typing in a value the data type is actually stored as a string. To use it as a number you need to typecast it or CAST it. That has been done below.\n",
        "\n",
        "\n",
        "returnedResult = aFunctionDoingBoth(float(aNumber)) #using a function here float to convert the input that the user types in into a float numerical value\n",
        "\n",
        "print(\"The product of the number you have entered and a random number is \", returnedResult)\n"
      ],
      "execution_count": 32,
      "outputs": [
        {
          "output_type": "stream",
          "text": [
            "Please enter a number :133\n",
            "The product of the number you have entered and a random number is  9488.11953868167\n"
          ],
          "name": "stdout"
        }
      ]
    },
    {
      "cell_type": "markdown",
      "metadata": {
        "id": "UFyxUGTb4d_A",
        "colab_type": "text"
      },
      "source": [
        "### Please write a set of print statetments that will print out the following ticket.\n",
        "\n",
        "In this case however use the input statement to take in the name of the organization, the price of the ticket and the value of winnings. Use the inputs to modify the ticket printed below.\n",
        "\n",
        "Also create and use functions to print out parts of the ticket. \n",
        "1. Treat the first 4 lines of the ticket as 1 function\n",
        "2. Treat the 5th line as 1 function\n",
        "3. Treat the 6-8th lines as 1 function.\n",
        "\n",
        "![Python Ticket Example](https://elasticbeanstalk-us-east-1-712866102994.s3.amazonaws.com/PythonTicketEx.png)\n",
        "\n"
      ]
    },
    {
      "cell_type": "code",
      "metadata": {
        "id": "FExdK31H54cw",
        "colab_type": "code",
        "colab": {}
      },
      "source": [
        "#Code the ticket example here in this code block\n",
        "\n",
        "\n",
        "\n",
        "\n",
        "#End of code block"
      ],
      "execution_count": 0,
      "outputs": []
    }
  ]
}