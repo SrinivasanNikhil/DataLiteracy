{
  "nbformat": 4,
  "nbformat_minor": 0,
  "metadata": {
    "colab": {
      "name": "Introduction to Python.ipynb",
      "provenance": [],
      "collapsed_sections": [],
      "authorship_tag": "ABX9TyOCizJpxDD6iYKkENWIrVfC",
      "include_colab_link": true
    },
    "kernelspec": {
      "name": "python3",
      "display_name": "Python 3"
    }
  },
  "cells": [
    {
      "cell_type": "markdown",
      "metadata": {
        "id": "view-in-github",
        "colab_type": "text"
      },
      "source": [
        "<a href=\"https://colab.research.google.com/github/SrinivasanNikhil/DataLiteracy/blob/master/Introduction_to_Python.ipynb\" target=\"_parent\"><img src=\"https://colab.research.google.com/assets/colab-badge.svg\" alt=\"Open In Colab\"/></a>"
      ]
    },
    {
      "cell_type": "markdown",
      "metadata": {
        "id": "Qen6E_yG2XkK",
        "colab_type": "text"
      },
      "source": [
        "# INTRODUCTION TO PYTHON\n",
        "\n",
        "This notebook contains an introduction to basic programatic concepts in python btu also that apply to other programming languages. \n",
        "\n",
        "Topics covered\n",
        "\n",
        "\n",
        "1.   Variables\n",
        "2.   Data Types\n",
        "3.   Operators\n",
        "4.   Simple Functions\n",
        "\n",
        "\n",
        "\n"
      ]
    },
    {
      "cell_type": "markdown",
      "metadata": {
        "id": "sF2_mFoPkPc2",
        "colab_type": "text"
      },
      "source": [
        "## VARIABLES\n",
        "\n",
        "Variables are containers or memory locations on a computer that can used to store data or hold values. A program can have 0, 1 or many variables and the data or values in these variables can be manipulated or changed as the program executes. \n",
        "\n",
        "To use a variable one has to both declare it and initialize it. That means that one has to specify the name of the variable that one wants to use (delaration) and then subsequently one has to provide that variable with a value (initialization). \n",
        "\n",
        "Depending on the programming language variables can either hold data of one type (called static typing) or a variable can hold data to any type (called dynamic typing). Python is a language that is dynamically typed or the variables can hold data of any type and can change over the course of the program. "
      ]
    },
    {
      "cell_type": "code",
      "metadata": {
        "id": "O0qIngD82WoI",
        "colab_type": "code",
        "colab": {}
      },
      "source": [
        "# Declaring 3 variables x, y and z\n",
        "x = 2\n",
        "y = \"She sells sea shells\"\n",
        "z = 3.1432"
      ],
      "execution_count": 0,
      "outputs": []
    },
    {
      "cell_type": "code",
      "metadata": {
        "id": "jxpeLXQquZFa",
        "colab_type": "code",
        "outputId": "7db77993-1176-4bb7-e69d-74c1ac2e903f",
        "colab": {
          "base_uri": "https://localhost:8080/",
          "height": 34
        }
      },
      "source": [
        "#Printing the contents of the z variable\n",
        "z"
      ],
      "execution_count": 0,
      "outputs": [
        {
          "output_type": "execute_result",
          "data": {
            "text/plain": [
              "3.1432"
            ]
          },
          "metadata": {
            "tags": []
          },
          "execution_count": 7
        }
      ]
    },
    {
      "cell_type": "markdown",
      "metadata": {
        "id": "bTdVhVVIDHPO",
        "colab_type": "text"
      },
      "source": [
        "Note: In the Google Colab environment, typing out the name of a variable prints out the contents of the variable. However if we want that content displayed and persisted we need to use a function that's built in python such as the print function whose use is displayed below"
      ]
    },
    {
      "cell_type": "code",
      "metadata": {
        "id": "kzrJ_qWrurBu",
        "colab_type": "code",
        "outputId": "c7fe6cdd-6d0c-471b-c4a3-6c591eb5e55f",
        "colab": {
          "base_uri": "https://localhost:8080/",
          "height": 68
        }
      },
      "source": [
        "#One can print the contents of all 3 variables using a built in function called print\n",
        "#The print function takes a parameter i.e. input, within parentheses () that is the variable\n",
        "#or string you would like printed out.\n",
        "print(x)\n",
        "print(y)\n",
        "print(z)"
      ],
      "execution_count": 0,
      "outputs": [
        {
          "output_type": "stream",
          "text": [
            "2\n",
            "She sells sea shells\n",
            "3.1432\n"
          ],
          "name": "stdout"
        }
      ]
    },
    {
      "cell_type": "markdown",
      "metadata": {
        "id": "fIpXn1Tm3kRU",
        "colab_type": "text"
      },
      "source": [
        "## DATA TYPES\n",
        "\n",
        "Like most programming languages, python supports a vareity of different types of data that may be stored in variables. \n",
        "\n",
        "Python has the following data types\n",
        "\n",
        "*   Text - str\n",
        "*   Numeric - int, float, complex\n",
        "*   Boolean - bool\n",
        "*   Sequence - list, tuple, range (more information in future modules)\n",
        "*   Set - set (more information in future modules)\n",
        "\n",
        "and others that we may touch on if needed. \n",
        "\n",
        "\n"
      ]
    },
    {
      "cell_type": "code",
      "metadata": {
        "colab_type": "code",
        "outputId": "93faa2c6-9caf-4fee-df44-3f6f759ea3fd",
        "id": "XBhm7bOsGvu5",
        "colab": {
          "base_uri": "https://localhost:8080/",
          "height": 34
        }
      },
      "source": [
        "#Text or str data type\n",
        "aString = \"My name is Anthony Gonsalves\"\n",
        "#the type() function allows you to examine the type of a variable\n",
        "type(aString) #should display str"
      ],
      "execution_count": 0,
      "outputs": [
        {
          "output_type": "execute_result",
          "data": {
            "text/plain": [
              "str"
            ]
          },
          "metadata": {
            "tags": []
          },
          "execution_count": 8
        }
      ]
    },
    {
      "cell_type": "code",
      "metadata": {
        "id": "dfVvKnnbG54I",
        "colab_type": "code",
        "outputId": "5faeb89f-d488-4cb7-9848-0b144cc5ec5c",
        "colab": {
          "base_uri": "https://localhost:8080/",
          "height": 255
        }
      },
      "source": [
        "#Numeric - int data type\n",
        "anIntNumber = 23\n",
        "\n",
        "print(\"The variable anIntNumber is \" , anIntNumber)\n",
        "print(\"The type of the variable anIntNumber is \" , type(anIntNumber)) #this will print out the type of the variable i.e. int\n",
        "print()\n",
        "\n",
        "#Explicit declaration of a data type using int()\n",
        "anIntAgain = int(32) \n",
        "\n",
        "#Numeric - float data type\n",
        "aFloatNumber = 99.2345\n",
        "print(\"The variable aFloatNumber is \" , aFloatNumber)\n",
        "print(\"The type of the variable aFloatNumber is \" , type(aFloatNumber)) #this will print out the type of the variable i.e. int\n",
        "print()\n",
        "\n",
        "#Numeric - complex data type\n",
        "aComplexNumber = 2j\n",
        "print(\"The variable aComplexNumber is \" , aComplexNumber)\n",
        "print(\"The type of the variable aComplexNumber is \" , type(aComplexNumber)) #this will print out the type of the variable i.e. int\n",
        "print()\n",
        "\n",
        "#Boolean - bool data type\n",
        "aBoolean = True\n",
        "print(\"The variable aBoolean is \" , aBoolean)\n",
        "print(\"The type of the variable aBoolean is \" , type(aBoolean)) #this will print out the type of the variable i.e. int\n",
        "print()\n",
        "\n",
        "#Sequence - list data type\n",
        "aListOfNumbers = [23,34,81,1,10]\n",
        "print(\"Printing aListOfNumbers \",aListOfNumbers)\n",
        "\n",
        "aListOfStrings = [\"My\",\"Name\",\"is\",\"Anthony\",\"Gonsalves\"]\n",
        "print(\"Printing aListOfStrings \",aListOfStrings)\n",
        "\n",
        "#Sequence - tuple data type"
      ],
      "execution_count": 0,
      "outputs": [
        {
          "output_type": "stream",
          "text": [
            "The variable anIntNumber is  23\n",
            "The type of the variable anIntNumber is  <class 'int'>\n",
            "\n",
            "The variable aFloatNumber is  99.2345\n",
            "The type of the variable aFloatNumber is  <class 'float'>\n",
            "\n",
            "The variable aComplexNumber is  2j\n",
            "The type of the variable aComplexNumber is  <class 'complex'>\n",
            "\n",
            "The variable aBoolean is  True\n",
            "The type of the variable aBoolean is  <class 'bool'>\n",
            "\n",
            "Printing aListOfNumbers  [23, 34, 81, 1, 10]\n",
            "Printing aListOfStrings  ['My', 'Name', 'is', 'Anthony', 'Gonsalves']\n"
          ],
          "name": "stdout"
        }
      ]
    },
    {
      "cell_type": "markdown",
      "metadata": {
        "id": "-QLehX3T_CqS",
        "colab_type": "text"
      },
      "source": [
        "## OPERATORS\n",
        "\n",
        "Operators are used to perform operations on variables or values. There are a vareity of operators available in python such as\n",
        "\n",
        "1.   Arithmetic operators\n",
        "2.   Assignment operators\n",
        "3.   Comparison operators\n",
        "4.   Logical operators\n",
        "5.   Identity operators (not covered)\n",
        "2.   Membership operators (covered later)\n"
      ]
    },
    {
      "cell_type": "code",
      "metadata": {
        "id": "GX3to2yl_pfx",
        "colab_type": "code",
        "outputId": "b36973c3-5f82-49c5-b1da-4193512c8611",
        "colab": {
          "base_uri": "https://localhost:8080/",
          "height": 119
        }
      },
      "source": [
        "#ARITHMETIC OPERATORS\n",
        "\n",
        "# + \n",
        "x = 3\n",
        "y = 5\n",
        "print(\"Addition operator \", x + y)\n",
        "\n",
        "# -\n",
        "x = 3\n",
        "y = 5\n",
        "print(\"Subtraction operator \", x - y)\n",
        "\n",
        "# *\n",
        "x = 3\n",
        "y = 5\n",
        "print(\"Multiplication operator \", x * y)\n",
        "\n",
        "# /\n",
        "x = 3\n",
        "y = 5\n",
        "print(\"Division operator \", x / y)\n",
        "\n",
        "# % (Remainder of a long division)\n",
        "x = 3\n",
        "y = 5\n",
        "print(\"Modulo operator \", y % x)\n",
        "\n",
        "# **\n",
        "x = 3\n",
        "y = 5\n",
        "print(\"Exponent operator \", x ** y)\n",
        "\n"
      ],
      "execution_count": 0,
      "outputs": [
        {
          "output_type": "stream",
          "text": [
            "Addition operator  8\n",
            "Subtraction operator  -2\n",
            "Multiplication operator  15\n",
            "Division operator  0.6\n",
            "Modulo operator  2\n",
            "Exponent operator  243\n"
          ],
          "name": "stdout"
        }
      ]
    },
    {
      "cell_type": "code",
      "metadata": {
        "id": "ODVYBitO_s0A",
        "colab_type": "code",
        "outputId": "49eb7a8b-5ef8-4434-b69d-2fc6b7690c2e",
        "colab": {
          "base_uri": "https://localhost:8080/",
          "height": 68
        }
      },
      "source": [
        "#ASSIGNMENT OPERATORS\n",
        "\n",
        "# = - Used to assign values to variables\n",
        "x = 77\n",
        "y = 23\n",
        "print(\"Assignment operator \", x, y)\n",
        "\n",
        "z = x + y # z is assigned the sum of the values stored in x and y\n",
        "print(\"The value of z is \", z)\n",
        "\n",
        "\n",
        "# += - Used to both increment and assign a value to variables\n",
        "\n",
        "x = 7\n",
        "x += 3 # this adds the value 3 to the value of x and then stores the result in x again\n",
        "        # similar to x = x + 3\n",
        "print(\"The += operator \", x)\n",
        "\n",
        "#Similar to the += operator there are the following operators\n",
        "# -=  Subtract and store the result in x\n",
        "# *=  Multiply and store the result in x\n",
        "# /=  Divide and store the result in x\n",
        "# and others related to the %, ** amoung others\n"
      ],
      "execution_count": 0,
      "outputs": [
        {
          "output_type": "stream",
          "text": [
            "Assignment operator  77 23\n",
            "The value of z is  100\n",
            "The += operator  10\n"
          ],
          "name": "stdout"
        }
      ]
    },
    {
      "cell_type": "code",
      "metadata": {
        "id": "2q9aZn2H_vXp",
        "colab_type": "code",
        "outputId": "00a9e604-2381-4524-8f21-e9466d60e137",
        "colab": {
          "base_uri": "https://localhost:8080/",
          "height": 119
        }
      },
      "source": [
        "#COMPARISON OPERATORS\n",
        "\n",
        "x = 3\n",
        "y = 5\n",
        "z = 3\n",
        "\n",
        "# == Equals operator - Compare 2 values and either return if the comparison is TRUE OR FALSE\n",
        "\n",
        "print(\"Is x equal to y ? \",x == y)\n",
        "\n",
        "# != Not Equals operator - Compare 2 values and either return if the comparison is TRUE OR FALSE\n",
        "\n",
        "print(\"Is x not equal to y ? \",x != y)\n",
        "\n",
        "# > Greater than operator - Compare 2 values and either return if the comparison is TRUE OR FALSE\n",
        "\n",
        "print(\"Is x greater than y ? \",x > y)\n",
        "\n",
        "# < Less than operator - Compare 2 values and either return if the comparison is TRUE OR FALSE\n",
        "\n",
        "print(\"Is x less than y ? \",x < y)\n",
        "\n",
        "# >= Greater than equals to operator - Compare 2 values and either return if the comparison is TRUE OR FALSE\n",
        "\n",
        "print(\"Is x greater than or equal to z ? \",x >= z)\n",
        "\n",
        "# <= Less than equals to operator - Compare 2 values and either return if the comparison is TRUE OR FALSE\n",
        "\n",
        "print(\"Is x lesser than or equal to z ? \",x<= z)\n"
      ],
      "execution_count": 0,
      "outputs": [
        {
          "output_type": "stream",
          "text": [
            "Is x equal to y ?  False\n",
            "Is x not equal to y ?  True\n",
            "Is x greater than y ?  False\n",
            "Is x less than y ?  True\n",
            "Is x greater than or equal to z ?  True\n",
            "Is x lesser than or equal to z ?  True\n"
          ],
          "name": "stdout"
        }
      ]
    },
    {
      "cell_type": "code",
      "metadata": {
        "id": "VMbOs50z_wNt",
        "colab_type": "code",
        "outputId": "637522b7-b0a4-4cc6-e6c7-15176510f6db",
        "colab": {
          "base_uri": "https://localhost:8080/",
          "height": 51
        }
      },
      "source": [
        "#LOGICAL OPERATORS\n",
        "\n",
        "x = 3\n",
        "y = 5\n",
        "z = 7\n",
        "\n",
        "# and - checks if multiple conditions are true\n",
        "\n",
        "print(\"is z greater than y AND y greater than x \", (z > y and y > x))\n",
        "\n",
        "\n",
        "# or - checks if either of the conditions are true\n",
        "\n",
        "print(\"is x greater than y OR z greater than y \", (x > y or z > y))\n"
      ],
      "execution_count": 0,
      "outputs": [
        {
          "output_type": "stream",
          "text": [
            "is z greater than y AND y greater than x  True\n",
            "is x greater than y OR z greater than y  True\n"
          ],
          "name": "stdout"
        }
      ]
    },
    {
      "cell_type": "markdown",
      "metadata": {
        "id": "3d3cVAn5pwCX",
        "colab_type": "text"
      },
      "source": [
        "## SIMPLE FUNCTIONS\n",
        "\n",
        "Python has a vareity of functions that provide simple functionality to a user.\n",
        "\n",
        "\n",
        "1.  print()\n",
        "2.  type()\n",
        "\n",
        "A comprehensive list with the use of the functions is present here \n",
        "https://docs.python.org/3/library/functions.html\n",
        "\n",
        "Results of a function may be passed to another function such as the result of the type function which provides the data type of a variable may be provided to the print function so as to print the date type of a variable.\n",
        "\n"
      ]
    },
    {
      "cell_type": "code",
      "metadata": {
        "id": "GZhGrGsYtjyq",
        "colab_type": "code",
        "outputId": "f24434dc-d574-447d-dfe7-c4374dbcc903",
        "colab": {
          "base_uri": "https://localhost:8080/",
          "height": 34
        }
      },
      "source": [
        "aList = [\"apples\",\"bananas\",\"strawberries\"]\n",
        "print(\"The data type of aList is \", type(aList))"
      ],
      "execution_count": 0,
      "outputs": [
        {
          "output_type": "stream",
          "text": [
            "The data type of aList is  <class 'list'>\n"
          ],
          "name": "stdout"
        }
      ]
    },
    {
      "cell_type": "markdown",
      "metadata": {
        "id": "KfHjefBduUHp",
        "colab_type": "text"
      },
      "source": [
        "### Object specific methods\n",
        "\n",
        "Certain types of data/objects also have data or object specific functions available to them. For instance, string data i.e. strings/text have a set of methods or operations that may specifically apply to that type of data. \n",
        "This is true for certain types of data/objects including strings, lists, tuples, sets, files among others. \n",
        "\n",
        "#### String methods\n",
        "\n",
        "Some common string methods are\n",
        "\n",
        "1.  .split(delim)\n",
        "2.  .upper()\n",
        "3.  .lower()\n",
        "4.  .replace(old,new)\n",
        "5.  .find(substring)\n",
        "\n",
        "Details about the string functions and the manner of their use can be found at this location\n",
        "\n",
        "https://docs.python.org/3.8/library/stdtypes.html#string-methods\n",
        "\n",
        "We will see use of these and similar functions in future modules.\n",
        "\n",
        "Other types of data/objects have smilar methods that we shall examine in future modules or as we use the objects.\n"
      ]
    }
  ]
}