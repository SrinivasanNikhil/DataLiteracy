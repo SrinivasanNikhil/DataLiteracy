{
  "nbformat": 4,
  "nbformat_minor": 0,
  "metadata": {
    "colab": {
      "name": "MyFirstNotebook.ipynb",
      "provenance": [],
      "collapsed_sections": [],
      "authorship_tag": "ABX9TyMeQF/H2Ooksd0w37yPN/0+",
      "include_colab_link": true
    },
    "kernelspec": {
      "name": "python3",
      "display_name": "Python 3"
    }
  },
  "cells": [
    {
      "cell_type": "markdown",
      "metadata": {
        "id": "view-in-github",
        "colab_type": "text"
      },
      "source": [
        "<a href=\"https://colab.research.google.com/github/SrinivasanNikhil/DataLiteracy/blob/master/MyFirstNotebook.ipynb\" target=\"_parent\"><img src=\"https://colab.research.google.com/assets/colab-badge.svg\" alt=\"Open In Colab\"/></a>"
      ]
    },
    {
      "cell_type": "markdown",
      "metadata": {
        "id": "OeJJj771OXK8",
        "colab_type": "text"
      },
      "source": [
        "# INTRODUCTION\n",
        "\n",
        "This is my first python notebook. In this notebook I will be writing some python code as part of the introduction to python module. \n",
        "\n",
        "\n",
        "\n",
        "1.   Hello World example\n",
        "2.   Variable Example\n",
        "\n"
      ]
    },
    {
      "cell_type": "code",
      "metadata": {
        "id": "KPlyDnnfPYRq",
        "colab_type": "code",
        "colab": {
          "base_uri": "https://localhost:8080/",
          "height": 85
        },
        "outputId": "c3f06424-9332-4bde-e9ca-e399ef638787"
      },
      "source": [
        "print(\"Hello World!!\")\n",
        "print(\"This is me talking and not the computer!!!\")\n",
        "print()\n",
        "print(\"A text string after a blank line\")"
      ],
      "execution_count": 3,
      "outputs": [
        {
          "output_type": "stream",
          "text": [
            "Hello World!!\n",
            "This is me talking and not the computer!!!\n",
            "\n",
            "A text string after a blank line\n"
          ],
          "name": "stdout"
        }
      ]
    },
    {
      "cell_type": "markdown",
      "metadata": {
        "id": "XHh71jp4QL74",
        "colab_type": "text"
      },
      "source": [
        "### VARIABLES\n",
        "\n",
        "Variables are a way to store and manage data within an application or program. Variables have names. These names are unique within the application or program. \n",
        "Names are used to assign or modify the value of the variables."
      ]
    },
    {
      "cell_type": "code",
      "metadata": {
        "id": "oNcQyZp3QnWY",
        "colab_type": "code",
        "colab": {
          "base_uri": "https://localhost:8080/",
          "height": 51
        },
        "outputId": "2afc3475-cf51-4f59-bf42-cf85c9a94d8c"
      },
      "source": [
        "#Declaring a variable\n",
        "myName = \"Anthony Gonsalves\"\n",
        "print(myName)\n",
        "print(\"My name is \", myName, \".\")"
      ],
      "execution_count": 5,
      "outputs": [
        {
          "output_type": "stream",
          "text": [
            "Anthony Gonsalves\n",
            "My name is  Anthony Gonsalves .\n"
          ],
          "name": "stdout"
        }
      ]
    }
  ]
}